{
 "cells": [
  {
   "cell_type": "markdown",
   "id": "efe12ddf",
   "metadata": {},
   "source": [
    "### Code by Denis Loechel as part of master thesis on synthetic data generation"
   ]
  },
  {
   "cell_type": "code",
   "execution_count": 24,
   "id": "c8693b2b",
   "metadata": {},
   "outputs": [],
   "source": [
    "#Importing packages\n",
    "import pandas as pd\n",
    "from sdmetrics.single_table import NumericalLR\n",
    "from sdmetrics.single_table import LogisticDetection\n",
    "import json\n",
    "import warnings"
   ]
  },
  {
   "cell_type": "code",
   "execution_count": 25,
   "id": "f89dd27e",
   "metadata": {},
   "outputs": [],
   "source": [
    "# Ignoring warnings \n",
    "warnings.filterwarnings(\"ignore\")"
   ]
  },
  {
   "cell_type": "markdown",
   "id": "40e9a8d0",
   "metadata": {},
   "source": [
    "# CTGAN"
   ]
  },
  {
   "cell_type": "markdown",
   "id": "a223a3fd",
   "metadata": {},
   "source": [
    "## 500 epochs"
   ]
  },
  {
   "cell_type": "markdown",
   "id": "9265111d",
   "metadata": {},
   "source": [
    "### Privacy Inference"
   ]
  },
  {
   "cell_type": "code",
   "execution_count": 28,
   "id": "78c9cf7f",
   "metadata": {},
   "outputs": [
    {
     "data": {
      "text/plain": [
       "0.7398083260200553"
      ]
     },
     "execution_count": 28,
     "metadata": {},
     "output_type": "execute_result"
    }
   ],
   "source": [
    "# Importing our datasets\n",
    "real_table=pd.read_csv(\"20230308_Updated_HR_dataset.csv\")\n",
    "synthetic_table=pd.read_csv(\"synthetic_dataset_CTGAN_epochs500.csv\")\n",
    "\n",
    "# Running the numerical logistic regression on the real and synthetic dataset\n",
    "NumericalLR.compute(\n",
    "    real_data=real_table,\n",
    "    synthetic_data=synthetic_table,\n",
    "    # key fields that the attacker will have access to\n",
    "    key_fields=[\"GenderID\", \"MarriedID\", \"YearofHire\", \"Absences\", \"DaysLateLast30\"],\n",
    "    # key fields we would like to protect from inference attack\n",
    "    sensitive_fields=[\"CitizenDesc\", \"Termd\", \"EmpID\", \"Salary\", \"DeptID\", \"ManagerID\", \"PositionID\"]\n",
    ")"
   ]
  },
  {
   "cell_type": "markdown",
   "id": "174952ec",
   "metadata": {},
   "source": [
    "### Logistic Detection"
   ]
  },
  {
   "cell_type": "code",
   "execution_count": 29,
   "id": "ca55e73f",
   "metadata": {},
   "outputs": [
    {
     "data": {
      "text/plain": [
       "0.14657183221309433"
      ]
     },
     "execution_count": 29,
     "metadata": {},
     "output_type": "execute_result"
    }
   ],
   "source": [
    "# Importing our datasets\n",
    "real_table=pd.read_csv(\"20230308_Updated_HR_dataset.csv\")\n",
    "synthetic_table=pd.read_csv(\"synthetic_dataset_CTGAN_epochs500.csv\")\n",
    "\n",
    "# Running the logistic detection model metrics to calculate how difficult \n",
    "#it is to tell apart the real data from the synthetic data\n",
    "LogisticDetection.compute(\n",
    "    real_data=real_table,\n",
    "    synthetic_data=synthetic_table,\n",
    "metadata=json.load(open(\"metadata.json\", \"r\"))\n",
    ")"
   ]
  },
  {
   "cell_type": "markdown",
   "id": "2f314f5b",
   "metadata": {},
   "source": [
    "## 1000 epochs"
   ]
  },
  {
   "cell_type": "markdown",
   "id": "73da2675",
   "metadata": {},
   "source": [
    "### Privacy Inference"
   ]
  },
  {
   "cell_type": "code",
   "execution_count": 27,
   "id": "dbf3a70a",
   "metadata": {},
   "outputs": [
    {
     "data": {
      "text/plain": [
       "0.6904482803555052"
      ]
     },
     "execution_count": 27,
     "metadata": {},
     "output_type": "execute_result"
    }
   ],
   "source": [
    "# Importing our datasets\n",
    "real_table=pd.read_csv(\"20230308_Updated_HR_dataset.csv\")\n",
    "synthetic_table=pd.read_csv(\"synthetic_dataset_CTGAN_epochs1000.csv\")\n",
    "\n",
    "# Running the numerical logistic regression on the real and synthetic dataset\n",
    "NumericalLR.compute(\n",
    "    real_data=real_table,\n",
    "    synthetic_data=synthetic_table,\n",
    "    # key fields that the attacker will have access to\n",
    "    key_fields=[\"GenderID\", \"MarriedID\", \"YearofHire\", \"Absences\", \"DaysLateLast30\"],\n",
    "    # key fields we would like to protect from inference attack\n",
    "    sensitive_fields=[\"CitizenDesc\", \"Termd\", \"EmpID\", \"Salary\", \"DeptID\", \"ManagerID\", \"PositionID\"]\n",
    ")"
   ]
  },
  {
   "cell_type": "markdown",
   "id": "5b231e0c",
   "metadata": {},
   "source": [
    "### Logistic Detection"
   ]
  },
  {
   "cell_type": "code",
   "execution_count": 30,
   "id": "f46ce94e",
   "metadata": {},
   "outputs": [
    {
     "data": {
      "text/plain": [
       "0.21242895195419464"
      ]
     },
     "execution_count": 30,
     "metadata": {},
     "output_type": "execute_result"
    }
   ],
   "source": [
    "# Importing our datasets\n",
    "real_table=pd.read_csv(\"20230308_Updated_HR_dataset.csv\")\n",
    "synthetic_table=pd.read_csv(\"synthetic_dataset_CTGAN_epochs1000.csv\")\n",
    "\n",
    "# Running the logistic detection model metrics to calculate how difficult \n",
    "#it is to tell apart the real data from the synthetic data\n",
    "LogisticDetection.compute(\n",
    "    real_data=real_table,\n",
    "    synthetic_data=synthetic_table,\n",
    "metadata=json.load(open(\"metadata.json\", \"r\"))\n",
    ")"
   ]
  },
  {
   "cell_type": "markdown",
   "id": "f3245795",
   "metadata": {},
   "source": [
    "## 1500 epochs"
   ]
  },
  {
   "cell_type": "markdown",
   "id": "c248e9c9",
   "metadata": {},
   "source": [
    "### Privacy Inference"
   ]
  },
  {
   "cell_type": "code",
   "execution_count": 123,
   "id": "bb47f3a3",
   "metadata": {},
   "outputs": [
    {
     "data": {
      "text/plain": [
       "0.8520271510772343"
      ]
     },
     "execution_count": 123,
     "metadata": {},
     "output_type": "execute_result"
    }
   ],
   "source": [
    "# Importing our datasets\n",
    "real_table=pd.read_csv(\"20230308_Updated_HR_dataset.csv\")\n",
    "synthetic_table=pd.read_csv(\"synthetic_dataset_CTGAN_epochs1500.csv\")\n",
    "\n",
    "# Running the numerical logistic regression on the real and synthetic dataset\n",
    "NumericalLR.compute(\n",
    "    real_data=real_table,\n",
    "    synthetic_data=synthetic_table,\n",
    "    # key fields that the attacker will have access to\n",
    "    key_fields=[\"GenderID\", \"MarriedID\", \"YearofHire\", \"Absences\", \"DaysLateLast30\"],\n",
    "    # key fields we would like to protect from inference attack\n",
    "    sensitive_fields=[\"CitizenDesc\", \"Termd\", \"EmpID\", \"Salary\", \"DeptID\", \"ManagerID\", \"PositionID\"]\n",
    ")"
   ]
  },
  {
   "cell_type": "markdown",
   "id": "2d9a39ee",
   "metadata": {},
   "source": [
    "### Logistic Detection"
   ]
  },
  {
   "cell_type": "code",
   "execution_count": 31,
   "id": "95a0de47",
   "metadata": {},
   "outputs": [
    {
     "data": {
      "text/plain": [
       "0.21177241722678597"
      ]
     },
     "execution_count": 31,
     "metadata": {},
     "output_type": "execute_result"
    }
   ],
   "source": [
    "# Importing our datasets\n",
    "real_table=pd.read_csv(\"20230308_Updated_HR_dataset.csv\")\n",
    "synthetic_table=pd.read_csv(\"synthetic_dataset_CTGAN_epochs1500.csv\")\n",
    "\n",
    "# Running the logistic detection model metrics to calculate how difficult \n",
    "#it is to tell apart the real data from the synthetic data\n",
    "LogisticDetection.compute(\n",
    "    real_data=real_table,\n",
    "    synthetic_data=synthetic_table,\n",
    "metadata=json.load(open(\"metadata.json\", \"r\"))\n",
    ")"
   ]
  },
  {
   "cell_type": "markdown",
   "id": "69942c94",
   "metadata": {},
   "source": [
    "## 2000 epochs"
   ]
  },
  {
   "cell_type": "markdown",
   "id": "601f6590",
   "metadata": {},
   "source": [
    "### Privacy Inference"
   ]
  },
  {
   "cell_type": "code",
   "execution_count": 44,
   "id": "a4c345e6",
   "metadata": {},
   "outputs": [
    {
     "data": {
      "text/plain": [
       "0.7619436709693943"
      ]
     },
     "execution_count": 44,
     "metadata": {},
     "output_type": "execute_result"
    }
   ],
   "source": [
    "# Importing our datasets\n",
    "real_table=pd.read_csv(\"20230308_Updated_HR_dataset.csv\")\n",
    "synthetic_table=pd.read_csv(\"synthetic_dataset_CTGAN_epochs2000.csv\")\n",
    "\n",
    "# Running the numerical logistic regression on the real and synthetic dataset\n",
    "NumericalLR.compute(\n",
    "    real_data=real_table,\n",
    "    synthetic_data=synthetic_table,\n",
    "    # key fields that the attacker will have access to\n",
    "    key_fields=[\"GenderID\", \"MarriedID\", \"YearofHire\", \"Absences\", \"DaysLateLast30\"],\n",
    "    # key fields we would like to protect from inference attack\n",
    "    sensitive_fields=[\"CitizenDesc\", \"Termd\", \"EmpID\", \"Salary\", \"DeptID\", \"ManagerID\", \"PositionID\"]\n",
    ")"
   ]
  },
  {
   "cell_type": "markdown",
   "id": "b0562505",
   "metadata": {},
   "source": [
    "### Logistic Detection"
   ]
  },
  {
   "cell_type": "code",
   "execution_count": 45,
   "id": "73d576ec",
   "metadata": {},
   "outputs": [
    {
     "data": {
      "text/plain": [
       "0.1631172392332586"
      ]
     },
     "execution_count": 45,
     "metadata": {},
     "output_type": "execute_result"
    }
   ],
   "source": [
    "# Importing our datasets\n",
    "real_table=pd.read_csv(\"20230308_Updated_HR_dataset.csv\")\n",
    "synthetic_table=pd.read_csv(\"synthetic_dataset_CTGAN_epochs2000.csv\")\n",
    "\n",
    "# Running the logistic detection model metrics to calculate how difficult \n",
    "#it is to tell apart the real data from the synthetic data\n",
    "LogisticDetection.compute(\n",
    "    real_data=real_table,\n",
    "    synthetic_data=synthetic_table,\n",
    "metadata=json.load(open(\"metadata.json\", \"r\"))\n",
    ")"
   ]
  },
  {
   "cell_type": "markdown",
   "id": "85d5ffcd",
   "metadata": {},
   "source": [
    "# CopulaGAN"
   ]
  },
  {
   "cell_type": "markdown",
   "id": "b8a8bc72",
   "metadata": {},
   "source": [
    "## 500 epochs"
   ]
  },
  {
   "cell_type": "markdown",
   "id": "60676241",
   "metadata": {},
   "source": [
    "### Privacy Inference"
   ]
  },
  {
   "cell_type": "code",
   "execution_count": 36,
   "id": "594dcc19",
   "metadata": {},
   "outputs": [
    {
     "data": {
      "text/plain": [
       "0.8228049495006052"
      ]
     },
     "execution_count": 36,
     "metadata": {},
     "output_type": "execute_result"
    }
   ],
   "source": [
    "# Importing our datasets\n",
    "real_table=pd.read_csv(\"20230308_Updated_HR_dataset.csv\")\n",
    "synthetic_table=pd.read_csv(\"synthetic_dataset_CopulaGANepochs500.csv\")\n",
    "\n",
    "# Running the numerical logistic regression on the real and synthetic dataset\n",
    "NumericalLR.compute(\n",
    "    real_data=real_table,\n",
    "    synthetic_data=synthetic_table,\n",
    "    # key fields that the attacker will have access to\n",
    "    key_fields=[\"GenderID\", \"MarriedID\", \"YearofHire\", \"Absences\", \"DaysLateLast30\"],\n",
    "    # key fields we would like to protect from inference attack\n",
    "    sensitive_fields=[\"CitizenDesc\", \"Termd\", \"EmpID\", \"Salary\", \"DeptID\", \"ManagerID\", \"PositionID\"]\n",
    ")"
   ]
  },
  {
   "cell_type": "markdown",
   "id": "a120402f",
   "metadata": {},
   "source": [
    "### Logistic Detection"
   ]
  },
  {
   "cell_type": "code",
   "execution_count": 37,
   "id": "7f8fb939",
   "metadata": {},
   "outputs": [
    {
     "data": {
      "text/plain": [
       "0.22911226039332833"
      ]
     },
     "execution_count": 37,
     "metadata": {},
     "output_type": "execute_result"
    }
   ],
   "source": [
    "# Importing our datasets\n",
    "real_table=pd.read_csv(\"20230308_Updated_HR_dataset.csv\")\n",
    "synthetic_table=pd.read_csv(\"synthetic_dataset_CopulaGANepochs500.csv\")\n",
    "\n",
    "# Running the logistic detection model metrics to calculate how difficult \n",
    "#it is to tell apart the real data from the synthetic data\n",
    "LogisticDetection.compute(\n",
    "    real_data=real_table,\n",
    "    synthetic_data=synthetic_table,\n",
    "metadata=json.load(open(\"metadata.json\", \"r\"))\n",
    ")"
   ]
  },
  {
   "cell_type": "markdown",
   "id": "8a733105",
   "metadata": {},
   "source": [
    "## 1000 epochs"
   ]
  },
  {
   "cell_type": "markdown",
   "id": "1745cd2d",
   "metadata": {},
   "source": [
    "### Privacy Inference"
   ]
  },
  {
   "cell_type": "code",
   "execution_count": 38,
   "id": "6c223cfb",
   "metadata": {},
   "outputs": [
    {
     "data": {
      "text/plain": [
       "0.7758843983412084"
      ]
     },
     "execution_count": 38,
     "metadata": {},
     "output_type": "execute_result"
    }
   ],
   "source": [
    "# Importing our datasets\n",
    "real_table=pd.read_csv(\"20230308_Updated_HR_dataset.csv\")\n",
    "synthetic_table=pd.read_csv(\"synthetic_dataset_CopulaGANepochs1000.csv\")\n",
    "\n",
    "# Running the numerical logistic regression on the real and synthetic dataset\n",
    "NumericalLR.compute(\n",
    "    real_data=real_table,\n",
    "    synthetic_data=synthetic_table,\n",
    "    # key fields that the attacker will have access to\n",
    "    key_fields=[\"GenderID\", \"MarriedID\", \"YearofHire\", \"Absences\", \"DaysLateLast30\"],\n",
    "    # key fields we would like to protect from inference attack\n",
    "    sensitive_fields=[\"CitizenDesc\", \"Termd\", \"EmpID\", \"Salary\", \"DeptID\", \"ManagerID\", \"PositionID\"]\n",
    ")"
   ]
  },
  {
   "cell_type": "markdown",
   "id": "e37771a6",
   "metadata": {},
   "source": [
    "### Logistic Detection"
   ]
  },
  {
   "cell_type": "code",
   "execution_count": 39,
   "id": "7c7046af",
   "metadata": {},
   "outputs": [
    {
     "data": {
      "text/plain": [
       "0.10700664675130689"
      ]
     },
     "execution_count": 39,
     "metadata": {},
     "output_type": "execute_result"
    }
   ],
   "source": [
    "# Importing our datasets\n",
    "real_table=pd.read_csv(\"20230308_Updated_HR_dataset.csv\")\n",
    "synthetic_table=pd.read_csv(\"synthetic_dataset_CopulaGANepochs1000.csv\")\n",
    "\n",
    "# Running the logistic detection model metrics to calculate how difficult \n",
    "#it is to tell apart the real data from the synthetic data\n",
    "LogisticDetection.compute(\n",
    "    real_data=real_table,\n",
    "    synthetic_data=synthetic_table,\n",
    "metadata=json.load(open(\"metadata.json\", \"r\"))\n",
    ")"
   ]
  },
  {
   "cell_type": "markdown",
   "id": "97a87bcf",
   "metadata": {},
   "source": [
    "## 1500 epochs"
   ]
  },
  {
   "cell_type": "markdown",
   "id": "37a17d95",
   "metadata": {},
   "source": [
    "### Privacy Inference"
   ]
  },
  {
   "cell_type": "code",
   "execution_count": 40,
   "id": "ce006542",
   "metadata": {},
   "outputs": [
    {
     "data": {
      "text/plain": [
       "0.820579482360653"
      ]
     },
     "execution_count": 40,
     "metadata": {},
     "output_type": "execute_result"
    }
   ],
   "source": [
    "# Importing our datasets\n",
    "real_table=pd.read_csv(\"20230308_Updated_HR_dataset.csv\")\n",
    "synthetic_table=pd.read_csv(\"synthetic_dataset_CopulaGANepochs1500.csv\")\n",
    "\n",
    "# Running the numerical logistic regression on the real and synthetic dataset\n",
    "NumericalLR.compute(\n",
    "    real_data=real_table,\n",
    "    synthetic_data=synthetic_table,\n",
    "    # key fields that the attacker will have access to\n",
    "    key_fields=[\"GenderID\", \"MarriedID\", \"YearofHire\", \"Absences\", \"DaysLateLast30\"],\n",
    "    # key fields we would like to protect from inference attack\n",
    "    sensitive_fields=[\"CitizenDesc\", \"Termd\", \"EmpID\", \"Salary\", \"DeptID\", \"ManagerID\", \"PositionID\"]\n",
    ")"
   ]
  },
  {
   "cell_type": "markdown",
   "id": "7b3cd71a",
   "metadata": {},
   "source": [
    "### Logistic Detection"
   ]
  },
  {
   "cell_type": "code",
   "execution_count": 41,
   "id": "a698fbd0",
   "metadata": {},
   "outputs": [
    {
     "data": {
      "text/plain": [
       "0.07617271595718178"
      ]
     },
     "execution_count": 41,
     "metadata": {},
     "output_type": "execute_result"
    }
   ],
   "source": [
    "# Importing our datasets\n",
    "real_table=pd.read_csv(\"20230308_Updated_HR_dataset.csv\")\n",
    "synthetic_table=pd.read_csv(\"synthetic_dataset_CopulaGANepochs1500.csv\")\n",
    "\n",
    "# Running the logistic detection model metrics to calculate how difficult \n",
    "#it is to tell apart the real data from the synthetic data\n",
    "LogisticDetection.compute(\n",
    "    real_data=real_table,\n",
    "    synthetic_data=synthetic_table,\n",
    "metadata=json.load(open(\"metadata.json\", \"r\"))\n",
    ")"
   ]
  },
  {
   "cell_type": "markdown",
   "id": "cd486b02",
   "metadata": {},
   "source": [
    "## 2000 epochs"
   ]
  },
  {
   "cell_type": "markdown",
   "id": "34493085",
   "metadata": {},
   "source": [
    "### Privacy Inference"
   ]
  },
  {
   "cell_type": "code",
   "execution_count": 42,
   "id": "293b70c7",
   "metadata": {},
   "outputs": [
    {
     "data": {
      "text/plain": [
       "0.7723378836127905"
      ]
     },
     "execution_count": 42,
     "metadata": {},
     "output_type": "execute_result"
    }
   ],
   "source": [
    "# Importing our datasets\n",
    "real_table=pd.read_csv(\"20230308_Updated_HR_dataset.csv\")\n",
    "synthetic_table=pd.read_csv(\"synthetic_dataset_CopulaGANepochs2000.csv\")\n",
    "\n",
    "# Running the numerical logistic regression on the real and synthetic dataset\n",
    "NumericalLR.compute(\n",
    "    real_data=real_table,\n",
    "    synthetic_data=synthetic_table,\n",
    "    # key fields that the attacker will have access to\n",
    "    key_fields=[\"GenderID\", \"MarriedID\", \"YearofHire\", \"Absences\", \"DaysLateLast30\"],\n",
    "    # key fields we would like to protect from inference attack\n",
    "    sensitive_fields=[\"CitizenDesc\", \"Termd\", \"EmpID\", \"Salary\", \"DeptID\", \"ManagerID\", \"PositionID\"]\n",
    ")"
   ]
  },
  {
   "cell_type": "markdown",
   "id": "818a4580",
   "metadata": {},
   "source": [
    "### Logistic Detection"
   ]
  },
  {
   "cell_type": "code",
   "execution_count": 43,
   "id": "2e98922e",
   "metadata": {},
   "outputs": [
    {
     "data": {
      "text/plain": [
       "0.4099094224545682"
      ]
     },
     "execution_count": 43,
     "metadata": {},
     "output_type": "execute_result"
    }
   ],
   "source": [
    "# Importing our datasets\n",
    "real_table=pd.read_csv(\"20230308_Updated_HR_dataset.csv\")\n",
    "synthetic_table=pd.read_csv(\"synthetic_dataset_CopulaGANepochs2000.csv\")\n",
    "\n",
    "# Running the logistic detection model metrics to calculate how difficult \n",
    "#it is to tell apart the real data from the synthetic data\n",
    "LogisticDetection.compute(\n",
    "    real_data=real_table,\n",
    "    synthetic_data=synthetic_table,\n",
    "metadata=json.load(open(\"metadata.json\", \"r\"))\n",
    ")"
   ]
  },
  {
   "cell_type": "markdown",
   "id": "7a06e550",
   "metadata": {},
   "source": [
    "# Documentation References "
   ]
  },
  {
   "cell_type": "markdown",
   "id": "0f5db81c",
   "metadata": {},
   "source": [
    "Privacy Inference: https://docs.sdv.dev/sdmetrics/metrics/metrics-in-beta/privacy-against-inference\n",
    "Privacy and Security metrics: https://docs.sdv.dev/sdmetrics/metrics/metrics-glossary\n",
    "Logistic Detection: https://docs.sdv.dev/sdmetrics/metrics/metrics-in-beta/detection-single-table\n",
    "NLR: https://docs.sdv.dev/sdmetrics/metrics/metrics-in-beta/privacy-against-inference#numerical-data"
   ]
  }
 ],
 "metadata": {
  "kernelspec": {
   "display_name": "Python 3 (ipykernel)",
   "language": "python",
   "name": "python3"
  },
  "language_info": {
   "codemirror_mode": {
    "name": "ipython",
    "version": 3
   },
   "file_extension": ".py",
   "mimetype": "text/x-python",
   "name": "python",
   "nbconvert_exporter": "python",
   "pygments_lexer": "ipython3",
   "version": "3.9.16"
  }
 },
 "nbformat": 4,
 "nbformat_minor": 5
}
