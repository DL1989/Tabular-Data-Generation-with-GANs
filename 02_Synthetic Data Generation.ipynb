{
 "cells": [
  {
   "cell_type": "markdown",
   "id": "0518c4d2",
   "metadata": {},
   "source": [
    "### Code by Denis Loechel as part of master thesis on synthetic data generation"
   ]
  },
  {
   "cell_type": "markdown",
   "id": "8b01c22b",
   "metadata": {},
   "source": [
    "# Importing libraries"
   ]
  },
  {
   "cell_type": "code",
   "execution_count": 1,
   "id": "18451edc",
   "metadata": {},
   "outputs": [],
   "source": [
    "# Standard packages\n",
    "import pandas as pd\n",
    "import numpy as np\n",
    "import matplotlib.pyplot as plt\n",
    "# CTGAN \n",
    "from sdv.tabular import CTGAN\n",
    "from sdv.evaluation import evaluate\n",
    "from ctgan import CTGAN, load_demo\n",
    "from sdv.sampling import Condition\n",
    "from sdv.tabular import CopulaGAN\n",
    "from sdv.sampling import Condition\n",
    "\n",
    "#Packages for AdaSyn\n",
    "from imblearn.over_sampling import ADASYN\n",
    "\n",
    "# File handling\n",
    "import sys\n",
    "from io import StringIO\n",
    "# Synthetic data quality assessment\n",
    "import math\n",
    "from sklearn.metrics.pairwise import euclidean_distances\n",
    "from sklearn.model_selection import train_test_split\n",
    "from sklearn.linear_model import LinearRegression\n",
    "from scipy.stats import wasserstein_distance\n",
    "\n",
    "# Assessments\n",
    "from sdmetrics import load_demo\n",
    "from sdmetrics.reports.single_table import QualityReport\n",
    "from sdmetrics.reports.single_table import DiagnosticReport\n",
    "from sdmetrics.reports.utils import get_column_plot\n",
    "from sdmetrics.reports import utils\n",
    "from sdmetrics.column_pairs import CorrelationSimilarity\n",
    "import json"
   ]
  },
  {
   "cell_type": "code",
   "execution_count": 2,
   "id": "05e9fa1d",
   "metadata": {},
   "outputs": [],
   "source": [
    "# Uploading our previous HR dataset\n",
    "data = pd.read_csv(\"20230308_Updated_HR_dataset.csv\")"
   ]
  },
  {
   "cell_type": "code",
   "execution_count": 70,
   "id": "a7453872",
   "metadata": {},
   "outputs": [
    {
     "data": {
      "text/plain": [
       "(311, 18)"
      ]
     },
     "execution_count": 70,
     "metadata": {},
     "output_type": "execute_result"
    }
   ],
   "source": [
    "# Check to see if everything is the way it should be \n",
    "data.shape"
   ]
  },
  {
   "cell_type": "markdown",
   "id": "287a295a",
   "metadata": {},
   "source": [
    "## Approach 1: CTGAN"
   ]
  },
  {
   "cell_type": "code",
   "execution_count": 393,
   "id": "eaa02a68",
   "metadata": {
    "scrolled": true
   },
   "outputs": [
    {
     "name": "stderr",
     "output_type": "stream",
     "text": [
      "Sampling conditions:   0%|                            | 0/15000 [00:00<?, ?it/s]/Users/denisloechel/opt/anaconda3/envs/Test/lib/python3.9/site-packages/sdv/tabular/base.py:599: FutureWarning: In a future version of pandas, a length 1 tuple will be returned when iterating over a groupby with a grouper equal to a list of length 1. Don't supply a list with a single grouper to avoid this warning.\n",
      "  for group, dataframe in grouped_conditions:\n",
      "/Users/denisloechel/opt/anaconda3/envs/Test/lib/python3.9/site-packages/sdv/tabular/base.py:632: FutureWarning: In a future version of pandas, a length 1 tuple will be returned when iterating over a groupby with a grouper equal to a list of length 1. Don't supply a list with a single grouper to avoid this warning.\n",
      "  for transformed_group, transformed_dataframe in transformed_groups:\n",
      "Sampling conditions:  33%|█████▎          | 4996/15000 [00:06<00:13, 723.68it/s]/Users/denisloechel/opt/anaconda3/envs/Test/lib/python3.9/site-packages/sdv/tabular/base.py:632: FutureWarning: In a future version of pandas, a length 1 tuple will be returned when iterating over a groupby with a grouper equal to a list of length 1. Don't supply a list with a single grouper to avoid this warning.\n",
      "  for transformed_group, transformed_dataframe in transformed_groups:\n",
      "Sampling conditions:  67%|██████████▋     | 9980/15000 [00:18<00:11, 451.28it/s]/Users/denisloechel/opt/anaconda3/envs/Test/lib/python3.9/site-packages/sdv/tabular/base.py:632: FutureWarning: In a future version of pandas, a length 1 tuple will be returned when iterating over a groupby with a grouper equal to a list of length 1. Don't supply a list with a single grouper to avoid this warning.\n",
      "  for transformed_group, transformed_dataframe in transformed_groups:\n",
      "Sampling conditions: 100%|███████████████| 15000/15000 [00:19<00:00, 772.95it/s]\n"
     ]
    }
   ],
   "source": [
    "# For some reason I needed to import these packages again even though I already did it above\n",
    "from sdv.tabular import CTGAN\n",
    "from sdv.sampling import Condition\n",
    "\n",
    "# Sampling all columns\n",
    "target_columns = data.columns.tolist()\n",
    "\n",
    "# Making sure we are able to save the verbose i.e. the discriminator and generator output per epoch\n",
    "verbose_output = StringIO()\n",
    "sys.stdout = verbose_output\n",
    "\n",
    "# CTGAN model with custom hyperparameters \n",
    "model = CTGAN(\n",
    "    generator_lr=1e-5,\n",
    "    #generator_decay=1e-4,\n",
    "    discriminator_lr=1e-5,\n",
    "    #discriminator_decay=1e-4,\n",
    "    generator_dim=(256,256,256),\n",
    "    discriminator_dim=(256,256,256),\n",
    "    epochs=10000,\n",
    "    batch_size=1000,\n",
    "    verbose=True\n",
    ")\n",
    "\n",
    "# Fit the model to the data\n",
    "model.fit(data[target_columns])\n",
    "\n",
    "sys.stdout = sys.__stdout__\n",
    "\n",
    "# Defining the conditions to alleviate our class imbalance for the CitizenDesc column\n",
    "condition_0 = Condition({'CitizenDesc': 0}, num_rows=5000)  \n",
    "condition_1 = Condition({'CitizenDesc': 1}, num_rows=5000)  \n",
    "condition_2 = Condition({'CitizenDesc': 2}, num_rows=5000)\n",
    "\n",
    "# Generating synthetic data based on our conditions above\n",
    "synthetic_data = model.sample_conditions(\n",
    "    conditions=[condition_0, condition_1, condition_2],\n",
    "    max_tries_per_batch=1000\n",
    ")"
   ]
  },
  {
   "cell_type": "code",
   "execution_count": 394,
   "id": "d7445af0",
   "metadata": {},
   "outputs": [],
   "source": [
    "# Passing the verbose output to a pandas dataframe \n",
    "df_verbose = pd.DataFrame([x.split(',') for x in verbose_output.getvalue().split('\\n')[:-1]], \n",
    "                          columns=[\"epoch\", \"g_loss\", \"d_loss\"])\n",
    "\n",
    "# Converting epoch column to int \n",
    "df_verbose[\"epoch\"] = df_verbose[\"epoch\"].str.replace(\"Epoch\" , '').astype(int)\n",
    "\n",
    "# Removing all text so that we can chart below\n",
    "df_verbose[\"g_loss\"] = df_verbose[\"g_loss\"].str.replace(\"Loss G: \", '').astype(float)\n",
    "df_verbose[\"d_loss\"] = df_verbose[\"d_loss\"].str.replace(\"Loss D: \", '').astype(float)"
   ]
  },
  {
   "cell_type": "code",
   "execution_count": 395,
   "id": "ac396ee2",
   "metadata": {},
   "outputs": [
    {
     "data": {
      "text/html": [
       "<div>\n",
       "<style scoped>\n",
       "    .dataframe tbody tr th:only-of-type {\n",
       "        vertical-align: middle;\n",
       "    }\n",
       "\n",
       "    .dataframe tbody tr th {\n",
       "        vertical-align: top;\n",
       "    }\n",
       "\n",
       "    .dataframe thead th {\n",
       "        text-align: right;\n",
       "    }\n",
       "</style>\n",
       "<table border=\"1\" class=\"dataframe\">\n",
       "  <thead>\n",
       "    <tr style=\"text-align: right;\">\n",
       "      <th></th>\n",
       "      <th>epoch</th>\n",
       "      <th>g_loss</th>\n",
       "      <th>d_loss</th>\n",
       "    </tr>\n",
       "  </thead>\n",
       "  <tbody>\n",
       "    <tr>\n",
       "      <th>0</th>\n",
       "      <td>1</td>\n",
       "      <td>0.0052</td>\n",
       "      <td>-0.0075</td>\n",
       "    </tr>\n",
       "    <tr>\n",
       "      <th>1</th>\n",
       "      <td>2</td>\n",
       "      <td>-0.0080</td>\n",
       "      <td>-0.0074</td>\n",
       "    </tr>\n",
       "    <tr>\n",
       "      <th>2</th>\n",
       "      <td>3</td>\n",
       "      <td>0.0043</td>\n",
       "      <td>-0.0053</td>\n",
       "    </tr>\n",
       "    <tr>\n",
       "      <th>3</th>\n",
       "      <td>4</td>\n",
       "      <td>0.0052</td>\n",
       "      <td>-0.0038</td>\n",
       "    </tr>\n",
       "    <tr>\n",
       "      <th>4</th>\n",
       "      <td>5</td>\n",
       "      <td>-0.0023</td>\n",
       "      <td>-0.0048</td>\n",
       "    </tr>\n",
       "    <tr>\n",
       "      <th>...</th>\n",
       "      <td>...</td>\n",
       "      <td>...</td>\n",
       "      <td>...</td>\n",
       "    </tr>\n",
       "    <tr>\n",
       "      <th>9994</th>\n",
       "      <td>9995</td>\n",
       "      <td>0.3164</td>\n",
       "      <td>-0.4681</td>\n",
       "    </tr>\n",
       "    <tr>\n",
       "      <th>9995</th>\n",
       "      <td>9996</td>\n",
       "      <td>0.1455</td>\n",
       "      <td>-0.7475</td>\n",
       "    </tr>\n",
       "    <tr>\n",
       "      <th>9996</th>\n",
       "      <td>9997</td>\n",
       "      <td>0.1212</td>\n",
       "      <td>-0.5300</td>\n",
       "    </tr>\n",
       "    <tr>\n",
       "      <th>9997</th>\n",
       "      <td>9998</td>\n",
       "      <td>0.3004</td>\n",
       "      <td>-0.6460</td>\n",
       "    </tr>\n",
       "    <tr>\n",
       "      <th>9998</th>\n",
       "      <td>9999</td>\n",
       "      <td>0.1990</td>\n",
       "      <td>-0.4885</td>\n",
       "    </tr>\n",
       "  </tbody>\n",
       "</table>\n",
       "<p>9999 rows × 3 columns</p>\n",
       "</div>"
      ],
      "text/plain": [
       "      epoch  g_loss  d_loss\n",
       "0         1  0.0052 -0.0075\n",
       "1         2 -0.0080 -0.0074\n",
       "2         3  0.0043 -0.0053\n",
       "3         4  0.0052 -0.0038\n",
       "4         5 -0.0023 -0.0048\n",
       "...     ...     ...     ...\n",
       "9994   9995  0.3164 -0.4681\n",
       "9995   9996  0.1455 -0.7475\n",
       "9996   9997  0.1212 -0.5300\n",
       "9997   9998  0.3004 -0.6460\n",
       "9998   9999  0.1990 -0.4885\n",
       "\n",
       "[9999 rows x 3 columns]"
      ]
     },
     "execution_count": 395,
     "metadata": {},
     "output_type": "execute_result"
    }
   ],
   "source": [
    "# Checking the verbose dataframe \n",
    "df_verbose.head(-1)"
   ]
  },
  {
   "cell_type": "code",
   "execution_count": 396,
   "id": "b662606f",
   "metadata": {},
   "outputs": [
    {
     "data": {
      "image/png": "[encoded data removed]",
      "text/plain": [
       "<Figure size 640x480 with 1 Axes>"
      ]
     },
     "metadata": {},
     "output_type": "display_data"
    }
   ],
   "source": [
    "# Plotting the verbose output\n",
    "plt.plot(df_verbose[\"epoch\"], df_verbose[\"g_loss\"], label='Generator Loss')\n",
    "plt.plot(df_verbose[\"epoch\"], df_verbose[\"d_loss\"], label='Discriminator Loss')\n",
    "\n",
    "# x and y axis label and title\n",
    "plt.xlabel(\"Epoch\")\n",
    "plt.ylabel(\"Loss\")\n",
    "plt.title(\"Training Loss for CTGAN\")\n",
    "plt.legend(loc=\"upper left\", bbox_to_anchor=(1.0, 1.0))\n",
    "plt.show()"
   ]
  },
  {
   "cell_type": "code",
   "execution_count": 397,
   "id": "0d906e61",
   "metadata": {},
   "outputs": [
    {
     "data": {
      "text/html": [
       "<div>\n",
       "<style scoped>\n",
       "    .dataframe tbody tr th:only-of-type {\n",
       "        vertical-align: middle;\n",
       "    }\n",
       "\n",
       "    .dataframe tbody tr th {\n",
       "        vertical-align: top;\n",
       "    }\n",
       "\n",
       "    .dataframe thead th {\n",
       "        text-align: right;\n",
       "    }\n",
       "</style>\n",
       "<table border=\"1\" class=\"dataframe\">\n",
       "  <thead>\n",
       "    <tr style=\"text-align: right;\">\n",
       "      <th></th>\n",
       "      <th>EmpID</th>\n",
       "      <th>MarriedID</th>\n",
       "      <th>GenderID</th>\n",
       "      <th>DeptID</th>\n",
       "      <th>Salary</th>\n",
       "      <th>Termd</th>\n",
       "      <th>PositionID</th>\n",
       "      <th>CitizenDesc</th>\n",
       "      <th>ManagerID</th>\n",
       "      <th>EmpSatisfaction</th>\n",
       "      <th>SpecialProjectsCount</th>\n",
       "      <th>DaysLateLast30</th>\n",
       "      <th>Absences</th>\n",
       "      <th>BirthYear</th>\n",
       "      <th>YearofTermination</th>\n",
       "      <th>YearofHire</th>\n",
       "      <th>YearofPerformanceReview</th>\n",
       "      <th>YearsinCompany</th>\n",
       "    </tr>\n",
       "  </thead>\n",
       "  <tbody>\n",
       "    <tr>\n",
       "      <th>0</th>\n",
       "      <td>10221</td>\n",
       "      <td>1</td>\n",
       "      <td>0</td>\n",
       "      <td>5</td>\n",
       "      <td>54088</td>\n",
       "      <td>0</td>\n",
       "      <td>19</td>\n",
       "      <td>0</td>\n",
       "      <td>22</td>\n",
       "      <td>4</td>\n",
       "      <td>0</td>\n",
       "      <td>0</td>\n",
       "      <td>14</td>\n",
       "      <td>1987</td>\n",
       "      <td>-1</td>\n",
       "      <td>2017</td>\n",
       "      <td>2019</td>\n",
       "      <td>0</td>\n",
       "    </tr>\n",
       "    <tr>\n",
       "      <th>1</th>\n",
       "      <td>10126</td>\n",
       "      <td>1</td>\n",
       "      <td>0</td>\n",
       "      <td>5</td>\n",
       "      <td>45046</td>\n",
       "      <td>0</td>\n",
       "      <td>10</td>\n",
       "      <td>0</td>\n",
       "      <td>17</td>\n",
       "      <td>4</td>\n",
       "      <td>0</td>\n",
       "      <td>0</td>\n",
       "      <td>3</td>\n",
       "      <td>1975</td>\n",
       "      <td>95</td>\n",
       "      <td>2013</td>\n",
       "      <td>2016</td>\n",
       "      <td>8</td>\n",
       "    </tr>\n",
       "    <tr>\n",
       "      <th>2</th>\n",
       "      <td>10069</td>\n",
       "      <td>1</td>\n",
       "      <td>0</td>\n",
       "      <td>3</td>\n",
       "      <td>96806</td>\n",
       "      <td>1</td>\n",
       "      <td>20</td>\n",
       "      <td>0</td>\n",
       "      <td>18</td>\n",
       "      <td>3</td>\n",
       "      <td>5</td>\n",
       "      <td>0</td>\n",
       "      <td>9</td>\n",
       "      <td>1979</td>\n",
       "      <td>26</td>\n",
       "      <td>2008</td>\n",
       "      <td>2011</td>\n",
       "      <td>0</td>\n",
       "    </tr>\n",
       "    <tr>\n",
       "      <th>3</th>\n",
       "      <td>10001</td>\n",
       "      <td>1</td>\n",
       "      <td>1</td>\n",
       "      <td>6</td>\n",
       "      <td>94248</td>\n",
       "      <td>1</td>\n",
       "      <td>19</td>\n",
       "      <td>0</td>\n",
       "      <td>14</td>\n",
       "      <td>5</td>\n",
       "      <td>5</td>\n",
       "      <td>0</td>\n",
       "      <td>19</td>\n",
       "      <td>1981</td>\n",
       "      <td>1900</td>\n",
       "      <td>2013</td>\n",
       "      <td>2019</td>\n",
       "      <td>0</td>\n",
       "    </tr>\n",
       "    <tr>\n",
       "      <th>4</th>\n",
       "      <td>10217</td>\n",
       "      <td>0</td>\n",
       "      <td>1</td>\n",
       "      <td>5</td>\n",
       "      <td>50364</td>\n",
       "      <td>0</td>\n",
       "      <td>30</td>\n",
       "      <td>0</td>\n",
       "      <td>23</td>\n",
       "      <td>3</td>\n",
       "      <td>0</td>\n",
       "      <td>0</td>\n",
       "      <td>11</td>\n",
       "      <td>1975</td>\n",
       "      <td>2018</td>\n",
       "      <td>2012</td>\n",
       "      <td>2019</td>\n",
       "      <td>0</td>\n",
       "    </tr>\n",
       "  </tbody>\n",
       "</table>\n",
       "</div>"
      ],
      "text/plain": [
       "   EmpID  MarriedID  GenderID  DeptID  Salary  Termd  PositionID  CitizenDesc  \\\n",
       "0  10221          1         0       5   54088      0          19            0   \n",
       "1  10126          1         0       5   45046      0          10            0   \n",
       "2  10069          1         0       3   96806      1          20            0   \n",
       "3  10001          1         1       6   94248      1          19            0   \n",
       "4  10217          0         1       5   50364      0          30            0   \n",
       "\n",
       "   ManagerID  EmpSatisfaction  SpecialProjectsCount  DaysLateLast30  Absences  \\\n",
       "0         22                4                     0               0        14   \n",
       "1         17                4                     0               0         3   \n",
       "2         18                3                     5               0         9   \n",
       "3         14                5                     5               0        19   \n",
       "4         23                3                     0               0        11   \n",
       "\n",
       "   BirthYear  YearofTermination  YearofHire  YearofPerformanceReview  \\\n",
       "0       1987                 -1        2017                     2019   \n",
       "1       1975                 95        2013                     2016   \n",
       "2       1979                 26        2008                     2011   \n",
       "3       1981               1900        2013                     2019   \n",
       "4       1975               2018        2012                     2019   \n",
       "\n",
       "   YearsinCompany  \n",
       "0               0  \n",
       "1               8  \n",
       "2               0  \n",
       "3               0  \n",
       "4               0  "
      ]
     },
     "execution_count": 397,
     "metadata": {},
     "output_type": "execute_result"
    }
   ],
   "source": [
    "synthetic_data.head()"
   ]
  },
  {
   "cell_type": "code",
   "execution_count": 398,
   "id": "26cb03de",
   "metadata": {},
   "outputs": [
    {
     "data": {
      "text/plain": [
       "0    5000\n",
       "1    5000\n",
       "2    5000\n",
       "Name: CitizenDesc, dtype: int64"
      ]
     },
     "execution_count": 398,
     "metadata": {},
     "output_type": "execute_result"
    }
   ],
   "source": [
    "synthetic_data[\"CitizenDesc\"].value_counts()"
   ]
  },
  {
   "cell_type": "markdown",
   "id": "b31193bf",
   "metadata": {},
   "source": [
    "## Assessing utility for our CTGAN model"
   ]
  },
  {
   "cell_type": "code",
   "execution_count": 399,
   "id": "d2c18ad8",
   "metadata": {},
   "outputs": [
    {
     "data": {
      "text/plain": [
       "0.8889334524234846"
      ]
     },
     "execution_count": 399,
     "metadata": {},
     "output_type": "execute_result"
    }
   ],
   "source": [
    "evaluate(synthetic_data, data)"
   ]
  },
  {
   "cell_type": "markdown",
   "id": "164c18bc",
   "metadata": {},
   "source": [
    "## Assessing privacy for our CTGAN model"
   ]
  },
  {
   "cell_type": "markdown",
   "id": "cd32cefd",
   "metadata": {},
   "source": [
    "### Distance to Closest Record (DCR) (Euclidian Distance) "
   ]
  },
  {
   "cell_type": "code",
   "execution_count": 400,
   "id": "6420a3a5",
   "metadata": {},
   "outputs": [
    {
     "data": {
      "text/plain": [
       "49.29516487136081"
      ]
     },
     "execution_count": 400,
     "metadata": {},
     "output_type": "execute_result"
    }
   ],
   "source": [
    "# Using our orginal dataset\n",
    "data = data\n",
    "\n",
    "# Load the synthetic dataset that we just saved\n",
    "synthetic_data = synthetic_data\n",
    "\n",
    "# Extracing all numerical columns so that we can compare DCR distance\n",
    "numerical_columns = data.select_dtypes(include=np.number).columns.tolist()\n",
    "data_numerical = data[numerical_columns]\n",
    "synthetic_numerical = synthetic_data[numerical_columns]\n",
    "\n",
    "# Calculate the DCR between the two datasets using the Euclidean distance metric\n",
    "dcr_matrix = euclidean_distances(data_numerical, synthetic_numerical)\n",
    "dcr = dcr_matrix.min(axis=1).mean()\n",
    "\n",
    "# Compare the DCR of the two datasets\n",
    "dcr"
   ]
  },
  {
   "cell_type": "markdown",
   "id": "411602b4",
   "metadata": {},
   "source": [
    "### Wasserstein Distance"
   ]
  },
  {
   "cell_type": "code",
   "execution_count": 401,
   "id": "4ef247bd",
   "metadata": {
    "scrolled": false
   },
   "outputs": [
    {
     "data": {
      "text/plain": [
       "162.09208430391806"
      ]
     },
     "execution_count": 401,
     "metadata": {},
     "output_type": "execute_result"
    }
   ],
   "source": [
    "# Using our orginal dataset\n",
    "data = data\n",
    "\n",
    "# Load the synthetic dataset that we just saved\n",
    "synthetic_data = synthetic_data\n",
    "\n",
    "# Extracing all numerical columns so that we can compare distances\n",
    "numerical_columns = data.select_dtypes(include='number').columns.tolist()\n",
    "data_numerical = data[numerical_columns]\n",
    "synthetic_numerical = synthetic_data[numerical_columns]\n",
    "\n",
    "# Calculate the Wasserstein distance between the numerical columns in the original and synthetic datasets\n",
    "wasserstein_distances = [wasserstein_distance(data_numerical[column], synthetic_numerical[column]) for column in numerical_columns]\n",
    "\n",
    "# Calculate the average Wasserstein distance between the two datasets\n",
    "average_wasserstein_distance = sum(wasserstein_distances) / len(wasserstein_distances)\n",
    "\n",
    "average_wasserstein_distance"
   ]
  },
  {
   "cell_type": "code",
   "execution_count": 402,
   "id": "94910635",
   "metadata": {},
   "outputs": [],
   "source": [
    "synthetic_data = synthetic_data.apply(lambda x: [i if i >= 0 else 0 for i in x])\n",
    "synthetic_data.to_csv(\"synthetic_dataset_CTGAN_epochs10000.csv\", index=False)"
   ]
  },
  {
   "cell_type": "markdown",
   "id": "a39b8280",
   "metadata": {},
   "source": [
    "## Approach 2: AdaSyn Generation"
   ]
  },
  {
   "cell_type": "code",
   "execution_count": 26,
   "id": "9c82c583",
   "metadata": {},
   "outputs": [],
   "source": [
    "# Making sure we have our orginal dataset \n",
    "data = data"
   ]
  },
  {
   "cell_type": "code",
   "execution_count": 4,
   "id": "a91968c6",
   "metadata": {},
   "outputs": [
    {
     "data": {
      "text/plain": [
       "Index(['EmpID', 'MarriedID', 'GenderID', 'DeptID', 'Salary', 'Termd',\n",
       "       'PositionID', 'CitizenDesc', 'ManagerID', 'EmpSatisfaction',\n",
       "       'SpecialProjectsCount', 'DaysLateLast30', 'Absences', 'BirthYear',\n",
       "       'YearofTermination', 'YearofHire', 'YearofPerformanceReview',\n",
       "       'YearsinCompany'],\n",
       "      dtype='object')"
      ]
     },
     "execution_count": 4,
     "metadata": {},
     "output_type": "execute_result"
    }
   ],
   "source": [
    "data.columns"
   ]
  },
  {
   "cell_type": "code",
   "execution_count": 5,
   "id": "356c2cfb",
   "metadata": {},
   "outputs": [],
   "source": [
    "# Focus is on columns with distinct class imbalances\n",
    "# CitizenDesc "
   ]
  },
  {
   "cell_type": "code",
   "execution_count": 6,
   "id": "bd90b22d",
   "metadata": {},
   "outputs": [],
   "source": [
    "target_column = \"CitizenDesc\" \n",
    "# Separate the features and target variable\n",
    "X = data.drop(target_column, axis=1)\n",
    "y = data[target_column]\n",
    "\n",
    "# Split the data into training and testing sets\n",
    "X_train, X_test, y_train, y_test = train_test_split(X, y, test_size=0.2, random_state=42)\n",
    "\n",
    "# Create an instance of the AdaSyn class with n_neighbors=3\n",
    "#sampling_strategy = {0: \"auto\", 1: \"auto\", 2: \"auto\"}\n",
    "adasyn = ADASYN(n_neighbors= 3, random_state=42)\n",
    "\n",
    "# Generate synthetic data using AdaSyn\n",
    "X_train_newsamples, y_train_newsamples = adasyn.fit_resample(X_train, y_train)\n",
    "\n",
    "# Convert the oversampled data back to pandas DataFrame and Series\n",
    "X_train_newsamples = pd.DataFrame(X_train_newsamples, columns=X.columns)\n",
    "y_train_newsamples = pd.Series(y_train_newsamples, name=y.name)\n",
    "\n",
    "# Concatenate the oversampled data with the original data\n",
    "X_syn = pd.concat([X_train, y_train_newsamples], axis=0)\n",
    "y_syn = pd.concat([y_train, y_train_newsamples], axis=0)"
   ]
  },
  {
   "cell_type": "code",
   "execution_count": 7,
   "id": "bf5af653",
   "metadata": {},
   "outputs": [
    {
     "data": {
      "text/plain": [
       "2    236\n",
       "1    236\n",
       "0    232\n",
       "Name: CitizenDesc, dtype: int64"
      ]
     },
     "execution_count": 7,
     "metadata": {},
     "output_type": "execute_result"
    }
   ],
   "source": [
    "# Check the number of instances in each class after oversampling\n",
    "y_train_newsamples.value_counts()"
   ]
  },
  {
   "cell_type": "code",
   "execution_count": 8,
   "id": "d675c1c0",
   "metadata": {},
   "outputs": [],
   "source": [
    "# Save the oversampled data to a new CSV file\n",
    "Adasyn_data = pd.concat([X_syn, y_syn], axis=1)\n",
    "\n",
    "# assume your DataFrame is named 'df'\n",
    "synthetic_data = Adasyn_data.drop(columns=[col for col in Adasyn_data.columns if col != \"CitizenDesc\"])"
   ]
  },
  {
   "cell_type": "code",
   "execution_count": 9,
   "id": "da71f986",
   "metadata": {},
   "outputs": [
    {
     "data": {
      "text/html": [
       "<div>\n",
       "<style scoped>\n",
       "    .dataframe tbody tr th:only-of-type {\n",
       "        vertical-align: middle;\n",
       "    }\n",
       "\n",
       "    .dataframe tbody tr th {\n",
       "        vertical-align: top;\n",
       "    }\n",
       "\n",
       "    .dataframe thead th {\n",
       "        text-align: right;\n",
       "    }\n",
       "</style>\n",
       "<table border=\"1\" class=\"dataframe\">\n",
       "  <thead>\n",
       "    <tr style=\"text-align: right;\">\n",
       "      <th></th>\n",
       "      <th>CitizenDesc</th>\n",
       "    </tr>\n",
       "  </thead>\n",
       "  <tbody>\n",
       "    <tr>\n",
       "      <th>109</th>\n",
       "      <td>2</td>\n",
       "    </tr>\n",
       "    <tr>\n",
       "      <th>247</th>\n",
       "      <td>2</td>\n",
       "    </tr>\n",
       "    <tr>\n",
       "      <th>234</th>\n",
       "      <td>2</td>\n",
       "    </tr>\n",
       "    <tr>\n",
       "      <th>202</th>\n",
       "      <td>2</td>\n",
       "    </tr>\n",
       "    <tr>\n",
       "      <th>78</th>\n",
       "      <td>2</td>\n",
       "    </tr>\n",
       "  </tbody>\n",
       "</table>\n",
       "</div>"
      ],
      "text/plain": [
       "     CitizenDesc\n",
       "109            2\n",
       "247            2\n",
       "234            2\n",
       "202            2\n",
       "78             2"
      ]
     },
     "execution_count": 9,
     "metadata": {},
     "output_type": "execute_result"
    }
   ],
   "source": [
    "synthetic_data.head()"
   ]
  },
  {
   "cell_type": "code",
   "execution_count": 10,
   "id": "f1f2d219",
   "metadata": {},
   "outputs": [],
   "source": [
    "# Saving to CSV\n",
    "#Final_adaysn.to_csv(\"synthetic_dataset_Adasyn_c.csv\", index=False)"
   ]
  },
  {
   "cell_type": "code",
   "execution_count": 11,
   "id": "77c15950",
   "metadata": {},
   "outputs": [],
   "source": [
    "# Load the synthetic dataset that we just saved\n",
    "#synthetic_data = pd.read_csv('synthetic_dataset_Adasyn_c.csv')"
   ]
  },
  {
   "cell_type": "code",
   "execution_count": 12,
   "id": "94d54ead",
   "metadata": {},
   "outputs": [
    {
     "data": {
      "text/html": [
       "<div>\n",
       "<style scoped>\n",
       "    .dataframe tbody tr th:only-of-type {\n",
       "        vertical-align: middle;\n",
       "    }\n",
       "\n",
       "    .dataframe tbody tr th {\n",
       "        vertical-align: top;\n",
       "    }\n",
       "\n",
       "    .dataframe thead th {\n",
       "        text-align: right;\n",
       "    }\n",
       "</style>\n",
       "<table border=\"1\" class=\"dataframe\">\n",
       "  <thead>\n",
       "    <tr style=\"text-align: right;\">\n",
       "      <th></th>\n",
       "      <th>CitizenDesc</th>\n",
       "    </tr>\n",
       "  </thead>\n",
       "  <tbody>\n",
       "    <tr>\n",
       "      <th>109</th>\n",
       "      <td>2</td>\n",
       "    </tr>\n",
       "    <tr>\n",
       "      <th>247</th>\n",
       "      <td>2</td>\n",
       "    </tr>\n",
       "    <tr>\n",
       "      <th>234</th>\n",
       "      <td>2</td>\n",
       "    </tr>\n",
       "    <tr>\n",
       "      <th>202</th>\n",
       "      <td>2</td>\n",
       "    </tr>\n",
       "    <tr>\n",
       "      <th>78</th>\n",
       "      <td>2</td>\n",
       "    </tr>\n",
       "  </tbody>\n",
       "</table>\n",
       "</div>"
      ],
      "text/plain": [
       "     CitizenDesc\n",
       "109            2\n",
       "247            2\n",
       "234            2\n",
       "202            2\n",
       "78             2"
      ]
     },
     "execution_count": 12,
     "metadata": {},
     "output_type": "execute_result"
    }
   ],
   "source": [
    "synthetic_data.head()"
   ]
  },
  {
   "cell_type": "code",
   "execution_count": 13,
   "id": "e2a40ff9",
   "metadata": {},
   "outputs": [],
   "source": [
    "# Select the column to keep\n",
    "column_to_keep = \"CitizenDesc\"\n",
    "\n",
    "# Filter the dataframe to keep only the desired column\n",
    "data = data.filter([column_to_keep], axis=1)"
   ]
  },
  {
   "cell_type": "code",
   "execution_count": 14,
   "id": "471effc6",
   "metadata": {},
   "outputs": [
    {
     "data": {
      "text/plain": [
       "Index(['CitizenDesc'], dtype='object')"
      ]
     },
     "execution_count": 14,
     "metadata": {},
     "output_type": "execute_result"
    }
   ],
   "source": [
    "data.columns"
   ]
  },
  {
   "cell_type": "code",
   "execution_count": 15,
   "id": "62747f31",
   "metadata": {},
   "outputs": [
    {
     "data": {
      "text/plain": [
       "Index(['CitizenDesc'], dtype='object')"
      ]
     },
     "execution_count": 15,
     "metadata": {},
     "output_type": "execute_result"
    }
   ],
   "source": [
    "synthetic_data.columns"
   ]
  },
  {
   "cell_type": "code",
   "execution_count": 16,
   "id": "e15d2ce6",
   "metadata": {},
   "outputs": [
    {
     "data": {
      "text/plain": [
       "0.0"
      ]
     },
     "execution_count": 16,
     "metadata": {},
     "output_type": "execute_result"
    }
   ],
   "source": [
    "# Using our orginal dataset\n",
    "data = data\n",
    "\n",
    "# Load the synthetic dataset that we just saved\n",
    "synthetic_data = synthetic_data\n",
    "\n",
    "# Extracing all numerical columns so that we can compare DCR distance\n",
    "numerical_columns = data.select_dtypes(include=np.number).columns.tolist()\n",
    "data_numerical = data[numerical_columns]\n",
    "synthetic_numerical = synthetic_data[numerical_columns]\n",
    "\n",
    "# Calculate the DCR between the two datasets using the Euclidean distance metric\n",
    "dcr_matrix = euclidean_distances(data_numerical, synthetic_numerical)\n",
    "dcr = dcr_matrix.min(axis=1).mean()\n",
    "\n",
    "# Compare the DCR of the two datasets\n",
    "dcr"
   ]
  },
  {
   "cell_type": "code",
   "execution_count": 17,
   "id": "c37c35b9",
   "metadata": {},
   "outputs": [
    {
     "data": {
      "text/plain": [
       "0.6662703666675673"
      ]
     },
     "execution_count": 17,
     "metadata": {},
     "output_type": "execute_result"
    }
   ],
   "source": [
    "# Using our orginal dataset\n",
    "data = data\n",
    "\n",
    "# Load the synthetic dataset that we just saved\n",
    "synthetic_data = synthetic_data\n",
    "\n",
    "# Extracing all numerical columns so that we can compare distances\n",
    "numerical_columns = data.select_dtypes(include='number').columns.tolist()\n",
    "data_numerical = data[numerical_columns]\n",
    "synthetic_numerical = synthetic_data[numerical_columns]\n",
    "\n",
    "# Calculate the Wasserstein distance between the numerical columns in the original and synthetic datasets\n",
    "wasserstein_distances = [wasserstein_distance(data_numerical[column], synthetic_numerical[column]) for column in numerical_columns]\n",
    "\n",
    "# Calculate the average Wasserstein distance between the two datasets\n",
    "average_wasserstein_distance = sum(wasserstein_distances) / len(wasserstein_distances)\n",
    "\n",
    "average_wasserstein_distance"
   ]
  },
  {
   "cell_type": "code",
   "execution_count": 18,
   "id": "03c36a64",
   "metadata": {},
   "outputs": [
    {
     "data": {
      "text/plain": [
       "0.5472452646653516"
      ]
     },
     "execution_count": 18,
     "metadata": {},
     "output_type": "execute_result"
    }
   ],
   "source": [
    "evaluate(synthetic_data, data)"
   ]
  },
  {
   "cell_type": "markdown",
   "id": "2571655d",
   "metadata": {},
   "source": [
    "## Approach 3: CopulaGAN"
   ]
  },
  {
   "cell_type": "code",
   "execution_count": 177,
   "id": "269aa230",
   "metadata": {},
   "outputs": [
    {
     "name": "stderr",
     "output_type": "stream",
     "text": [
      "Sampling conditions:   0%|                            | 0/15000 [00:00<?, ?it/s]/Users/denisloechel/opt/anaconda3/envs/Test/lib/python3.9/site-packages/sdv/tabular/base.py:599: FutureWarning:\n",
      "\n",
      "In a future version of pandas, a length 1 tuple will be returned when iterating over a groupby with a grouper equal to a list of length 1. Don't supply a list with a single grouper to avoid this warning.\n",
      "\n",
      "/Users/denisloechel/opt/anaconda3/envs/Test/lib/python3.9/site-packages/sdv/tabular/base.py:632: FutureWarning:\n",
      "\n",
      "In a future version of pandas, a length 1 tuple will be returned when iterating over a groupby with a grouper equal to a list of length 1. Don't supply a list with a single grouper to avoid this warning.\n",
      "\n",
      "Sampling conditions:  33%|█████▋           | 5000/15000 [02:34<05:17, 31.49it/s]/Users/denisloechel/opt/anaconda3/envs/Test/lib/python3.9/site-packages/sdv/tabular/base.py:632: FutureWarning:\n",
      "\n",
      "In a future version of pandas, a length 1 tuple will be returned when iterating over a groupby with a grouper equal to a list of length 1. Don't supply a list with a single grouper to avoid this warning.\n",
      "\n",
      "Sampling conditions:  67%|██████████▋     | 10000/15000 [09:16<08:02, 10.37it/s]/Users/denisloechel/opt/anaconda3/envs/Test/lib/python3.9/site-packages/sdv/tabular/base.py:632: FutureWarning:\n",
      "\n",
      "In a future version of pandas, a length 1 tuple will be returned when iterating over a groupby with a grouper equal to a list of length 1. Don't supply a list with a single grouper to avoid this warning.\n",
      "\n",
      "Sampling conditions: 100%|████████████████| 15000/15000 [09:16<00:00, 26.95it/s]\n"
     ]
    }
   ],
   "source": [
    "\n",
    "# Sampling all columns\n",
    "target_columns = data.columns.tolist()\n",
    "\n",
    "# Making sure we are able to save the verbose i.e. the discriminator and generator output per epoch\n",
    "verbose_output = StringIO()\n",
    "sys.stdout = verbose_output\n",
    "\n",
    "# CopulaGAN model  \n",
    "model = CopulaGAN(\n",
    "    generator_lr=1e-5,\n",
    "    #generator_decay=1e-4,\n",
    "    discriminator_lr=1e-5,\n",
    "    #discriminator_decay=1e-4,\n",
    "    generator_dim=(256,256,256),\n",
    "    discriminator_dim=(256,256,256),\n",
    "    epochs=2000,\n",
    "    batch_size=1000,\n",
    "    verbose=True\n",
    ")\n",
    "\n",
    "# Fit the model to the data\n",
    "model.fit(data[target_columns])\n",
    "\n",
    "sys.stdout = sys.__stdout__\n",
    "\n",
    "# Defining the conditions to alleviate our class imbalance for the CitizenDesc column\n",
    "condition_0 = Condition({'CitizenDesc': 0}, num_rows=5000)  \n",
    "condition_1 = Condition({'CitizenDesc': 1}, num_rows=5000)  \n",
    "condition_2 = Condition({'CitizenDesc': 2}, num_rows=5000)\n",
    "\n",
    "# Generating synthetic data based on our conditions above\n",
    "synthetic_data = model.sample_conditions(\n",
    "    conditions=[condition_0, condition_1, condition_2],\n",
    "    max_tries_per_batch=1000\n",
    ")"
   ]
  },
  {
   "cell_type": "code",
   "execution_count": 178,
   "id": "64bb0db6",
   "metadata": {},
   "outputs": [],
   "source": [
    "# Passing the verbose output to a pandas dataframe \n",
    "df_verbose = pd.DataFrame([x.split(',') for x in verbose_output.getvalue().split('\\n')[:-1]], \n",
    "                          columns=[\"epoch\", \"g_loss\", \"d_loss\"])\n",
    "\n",
    "# Converting epoch column to int \n",
    "df_verbose[\"epoch\"] = df_verbose[\"epoch\"].str.replace(\"Epoch\" , '').astype(int)\n",
    "\n",
    "# Removing all text so that we can chart below\n",
    "df_verbose[\"g_loss\"] = df_verbose[\"g_loss\"].str.replace(\"Loss G: \", '').astype(float)\n",
    "df_verbose[\"d_loss\"] = df_verbose[\"d_loss\"].str.replace(\"Loss D: \", '').astype(float)"
   ]
  },
  {
   "cell_type": "code",
   "execution_count": 179,
   "id": "1782db4f",
   "metadata": {},
   "outputs": [
    {
     "data": {
      "text/html": [
       "<div>\n",
       "<style scoped>\n",
       "    .dataframe tbody tr th:only-of-type {\n",
       "        vertical-align: middle;\n",
       "    }\n",
       "\n",
       "    .dataframe tbody tr th {\n",
       "        vertical-align: top;\n",
       "    }\n",
       "\n",
       "    .dataframe thead th {\n",
       "        text-align: right;\n",
       "    }\n",
       "</style>\n",
       "<table border=\"1\" class=\"dataframe\">\n",
       "  <thead>\n",
       "    <tr style=\"text-align: right;\">\n",
       "      <th></th>\n",
       "      <th>epoch</th>\n",
       "      <th>g_loss</th>\n",
       "      <th>d_loss</th>\n",
       "    </tr>\n",
       "  </thead>\n",
       "  <tbody>\n",
       "    <tr>\n",
       "      <th>0</th>\n",
       "      <td>1</td>\n",
       "      <td>-0.0207</td>\n",
       "      <td>0.0070</td>\n",
       "    </tr>\n",
       "    <tr>\n",
       "      <th>1</th>\n",
       "      <td>2</td>\n",
       "      <td>-0.0164</td>\n",
       "      <td>0.0160</td>\n",
       "    </tr>\n",
       "    <tr>\n",
       "      <th>2</th>\n",
       "      <td>3</td>\n",
       "      <td>-0.0173</td>\n",
       "      <td>-0.0186</td>\n",
       "    </tr>\n",
       "    <tr>\n",
       "      <th>3</th>\n",
       "      <td>4</td>\n",
       "      <td>-0.0167</td>\n",
       "      <td>-0.0074</td>\n",
       "    </tr>\n",
       "    <tr>\n",
       "      <th>4</th>\n",
       "      <td>5</td>\n",
       "      <td>-0.0191</td>\n",
       "      <td>-0.0042</td>\n",
       "    </tr>\n",
       "    <tr>\n",
       "      <th>...</th>\n",
       "      <td>...</td>\n",
       "      <td>...</td>\n",
       "      <td>...</td>\n",
       "    </tr>\n",
       "    <tr>\n",
       "      <th>1994</th>\n",
       "      <td>1995</td>\n",
       "      <td>-1.3085</td>\n",
       "      <td>0.0660</td>\n",
       "    </tr>\n",
       "    <tr>\n",
       "      <th>1995</th>\n",
       "      <td>1996</td>\n",
       "      <td>-1.3646</td>\n",
       "      <td>0.0069</td>\n",
       "    </tr>\n",
       "    <tr>\n",
       "      <th>1996</th>\n",
       "      <td>1997</td>\n",
       "      <td>-1.3189</td>\n",
       "      <td>0.0080</td>\n",
       "    </tr>\n",
       "    <tr>\n",
       "      <th>1997</th>\n",
       "      <td>1998</td>\n",
       "      <td>-1.4156</td>\n",
       "      <td>0.1520</td>\n",
       "    </tr>\n",
       "    <tr>\n",
       "      <th>1998</th>\n",
       "      <td>1999</td>\n",
       "      <td>-1.3930</td>\n",
       "      <td>0.0971</td>\n",
       "    </tr>\n",
       "  </tbody>\n",
       "</table>\n",
       "<p>1999 rows × 3 columns</p>\n",
       "</div>"
      ],
      "text/plain": [
       "      epoch  g_loss  d_loss\n",
       "0         1 -0.0207  0.0070\n",
       "1         2 -0.0164  0.0160\n",
       "2         3 -0.0173 -0.0186\n",
       "3         4 -0.0167 -0.0074\n",
       "4         5 -0.0191 -0.0042\n",
       "...     ...     ...     ...\n",
       "1994   1995 -1.3085  0.0660\n",
       "1995   1996 -1.3646  0.0069\n",
       "1996   1997 -1.3189  0.0080\n",
       "1997   1998 -1.4156  0.1520\n",
       "1998   1999 -1.3930  0.0971\n",
       "\n",
       "[1999 rows x 3 columns]"
      ]
     },
     "execution_count": 179,
     "metadata": {},
     "output_type": "execute_result"
    }
   ],
   "source": [
    "# Checking the verbose dataframe \n",
    "df_verbose.head(-1)"
   ]
  },
  {
   "cell_type": "code",
   "execution_count": 180,
   "id": "17d3e190",
   "metadata": {},
   "outputs": [
    {
     "data": {
      "image/png": "[encoded data removed]",
      "text/plain": [
       "<Figure size 640x480 with 1 Axes>"
      ]
     },
     "metadata": {},
     "output_type": "display_data"
    }
   ],
   "source": [
    "# Plotting the verbose output\n",
    "plt.plot(df_verbose[\"epoch\"], df_verbose[\"g_loss\"], label='Generator Loss')\n",
    "plt.plot(df_verbose[\"epoch\"], df_verbose[\"d_loss\"], label='Discriminator Loss')\n",
    "\n",
    "# x and y axis label and title\n",
    "plt.xlabel(\"Epoch\")\n",
    "plt.ylabel(\"Loss\")\n",
    "plt.title(\"Training Loss for CopulaGAN\")\n",
    "plt.legend(loc=\"upper left\", bbox_to_anchor=(1.0, 1.0))\n",
    "plt.show()"
   ]
  },
  {
   "cell_type": "code",
   "execution_count": 181,
   "id": "1331db18",
   "metadata": {},
   "outputs": [
    {
     "data": {
      "text/plain": [
       "0    5000\n",
       "1    5000\n",
       "2    5000\n",
       "Name: CitizenDesc, dtype: int64"
      ]
     },
     "execution_count": 181,
     "metadata": {},
     "output_type": "execute_result"
    }
   ],
   "source": [
    "synthetic_data[\"CitizenDesc\"].value_counts()"
   ]
  },
  {
   "cell_type": "code",
   "execution_count": 183,
   "id": "9746c3ed",
   "metadata": {},
   "outputs": [
    {
     "data": {
      "text/plain": [
       "0.8455270453733478"
      ]
     },
     "execution_count": 183,
     "metadata": {},
     "output_type": "execute_result"
    }
   ],
   "source": [
    "evaluate(synthetic_data, data)"
   ]
  },
  {
   "cell_type": "markdown",
   "id": "e7dcadcf",
   "metadata": {},
   "source": [
    "## Assessing privacy for our CopulaGAN model"
   ]
  },
  {
   "cell_type": "markdown",
   "id": "0b678e1e",
   "metadata": {},
   "source": [
    "### Distance to Closest Record (DCR) (Euclidian Distance) "
   ]
  },
  {
   "cell_type": "code",
   "execution_count": 184,
   "id": "0fd145fc",
   "metadata": {},
   "outputs": [
    {
     "data": {
      "text/plain": [
       "53.23333900524907"
      ]
     },
     "execution_count": 184,
     "metadata": {},
     "output_type": "execute_result"
    }
   ],
   "source": [
    "# Using our orginal dataset\n",
    "data = data\n",
    "\n",
    "# Load the synthetic dataset that we just saved\n",
    "synthetic_data = synthetic_data\n",
    "\n",
    "# Extracing all numerical columns so that we can compare DCR distance\n",
    "numerical_columns = data.select_dtypes(include=np.number).columns.tolist()\n",
    "data_numerical = data[numerical_columns]\n",
    "synthetic_numerical = synthetic_data[numerical_columns]\n",
    "\n",
    "# Calculate the DCR between the two datasets using the Euclidean distance metric\n",
    "dcr_matrix = euclidean_distances(data_numerical, synthetic_numerical)\n",
    "dcr = dcr_matrix.min(axis=1).mean()\n",
    "\n",
    "# Compare the DCR of the two datasets\n",
    "dcr"
   ]
  },
  {
   "cell_type": "markdown",
   "id": "6a200a5a",
   "metadata": {},
   "source": [
    "### Wasserstein Distance"
   ]
  },
  {
   "cell_type": "code",
   "execution_count": 186,
   "id": "140e213d",
   "metadata": {
    "scrolled": false
   },
   "outputs": [
    {
     "data": {
      "text/plain": [
       "210.05121332618793"
      ]
     },
     "execution_count": 186,
     "metadata": {},
     "output_type": "execute_result"
    }
   ],
   "source": [
    "# Using our orginal dataset\n",
    "data = data\n",
    "\n",
    "# Load the synthetic dataset that we just saved\n",
    "synthetic_data = synthetic_data\n",
    "\n",
    "# Extracing all numerical columns so that we can compare distances\n",
    "numerical_columns = data.select_dtypes(include='number').columns.tolist()\n",
    "data_numerical = data[numerical_columns]\n",
    "synthetic_numerical = synthetic_data[numerical_columns]\n",
    "\n",
    "# Calculate the Wasserstein distance between the numerical columns in the original and synthetic datasets\n",
    "wasserstein_distances = [wasserstein_distance(data_numerical[column], synthetic_numerical[column]) for column in numerical_columns]\n",
    "\n",
    "# Calculate the average Wasserstein distance between the two datasets\n",
    "average_wasserstein_distance = sum(wasserstein_distances) / len(wasserstein_distances)\n",
    "\n",
    "average_wasserstein_distance"
   ]
  },
  {
   "cell_type": "code",
   "execution_count": 187,
   "id": "293c61ee",
   "metadata": {},
   "outputs": [],
   "source": [
    "synthetic_data = synthetic_data.apply(lambda x: [i if i >= 0 else 0 for i in x])\n",
    "synthetic_data.to_csv(\"synthetic_dataset_CopulaGANepochs2000.csv\", index=False)"
   ]
  },
  {
   "cell_type": "markdown",
   "id": "b1805e86",
   "metadata": {},
   "source": [
    "# Further Real vs. Synthetic Dataset Metrics Comparison"
   ]
  },
  {
   "cell_type": "markdown",
   "id": "a4be9b1a",
   "metadata": {},
   "source": [
    "## Real Data vs. CTGAN Synthetic Dataset"
   ]
  },
  {
   "cell_type": "code",
   "execution_count": 3,
   "id": "2de3771d",
   "metadata": {},
   "outputs": [],
   "source": [
    "#real_data, synthetic_data, metadata = load_demo(modality='single_table')"
   ]
  },
  {
   "cell_type": "markdown",
   "id": "4e4cccc8",
   "metadata": {},
   "source": [
    "## Quality Report\n",
    "### Overview"
   ]
  },
  {
   "cell_type": "code",
   "execution_count": 16,
   "id": "550dbf83",
   "metadata": {},
   "outputs": [
    {
     "name": "stderr",
     "output_type": "stream",
     "text": [
      "Creating report: 100%|████████████████████████████| 4/4 [00:00<00:00,  9.05it/s]"
     ]
    },
    {
     "name": "stdout",
     "output_type": "stream",
     "text": [
      "\n",
      "Overall Quality Score: 87.53%\n",
      "\n",
      "Properties:\n",
      "Column Shapes: 81.99%\n",
      "Column Pair Trends: 93.07%\n"
     ]
    },
    {
     "name": "stderr",
     "output_type": "stream",
     "text": [
      "\n"
     ]
    }
   ],
   "source": [
    "real_data = pd.read_csv(\"20230308_Updated_HR_dataset.csv\")\n",
    "synthetic_data = pd.read_csv(\"synthetic_dataset_CopulaGANepochs2000.csv\")\n",
    "metadata=json.load(open(\"metadata.json\", \"r\"))\n",
    "report = QualityReport()\n",
    "report.generate(real_data, synthetic_data, metadata)"
   ]
  },
  {
   "cell_type": "code",
   "execution_count": 102,
   "id": "49d814cd",
   "metadata": {},
   "outputs": [
    {
     "data": {
      "text/html": [
       "<div>\n",
       "<style scoped>\n",
       "    .dataframe tbody tr th:only-of-type {\n",
       "        vertical-align: middle;\n",
       "    }\n",
       "\n",
       "    .dataframe tbody tr th {\n",
       "        vertical-align: top;\n",
       "    }\n",
       "\n",
       "    .dataframe thead th {\n",
       "        text-align: right;\n",
       "    }\n",
       "</style>\n",
       "<table border=\"1\" class=\"dataframe\">\n",
       "  <thead>\n",
       "    <tr style=\"text-align: right;\">\n",
       "      <th></th>\n",
       "      <th>Column</th>\n",
       "      <th>Metric</th>\n",
       "      <th>Quality Score</th>\n",
       "    </tr>\n",
       "  </thead>\n",
       "  <tbody>\n",
       "    <tr>\n",
       "      <th>0</th>\n",
       "      <td>EmpID</td>\n",
       "      <td>KSComplement</td>\n",
       "      <td>0.994741</td>\n",
       "    </tr>\n",
       "    <tr>\n",
       "      <th>1</th>\n",
       "      <td>MarriedID</td>\n",
       "      <td>KSComplement</td>\n",
       "      <td>0.948580</td>\n",
       "    </tr>\n",
       "    <tr>\n",
       "      <th>2</th>\n",
       "      <td>GenderID</td>\n",
       "      <td>KSComplement</td>\n",
       "      <td>0.996217</td>\n",
       "    </tr>\n",
       "    <tr>\n",
       "      <th>3</th>\n",
       "      <td>DeptID</td>\n",
       "      <td>KSComplement</td>\n",
       "      <td>0.828962</td>\n",
       "    </tr>\n",
       "    <tr>\n",
       "      <th>4</th>\n",
       "      <td>Salary</td>\n",
       "      <td>KSComplement</td>\n",
       "      <td>0.686179</td>\n",
       "    </tr>\n",
       "    <tr>\n",
       "      <th>5</th>\n",
       "      <td>Termd</td>\n",
       "      <td>KSComplement</td>\n",
       "      <td>0.875672</td>\n",
       "    </tr>\n",
       "    <tr>\n",
       "      <th>6</th>\n",
       "      <td>PositionID</td>\n",
       "      <td>KSComplement</td>\n",
       "      <td>0.688692</td>\n",
       "    </tr>\n",
       "    <tr>\n",
       "      <th>7</th>\n",
       "      <td>CitizenDesc</td>\n",
       "      <td>KSComplement</td>\n",
       "      <td>0.384780</td>\n",
       "    </tr>\n",
       "    <tr>\n",
       "      <th>8</th>\n",
       "      <td>ManagerID</td>\n",
       "      <td>KSComplement</td>\n",
       "      <td>0.868483</td>\n",
       "    </tr>\n",
       "    <tr>\n",
       "      <th>9</th>\n",
       "      <td>EmpSatisfaction</td>\n",
       "      <td>KSComplement</td>\n",
       "      <td>0.908697</td>\n",
       "    </tr>\n",
       "    <tr>\n",
       "      <th>10</th>\n",
       "      <td>SpecialProjectsCount</td>\n",
       "      <td>KSComplement</td>\n",
       "      <td>0.376147</td>\n",
       "    </tr>\n",
       "    <tr>\n",
       "      <th>11</th>\n",
       "      <td>DaysLateLast30</td>\n",
       "      <td>KSComplement</td>\n",
       "      <td>0.396109</td>\n",
       "    </tr>\n",
       "    <tr>\n",
       "      <th>12</th>\n",
       "      <td>Absences</td>\n",
       "      <td>KSComplement</td>\n",
       "      <td>0.944325</td>\n",
       "    </tr>\n",
       "    <tr>\n",
       "      <th>13</th>\n",
       "      <td>BirthYear</td>\n",
       "      <td>KSComplement</td>\n",
       "      <td>0.944570</td>\n",
       "    </tr>\n",
       "    <tr>\n",
       "      <th>14</th>\n",
       "      <td>YearofTermination</td>\n",
       "      <td>KSComplement</td>\n",
       "      <td>0.334405</td>\n",
       "    </tr>\n",
       "    <tr>\n",
       "      <th>15</th>\n",
       "      <td>YearofHire</td>\n",
       "      <td>KSComplement</td>\n",
       "      <td>0.879340</td>\n",
       "    </tr>\n",
       "    <tr>\n",
       "      <th>16</th>\n",
       "      <td>YearofPerformanceReview</td>\n",
       "      <td>KSComplement</td>\n",
       "      <td>0.476390</td>\n",
       "    </tr>\n",
       "    <tr>\n",
       "      <th>17</th>\n",
       "      <td>YearsinCompany</td>\n",
       "      <td>KSComplement</td>\n",
       "      <td>0.490077</td>\n",
       "    </tr>\n",
       "  </tbody>\n",
       "</table>\n",
       "</div>"
      ],
      "text/plain": [
       "                     Column        Metric  Quality Score\n",
       "0                     EmpID  KSComplement       0.994741\n",
       "1                 MarriedID  KSComplement       0.948580\n",
       "2                  GenderID  KSComplement       0.996217\n",
       "3                    DeptID  KSComplement       0.828962\n",
       "4                    Salary  KSComplement       0.686179\n",
       "5                     Termd  KSComplement       0.875672\n",
       "6                PositionID  KSComplement       0.688692\n",
       "7               CitizenDesc  KSComplement       0.384780\n",
       "8                 ManagerID  KSComplement       0.868483\n",
       "9           EmpSatisfaction  KSComplement       0.908697\n",
       "10     SpecialProjectsCount  KSComplement       0.376147\n",
       "11           DaysLateLast30  KSComplement       0.396109\n",
       "12                 Absences  KSComplement       0.944325\n",
       "13                BirthYear  KSComplement       0.944570\n",
       "14        YearofTermination  KSComplement       0.334405\n",
       "15               YearofHire  KSComplement       0.879340\n",
       "16  YearofPerformanceReview  KSComplement       0.476390\n",
       "17           YearsinCompany  KSComplement       0.490077"
      ]
     },
     "execution_count": 102,
     "metadata": {},
     "output_type": "execute_result"
    }
   ],
   "source": [
    "report.get_details(property_name='Column Shapes')"
   ]
  },
  {
   "cell_type": "code",
   "execution_count": 36,
   "id": "2580afd3",
   "metadata": {},
   "outputs": [
    {
     "data": {
      "application/vnd.plotly.v1+json": {
       "config": {
        "plotlyServerURL": "https://plot.ly"
       },
       "data": [
        {
         "coloraxis": "coloraxis",
         "hovertemplate": "<b>Column Pair</b><br>(%{x},%{y})<br><br>Similarity: %{z}<extra></extra>",
         "type": "heatmap",
         "x": [
          "GenderID",
          "YearsinCompany",
          "MarriedID",
          "BirthYear",
          "YearofPerformanceReview",
          "YearofTermination",
          "Salary",
          "PositionID",
          "DeptID",
          "YearofHire",
          "SpecialProjectsCount",
          "Absences",
          "ManagerID",
          "DaysLateLast30",
          "EmpID",
          "Termd",
          "EmpSatisfaction",
          "CitizenDesc"
         ],
         "xaxis": "x",
         "y": [
          "GenderID",
          "YearsinCompany",
          "MarriedID",
          "BirthYear",
          "YearofPerformanceReview",
          "YearofTermination",
          "Salary",
          "PositionID",
          "DeptID",
          "YearofHire",
          "SpecialProjectsCount",
          "Absences",
          "ManagerID",
          "DaysLateLast30",
          "EmpID",
          "Termd",
          "EmpSatisfaction",
          "CitizenDesc"
         ],
         "yaxis": "y",
         "z": [
          [
           1,
           0.99,
           0.99,
           0.98,
           0.96,
           0.99,
           0.96,
           0.95,
           0.98,
           0.96,
           0.95,
           1,
           0.98,
           0.96,
           0.98,
           1,
           0.98,
           0.99
          ],
          [
           0.99,
           1,
           0.99,
           0.96,
           0.75,
           0.59,
           0.92,
           0.9,
           0.93,
           0.79,
           0.9,
           0.97,
           0.85,
           0.92,
           0.99,
           0.6,
           0.98,
           0.97
          ],
          [
           0.99,
           0.99,
           1,
           0.98,
           0.93,
           0.96,
           0.99,
           0.98,
           0.94,
           0.98,
           0.97,
           0.95,
           0.96,
           1,
           0.97,
           0.97,
           0.94,
           0.99
          ],
          [
           0.98,
           0.96,
           0.98,
           1,
           0.96,
           0.94,
           0.92,
           0.97,
           0.94,
           0.92,
           0.95,
           0.99,
           0.95,
           0.98,
           0.97,
           0.93,
           0.97,
           0.97
          ],
          [
           0.96,
           0.75,
           0.93,
           0.96,
           1,
           0.57,
           0.97,
           0.94,
           0.96,
           0.8,
           0.91,
           0.96,
           0.9,
           0.96,
           0.94,
           0.56,
           1,
           0.97
          ],
          [
           0.99,
           0.59,
           0.96,
           0.94,
           0.57,
           1,
           0.95,
           0.93,
           0.96,
           0.81,
           0.92,
           0.95,
           0.88,
           0.93,
           0.96,
           0.51,
           1,
           0.97
          ],
          [
           0.96,
           0.92,
           0.99,
           0.92,
           0.97,
           0.95,
           1,
           0.94,
           0.77,
           0.94,
           0.74,
           0.94,
           0.81,
           0.98,
           0.96,
           0.96,
           0.97,
           0.98
          ],
          [
           0.95,
           0.9,
           0.98,
           0.97,
           0.94,
           0.93,
           0.94,
           1,
           0.99,
           0.96,
           0.91,
           0.97,
           0.94,
           1,
           1,
           0.92,
           0.99,
           1
          ],
          [
           0.98,
           0.93,
           0.94,
           0.94,
           0.96,
           0.96,
           0.77,
           0.99,
           1,
           0.86,
           0.61,
           0.97,
           0.75,
           0.95,
           0.94,
           0.97,
           0.99,
           0.99
          ],
          [
           0.96,
           0.79,
           0.98,
           0.92,
           0.8,
           0.81,
           0.94,
           0.96,
           0.86,
           1,
           0.81,
           0.99,
           0.9,
           0.99,
           0.99,
           0.8,
           1,
           0.94
          ],
          [
           0.95,
           0.9,
           0.97,
           0.95,
           0.91,
           0.92,
           0.74,
           0.91,
           0.61,
           0.81,
           1,
           0.99,
           0.75,
           0.95,
           0.99,
           0.93,
           0.99,
           0.99
          ],
          [
           1,
           0.97,
           0.95,
           0.99,
           0.96,
           0.95,
           0.94,
           0.97,
           0.97,
           0.99,
           0.99,
           1,
           0.92,
           0.99,
           0.98,
           0.95,
           0.95,
           0.98
          ],
          [
           0.98,
           0.85,
           0.96,
           0.95,
           0.9,
           0.88,
           0.81,
           0.94,
           0.75,
           0.9,
           0.75,
           0.92,
           1,
           0.96,
           0.95,
           0.89,
           0.95,
           0.98
          ],
          [
           0.96,
           0.92,
           1,
           0.98,
           0.96,
           0.93,
           0.98,
           1,
           0.95,
           0.99,
           0.95,
           0.99,
           0.96,
           1,
           0.75,
           0.94,
           0.88,
           0.99
          ],
          [
           0.98,
           0.99,
           0.97,
           0.97,
           0.94,
           0.96,
           0.96,
           1,
           0.94,
           0.99,
           0.99,
           0.98,
           0.95,
           0.75,
           1,
           0.94,
           0.93,
           0.99
          ],
          [
           1,
           0.6,
           0.97,
           0.93,
           0.56,
           0.51,
           0.96,
           0.92,
           0.97,
           0.8,
           0.93,
           0.95,
           0.89,
           0.94,
           0.94,
           1,
           0.99,
           0.97
          ],
          [
           0.98,
           0.98,
           0.94,
           0.97,
           1,
           1,
           0.97,
           0.99,
           0.99,
           1,
           0.99,
           0.95,
           0.95,
           0.88,
           0.93,
           0.99,
           1,
           0.97
          ],
          [
           0.99,
           0.97,
           0.99,
           0.97,
           0.97,
           0.97,
           0.98,
           1,
           0.99,
           0.94,
           0.99,
           0.98,
           0.98,
           0.99,
           0.99,
           0.97,
           0.97,
           1
          ]
         ]
        },
        {
         "coloraxis": "coloraxis2",
         "customdata": [
          [
           1,
           -0.02,
           0.01,
           -0.01,
           -0.03,
           -0.02,
           -0.03,
           0.01,
           -0.01,
           -0.01,
           -0.02,
           -0.01,
           0.02,
           0.01,
           0.01,
           -0.03,
           0,
           0.01
          ],
          [
           -0.02,
           1,
           0,
           0,
           0.01,
           0.02,
           0.01,
           -0.02,
           0,
           0,
           0,
           0,
           -0.01,
           -0.02,
           -0.01,
           0.02,
           0.01,
           -0.01
          ],
          [
           0.01,
           0,
           1,
           0,
           -0.02,
           -0.01,
           0.02,
           0.01,
           0.01,
           -0.01,
           -0.01,
           0,
           0,
           -0.02,
           0,
           -0.01,
           -0.02,
           -0.01
          ],
          [
           -0.01,
           0,
           0,
           1,
           0,
           0.01,
           0,
           -0.01,
           0.02,
           0,
           0,
           0.02,
           -0.01,
           0.02,
           -0.01,
           0.02,
           0,
           -0.02
          ],
          [
           -0.03,
           0.01,
           -0.02,
           0,
           1,
           -0.01,
           -0.01,
           0,
           -0.01,
           0,
           -0.01,
           -0.03,
           -0.04,
           0.06,
           0.01,
           0.01,
           0.02,
           0
          ],
          [
           -0.02,
           0.02,
           -0.01,
           0.01,
           -0.01,
           1,
           0,
           0,
           0.02,
           0.01,
           0,
           0.01,
           0,
           0.03,
           0.01,
           0,
           0.01,
           0.01
          ],
          [
           -0.03,
           0.01,
           0.02,
           0,
           -0.01,
           0,
           1,
           0,
           -0.04,
           0.01,
           0.02,
           0,
           -0.01,
           -0.01,
           0.01,
           -0.03,
           -0.01,
           -0.03
          ],
          [
           0.01,
           -0.02,
           0.01,
           -0.01,
           0,
           0,
           0,
           1,
           0.02,
           -0.01,
           0,
           -0.01,
           0.01,
           0.01,
           -0.01,
           0,
           0.02,
           0.01
          ],
          [
           -0.01,
           0,
           0.01,
           0.02,
           -0.01,
           0.02,
           -0.04,
           0.02,
           1,
           0,
           0.02,
           -0.01,
           -0.03,
           0.01,
           -0.01,
           -0.03,
           0,
           0.01
          ],
          [
           -0.01,
           0,
           -0.01,
           0,
           0,
           0.01,
           0.01,
           -0.01,
           0,
           1,
           0.02,
           0,
           -0.02,
           0,
           -0.01,
           0.01,
           -0.01,
           0
          ],
          [
           -0.02,
           0,
           -0.01,
           0,
           -0.01,
           0,
           0.02,
           0,
           0.02,
           0.02,
           1,
           0,
           0.01,
           0,
           0,
           0.01,
           -0.02,
           0.01
          ],
          [
           -0.01,
           0,
           0,
           0.02,
           -0.03,
           0.01,
           0,
           -0.01,
           -0.01,
           0,
           0,
           1,
           -0.01,
           0.01,
           0,
           -0.01,
           0,
           0
          ],
          [
           0.02,
           -0.01,
           0,
           -0.01,
           -0.04,
           0,
           -0.01,
           0.01,
           -0.03,
           -0.02,
           0.01,
           -0.01,
           1,
           0.02,
           -0.01,
           -0.1,
           -0.02,
           0
          ],
          [
           0.01,
           -0.02,
           -0.02,
           0.02,
           0.06,
           0.03,
           -0.01,
           0.01,
           0.01,
           0,
           0,
           0.01,
           0.02,
           1,
           0.01,
           -0.07,
           0,
           0
          ],
          [
           0.01,
           -0.01,
           0,
           -0.01,
           0.01,
           0.01,
           0.01,
           -0.01,
           -0.01,
           -0.01,
           0,
           0,
           -0.01,
           0.01,
           1,
           -0.02,
           -0.01,
           -0.02
          ],
          [
           -0.03,
           0.02,
           -0.01,
           0.02,
           0.01,
           0,
           -0.03,
           0,
           -0.03,
           0.01,
           0.01,
           -0.01,
           -0.1,
           -0.07,
           -0.02,
           1,
           0.02,
           -0.01
          ],
          [
           0,
           0.01,
           -0.02,
           0,
           0.02,
           0.01,
           -0.01,
           0.02,
           0,
           -0.01,
           -0.02,
           0,
           -0.02,
           0,
           -0.01,
           0.02,
           1,
           -0.01
          ],
          [
           0.01,
           -0.01,
           -0.01,
           -0.02,
           0,
           0.01,
           -0.03,
           0.01,
           0.01,
           0,
           0.01,
           0,
           0,
           0,
           -0.02,
           -0.01,
           -0.01,
           1
          ]
         ],
         "hovertemplate": "<b>Correlation</b><br>(%{x},%{y})<br><br>Real: %{z}<br>(vs. Synthetic: %{customdata})<extra></extra>",
         "type": "heatmap",
         "x": [
          "EmpID",
          "MarriedID",
          "GenderID",
          "DeptID",
          "Salary",
          "Termd",
          "PositionID",
          "CitizenDesc",
          "ManagerID",
          "EmpSatisfaction",
          "SpecialProjectsCount",
          "DaysLateLast30",
          "Absences",
          "BirthYear",
          "YearofTermination",
          "YearofHire",
          "YearofPerformanceReview",
          "YearsinCompany"
         ],
         "xaxis": "x2",
         "y": [
          "EmpID",
          "MarriedID",
          "GenderID",
          "DeptID",
          "Salary",
          "Termd",
          "PositionID",
          "CitizenDesc",
          "ManagerID",
          "EmpSatisfaction",
          "SpecialProjectsCount",
          "DaysLateLast30",
          "Absences",
          "BirthYear",
          "YearofTermination",
          "YearofHire",
          "YearofPerformanceReview",
          "YearsinCompany"
         ],
         "yaxis": "y2",
         "z": [
          [
           1,
           0.05,
           0.04,
           0.11,
           -0.12,
           0.09,
           -0.04,
           -0.02,
           0.09,
           -0.15,
           -0.04,
           0.5,
           -0.03,
           0.07,
           0.09,
           -0.02,
           -0.12,
           0.03
          ],
          [
           0.05,
           1,
           -0.02,
           -0.12,
           0.03,
           0.08,
           -0.03,
           -0.05,
           -0.07,
           -0.13,
           0.06,
           0,
           0.1,
           0.02,
           0.08,
           -0.01,
           -0.12,
           0.01
          ],
          [
           0.04,
           -0.02,
           1,
           -0.04,
           0.06,
           -0.02,
           -0.08,
           -0.01,
           -0.04,
           -0.04,
           0.09,
           0.08,
           0,
           0.01,
           -0.02,
           0.07,
           0.06,
           0.01
          ],
          [
           0.11,
           -0.12,
           -0.04,
           1,
           -0.45,
           0.07,
           0.03,
           0.02,
           0.51,
           0.03,
           -0.79,
           0.12,
           0.05,
           -0.1,
           0.07,
           -0.26,
           -0.08,
           0.13
          ],
          [
           -0.12,
           0.03,
           0.06,
           -0.45,
           1,
           -0.09,
           -0.13,
           -0.03,
           -0.39,
           0.06,
           0.51,
           -0.07,
           0.08,
           -0.09,
           -0.09,
           0.14,
           0.08,
           -0.16
          ],
          [
           0.09,
           0.08,
           -0.02,
           0.07,
           -0.09,
           1,
           0.15,
           -0.06,
           0.23,
           0,
           -0.15,
           0.14,
           0.1,
           -0.1,
           1,
           -0.39,
           -0.87,
           0.81
          ],
          [
           -0.04,
           -0.03,
           -0.08,
           0.03,
           -0.13,
           0.15,
           1,
           0,
           0.07,
           -0.01,
           -0.15,
           0,
           -0.07,
           -0.07,
           0.15,
           -0.11,
           -0.13,
           0.18
          ],
          [
           -0.02,
           -0.05,
           -0.01,
           0.02,
           -0.03,
           -0.06,
           0,
           1,
           -0.02,
           -0.06,
           0.01,
           0.01,
           -0.04,
           0.07,
           -0.06,
           0.13,
           0.08,
           -0.06
          ],
          [
           0.09,
           -0.07,
           -0.04,
           0.51,
           -0.39,
           0.23,
           0.07,
           -0.02,
           1,
           0.1,
           -0.47,
           0.07,
           0.13,
           -0.08,
           0.23,
           -0.24,
           -0.19,
           0.31
          ],
          [
           -0.15,
           -0.13,
           -0.04,
           0.03,
           0.06,
           0,
           -0.01,
           -0.06,
           0.1,
           1,
           0.03,
           -0.24,
           0.08,
           0.07,
           0,
           0.01,
           -0.01,
           0.04
          ],
          [
           -0.04,
           0.06,
           0.09,
           -0.79,
           0.51,
           -0.15,
           -0.15,
           0.01,
           -0.47,
           0.03,
           1,
           -0.09,
           -0.02,
           0.09,
           -0.15,
           0.38,
           0.16,
           -0.2
          ],
          [
           0.5,
           0,
           0.08,
           0.12,
           -0.07,
           0.14,
           0,
           0.01,
           0.07,
           -0.24,
           -0.09,
           1,
           0,
           0.05,
           0.14,
           -0.02,
           -0.07,
           0.17
          ],
          [
           -0.03,
           0.1,
           0,
           0.05,
           0.08,
           0.1,
           -0.07,
           -0.04,
           0.13,
           0.08,
           -0.02,
           0,
           1,
           0.04,
           0.1,
           -0.07,
           -0.1,
           0.07
          ],
          [
           0.07,
           0.02,
           0.01,
           -0.1,
           -0.09,
           -0.1,
           -0.07,
           0.07,
           -0.08,
           0.07,
           0.09,
           0.05,
           0.04,
           1,
           -0.1,
           0.09,
           0.08,
           -0.08
          ],
          [
           0.09,
           0.08,
           -0.02,
           0.07,
           -0.09,
           1,
           0.15,
           -0.06,
           0.23,
           0,
           -0.15,
           0.14,
           0.1,
           -0.1,
           1,
           -0.39,
           -0.87,
           0.81
          ],
          [
           -0.02,
           -0.01,
           0.07,
           -0.26,
           0.14,
           -0.39,
           -0.11,
           0.13,
           -0.24,
           0.01,
           0.38,
           -0.02,
           -0.07,
           0.09,
           -0.39,
           1,
           0.41,
           -0.42
          ],
          [
           -0.12,
           -0.12,
           0.06,
           -0.08,
           0.08,
           -0.87,
           -0.13,
           0.08,
           -0.19,
           -0.01,
           0.16,
           -0.07,
           -0.1,
           0.08,
           -0.87,
           0.41,
           1,
           -0.5
          ],
          [
           0.03,
           0.01,
           0.01,
           0.13,
           -0.16,
           0.81,
           0.18,
           -0.06,
           0.31,
           0.04,
           -0.2,
           0.17,
           0.07,
           -0.08,
           0.81,
           -0.42,
           -0.5,
           1
          ]
         ]
        },
        {
         "coloraxis": "coloraxis2",
         "customdata": [
          [
           1,
           0.05,
           0.04,
           0.11,
           -0.12,
           0.09,
           -0.04,
           -0.02,
           0.09,
           -0.15,
           -0.04,
           0.5,
           -0.03,
           0.07,
           0.09,
           -0.02,
           -0.12,
           0.03
          ],
          [
           0.05,
           1,
           -0.02,
           -0.12,
           0.03,
           0.08,
           -0.03,
           -0.05,
           -0.07,
           -0.13,
           0.06,
           0,
           0.1,
           0.02,
           0.08,
           -0.01,
           -0.12,
           0.01
          ],
          [
           0.04,
           -0.02,
           1,
           -0.04,
           0.06,
           -0.02,
           -0.08,
           -0.01,
           -0.04,
           -0.04,
           0.09,
           0.08,
           0,
           0.01,
           -0.02,
           0.07,
           0.06,
           0.01
          ],
          [
           0.11,
           -0.12,
           -0.04,
           1,
           -0.45,
           0.07,
           0.03,
           0.02,
           0.51,
           0.03,
           -0.79,
           0.12,
           0.05,
           -0.1,
           0.07,
           -0.26,
           -0.08,
           0.13
          ],
          [
           -0.12,
           0.03,
           0.06,
           -0.45,
           1,
           -0.09,
           -0.13,
           -0.03,
           -0.39,
           0.06,
           0.51,
           -0.07,
           0.08,
           -0.09,
           -0.09,
           0.14,
           0.08,
           -0.16
          ],
          [
           0.09,
           0.08,
           -0.02,
           0.07,
           -0.09,
           1,
           0.15,
           -0.06,
           0.23,
           0,
           -0.15,
           0.14,
           0.1,
           -0.1,
           1,
           -0.39,
           -0.87,
           0.81
          ],
          [
           -0.04,
           -0.03,
           -0.08,
           0.03,
           -0.13,
           0.15,
           1,
           0,
           0.07,
           -0.01,
           -0.15,
           0,
           -0.07,
           -0.07,
           0.15,
           -0.11,
           -0.13,
           0.18
          ],
          [
           -0.02,
           -0.05,
           -0.01,
           0.02,
           -0.03,
           -0.06,
           0,
           1,
           -0.02,
           -0.06,
           0.01,
           0.01,
           -0.04,
           0.07,
           -0.06,
           0.13,
           0.08,
           -0.06
          ],
          [
           0.09,
           -0.07,
           -0.04,
           0.51,
           -0.39,
           0.23,
           0.07,
           -0.02,
           1,
           0.1,
           -0.47,
           0.07,
           0.13,
           -0.08,
           0.23,
           -0.24,
           -0.19,
           0.31
          ],
          [
           -0.15,
           -0.13,
           -0.04,
           0.03,
           0.06,
           0,
           -0.01,
           -0.06,
           0.1,
           1,
           0.03,
           -0.24,
           0.08,
           0.07,
           0,
           0.01,
           -0.01,
           0.04
          ],
          [
           -0.04,
           0.06,
           0.09,
           -0.79,
           0.51,
           -0.15,
           -0.15,
           0.01,
           -0.47,
           0.03,
           1,
           -0.09,
           -0.02,
           0.09,
           -0.15,
           0.38,
           0.16,
           -0.2
          ],
          [
           0.5,
           0,
           0.08,
           0.12,
           -0.07,
           0.14,
           0,
           0.01,
           0.07,
           -0.24,
           -0.09,
           1,
           0,
           0.05,
           0.14,
           -0.02,
           -0.07,
           0.17
          ],
          [
           -0.03,
           0.1,
           0,
           0.05,
           0.08,
           0.1,
           -0.07,
           -0.04,
           0.13,
           0.08,
           -0.02,
           0,
           1,
           0.04,
           0.1,
           -0.07,
           -0.1,
           0.07
          ],
          [
           0.07,
           0.02,
           0.01,
           -0.1,
           -0.09,
           -0.1,
           -0.07,
           0.07,
           -0.08,
           0.07,
           0.09,
           0.05,
           0.04,
           1,
           -0.1,
           0.09,
           0.08,
           -0.08
          ],
          [
           0.09,
           0.08,
           -0.02,
           0.07,
           -0.09,
           1,
           0.15,
           -0.06,
           0.23,
           0,
           -0.15,
           0.14,
           0.1,
           -0.1,
           1,
           -0.39,
           -0.87,
           0.81
          ],
          [
           -0.02,
           -0.01,
           0.07,
           -0.26,
           0.14,
           -0.39,
           -0.11,
           0.13,
           -0.24,
           0.01,
           0.38,
           -0.02,
           -0.07,
           0.09,
           -0.39,
           1,
           0.41,
           -0.42
          ],
          [
           -0.12,
           -0.12,
           0.06,
           -0.08,
           0.08,
           -0.87,
           -0.13,
           0.08,
           -0.19,
           -0.01,
           0.16,
           -0.07,
           -0.1,
           0.08,
           -0.87,
           0.41,
           1,
           -0.5
          ],
          [
           0.03,
           0.01,
           0.01,
           0.13,
           -0.16,
           0.81,
           0.18,
           -0.06,
           0.31,
           0.04,
           -0.2,
           0.17,
           0.07,
           -0.08,
           0.81,
           -0.42,
           -0.5,
           1
          ]
         ],
         "hovertemplate": "<b>Correlation</b><br>(%{x},%{y})<br><br>Synthetic: %{z}<br>(vs. Real: %{customdata})<extra></extra>",
         "type": "heatmap",
         "x": [
          "EmpID",
          "MarriedID",
          "GenderID",
          "DeptID",
          "Salary",
          "Termd",
          "PositionID",
          "CitizenDesc",
          "ManagerID",
          "EmpSatisfaction",
          "SpecialProjectsCount",
          "DaysLateLast30",
          "Absences",
          "BirthYear",
          "YearofTermination",
          "YearofHire",
          "YearofPerformanceReview",
          "YearsinCompany"
         ],
         "xaxis": "x3",
         "y": [
          "EmpID",
          "MarriedID",
          "GenderID",
          "DeptID",
          "Salary",
          "Termd",
          "PositionID",
          "CitizenDesc",
          "ManagerID",
          "EmpSatisfaction",
          "SpecialProjectsCount",
          "DaysLateLast30",
          "Absences",
          "BirthYear",
          "YearofTermination",
          "YearofHire",
          "YearofPerformanceReview",
          "YearsinCompany"
         ],
         "yaxis": "y3",
         "z": [
          [
           1,
           -0.02,
           0.01,
           -0.01,
           -0.03,
           -0.02,
           -0.03,
           0.01,
           -0.01,
           -0.01,
           -0.02,
           -0.01,
           0.02,
           0.01,
           0.01,
           -0.03,
           0,
           0.01
          ],
          [
           -0.02,
           1,
           0,
           0,
           0.01,
           0.02,
           0.01,
           -0.02,
           0,
           0,
           0,
           0,
           -0.01,
           -0.02,
           -0.01,
           0.02,
           0.01,
           -0.01
          ],
          [
           0.01,
           0,
           1,
           0,
           -0.02,
           -0.01,
           0.02,
           0.01,
           0.01,
           -0.01,
           -0.01,
           0,
           0,
           -0.02,
           0,
           -0.01,
           -0.02,
           -0.01
          ],
          [
           -0.01,
           0,
           0,
           1,
           0,
           0.01,
           0,
           -0.01,
           0.02,
           0,
           0,
           0.02,
           -0.01,
           0.02,
           -0.01,
           0.02,
           0,
           -0.02
          ],
          [
           -0.03,
           0.01,
           -0.02,
           0,
           1,
           -0.01,
           -0.01,
           0,
           -0.01,
           0,
           -0.01,
           -0.03,
           -0.04,
           0.06,
           0.01,
           0.01,
           0.02,
           0
          ],
          [
           -0.02,
           0.02,
           -0.01,
           0.01,
           -0.01,
           1,
           0,
           0,
           0.02,
           0.01,
           0,
           0.01,
           0,
           0.03,
           0.01,
           0,
           0.01,
           0.01
          ],
          [
           -0.03,
           0.01,
           0.02,
           0,
           -0.01,
           0,
           1,
           0,
           -0.04,
           0.01,
           0.02,
           0,
           -0.01,
           -0.01,
           0.01,
           -0.03,
           -0.01,
           -0.03
          ],
          [
           0.01,
           -0.02,
           0.01,
           -0.01,
           0,
           0,
           0,
           1,
           0.02,
           -0.01,
           0,
           -0.01,
           0.01,
           0.01,
           -0.01,
           0,
           0.02,
           0.01
          ],
          [
           -0.01,
           0,
           0.01,
           0.02,
           -0.01,
           0.02,
           -0.04,
           0.02,
           1,
           0,
           0.02,
           -0.01,
           -0.03,
           0.01,
           -0.01,
           -0.03,
           0,
           0.01
          ],
          [
           -0.01,
           0,
           -0.01,
           0,
           0,
           0.01,
           0.01,
           -0.01,
           0,
           1,
           0.02,
           0,
           -0.02,
           0,
           -0.01,
           0.01,
           -0.01,
           0
          ],
          [
           -0.02,
           0,
           -0.01,
           0,
           -0.01,
           0,
           0.02,
           0,
           0.02,
           0.02,
           1,
           0,
           0.01,
           0,
           0,
           0.01,
           -0.02,
           0.01
          ],
          [
           -0.01,
           0,
           0,
           0.02,
           -0.03,
           0.01,
           0,
           -0.01,
           -0.01,
           0,
           0,
           1,
           -0.01,
           0.01,
           0,
           -0.01,
           0,
           0
          ],
          [
           0.02,
           -0.01,
           0,
           -0.01,
           -0.04,
           0,
           -0.01,
           0.01,
           -0.03,
           -0.02,
           0.01,
           -0.01,
           1,
           0.02,
           -0.01,
           -0.1,
           -0.02,
           0
          ],
          [
           0.01,
           -0.02,
           -0.02,
           0.02,
           0.06,
           0.03,
           -0.01,
           0.01,
           0.01,
           0,
           0,
           0.01,
           0.02,
           1,
           0.01,
           -0.07,
           0,
           0
          ],
          [
           0.01,
           -0.01,
           0,
           -0.01,
           0.01,
           0.01,
           0.01,
           -0.01,
           -0.01,
           -0.01,
           0,
           0,
           -0.01,
           0.01,
           1,
           -0.02,
           -0.01,
           -0.02
          ],
          [
           -0.03,
           0.02,
           -0.01,
           0.02,
           0.01,
           0,
           -0.03,
           0,
           -0.03,
           0.01,
           0.01,
           -0.01,
           -0.1,
           -0.07,
           -0.02,
           1,
           0.02,
           -0.01
          ],
          [
           0,
           0.01,
           -0.02,
           0,
           0.02,
           0.01,
           -0.01,
           0.02,
           0,
           -0.01,
           -0.02,
           0,
           -0.02,
           0,
           -0.01,
           0.02,
           1,
           -0.01
          ],
          [
           0.01,
           -0.01,
           -0.01,
           -0.02,
           0,
           0.01,
           -0.03,
           0.01,
           0.01,
           0,
           0.01,
           0,
           0,
           0,
           -0.02,
           -0.01,
           -0.01,
           1
          ]
         ]
        }
       ],
       "layout": {
        "annotations": [
         {
          "font": {
           "size": 16
          },
          "showarrow": false,
          "text": "Real vs. Synthetic Similarity",
          "x": 0.5,
          "xanchor": "center",
          "xref": "paper",
          "y": 1,
          "yanchor": "bottom",
          "yref": "paper"
         },
         {
          "font": {
           "size": 16
          },
          "showarrow": false,
          "text": "Numerical Correlation (Real Data)",
          "x": 0.225,
          "xanchor": "center",
          "xref": "paper",
          "y": 0.375,
          "yanchor": "bottom",
          "yref": "paper"
         },
         {
          "font": {
           "size": 16
          },
          "showarrow": false,
          "text": "Numerical Correlation (Synthetic Data)",
          "x": 0.775,
          "xanchor": "center",
          "xref": "paper",
          "y": 0.375,
          "yanchor": "bottom",
          "yref": "paper"
         }
        ],
        "coloraxis": {
         "cmax": 1,
         "cmin": 0,
         "colorbar": {
          "len": 0.5,
          "x": 0.8,
          "y": 0.8
         },
         "colorscale": [
          [
           0,
           "#FF0000"
          ],
          [
           0.5,
           "#F16141"
          ],
          [
           1,
           "#36B37E"
          ]
         ]
        },
        "coloraxis2": {
         "cmax": 1,
         "cmin": -1,
         "colorbar": {
          "len": 0.5,
          "y": 0.2
         },
         "colorscale": [
          [
           0,
           "#03AFF1"
          ],
          [
           0.5,
           "#000036"
          ],
          [
           1,
           "#01E0C9"
          ]
         ]
        },
        "height": 900,
        "template": {
         "data": {
          "bar": [
           {
            "error_x": {
             "color": "#2a3f5f"
            },
            "error_y": {
             "color": "#2a3f5f"
            },
            "marker": {
             "line": {
              "color": "#E5ECF6",
              "width": 0.5
             },
             "pattern": {
              "fillmode": "overlay",
              "size": 10,
              "solidity": 0.2
             }
            },
            "type": "bar"
           }
          ],
          "barpolar": [
           {
            "marker": {
             "line": {
              "color": "#E5ECF6",
              "width": 0.5
             },
             "pattern": {
              "fillmode": "overlay",
              "size": 10,
              "solidity": 0.2
             }
            },
            "type": "barpolar"
           }
          ],
          "carpet": [
           {
            "aaxis": {
             "endlinecolor": "#2a3f5f",
             "gridcolor": "white",
             "linecolor": "white",
             "minorgridcolor": "white",
             "startlinecolor": "#2a3f5f"
            },
            "baxis": {
             "endlinecolor": "#2a3f5f",
             "gridcolor": "white",
             "linecolor": "white",
             "minorgridcolor": "white",
             "startlinecolor": "#2a3f5f"
            },
            "type": "carpet"
           }
          ],
          "choropleth": [
           {
            "colorbar": {
             "outlinewidth": 0,
             "ticks": ""
            },
            "type": "choropleth"
           }
          ],
          "contour": [
           {
            "colorbar": {
             "outlinewidth": 0,
             "ticks": ""
            },
            "colorscale": [
             [
              0,
              "#0d0887"
             ],
             [
              0.1111111111111111,
              "#46039f"
             ],
             [
              0.2222222222222222,
              "#7201a8"
             ],
             [
              0.3333333333333333,
              "#9c179e"
             ],
             [
              0.4444444444444444,
              "#bd3786"
             ],
             [
              0.5555555555555556,
              "#d8576b"
             ],
             [
              0.6666666666666666,
              "#ed7953"
             ],
             [
              0.7777777777777778,
              "#fb9f3a"
             ],
             [
              0.8888888888888888,
              "#fdca26"
             ],
             [
              1,
              "#f0f921"
             ]
            ],
            "type": "contour"
           }
          ],
          "contourcarpet": [
           {
            "colorbar": {
             "outlinewidth": 0,
             "ticks": ""
            },
            "type": "contourcarpet"
           }
          ],
          "heatmap": [
           {
            "colorbar": {
             "outlinewidth": 0,
             "ticks": ""
            },
            "colorscale": [
             [
              0,
              "#0d0887"
             ],
             [
              0.1111111111111111,
              "#46039f"
             ],
             [
              0.2222222222222222,
              "#7201a8"
             ],
             [
              0.3333333333333333,
              "#9c179e"
             ],
             [
              0.4444444444444444,
              "#bd3786"
             ],
             [
              0.5555555555555556,
              "#d8576b"
             ],
             [
              0.6666666666666666,
              "#ed7953"
             ],
             [
              0.7777777777777778,
              "#fb9f3a"
             ],
             [
              0.8888888888888888,
              "#fdca26"
             ],
             [
              1,
              "#f0f921"
             ]
            ],
            "type": "heatmap"
           }
          ],
          "heatmapgl": [
           {
            "colorbar": {
             "outlinewidth": 0,
             "ticks": ""
            },
            "colorscale": [
             [
              0,
              "#0d0887"
             ],
             [
              0.1111111111111111,
              "#46039f"
             ],
             [
              0.2222222222222222,
              "#7201a8"
             ],
             [
              0.3333333333333333,
              "#9c179e"
             ],
             [
              0.4444444444444444,
              "#bd3786"
             ],
             [
              0.5555555555555556,
              "#d8576b"
             ],
             [
              0.6666666666666666,
              "#ed7953"
             ],
             [
              0.7777777777777778,
              "#fb9f3a"
             ],
             [
              0.8888888888888888,
              "#fdca26"
             ],
             [
              1,
              "#f0f921"
             ]
            ],
            "type": "heatmapgl"
           }
          ],
          "histogram": [
           {
            "marker": {
             "pattern": {
              "fillmode": "overlay",
              "size": 10,
              "solidity": 0.2
             }
            },
            "type": "histogram"
           }
          ],
          "histogram2d": [
           {
            "colorbar": {
             "outlinewidth": 0,
             "ticks": ""
            },
            "colorscale": [
             [
              0,
              "#0d0887"
             ],
             [
              0.1111111111111111,
              "#46039f"
             ],
             [
              0.2222222222222222,
              "#7201a8"
             ],
             [
              0.3333333333333333,
              "#9c179e"
             ],
             [
              0.4444444444444444,
              "#bd3786"
             ],
             [
              0.5555555555555556,
              "#d8576b"
             ],
             [
              0.6666666666666666,
              "#ed7953"
             ],
             [
              0.7777777777777778,
              "#fb9f3a"
             ],
             [
              0.8888888888888888,
              "#fdca26"
             ],
             [
              1,
              "#f0f921"
             ]
            ],
            "type": "histogram2d"
           }
          ],
          "histogram2dcontour": [
           {
            "colorbar": {
             "outlinewidth": 0,
             "ticks": ""
            },
            "colorscale": [
             [
              0,
              "#0d0887"
             ],
             [
              0.1111111111111111,
              "#46039f"
             ],
             [
              0.2222222222222222,
              "#7201a8"
             ],
             [
              0.3333333333333333,
              "#9c179e"
             ],
             [
              0.4444444444444444,
              "#bd3786"
             ],
             [
              0.5555555555555556,
              "#d8576b"
             ],
             [
              0.6666666666666666,
              "#ed7953"
             ],
             [
              0.7777777777777778,
              "#fb9f3a"
             ],
             [
              0.8888888888888888,
              "#fdca26"
             ],
             [
              1,
              "#f0f921"
             ]
            ],
            "type": "histogram2dcontour"
           }
          ],
          "mesh3d": [
           {
            "colorbar": {
             "outlinewidth": 0,
             "ticks": ""
            },
            "type": "mesh3d"
           }
          ],
          "parcoords": [
           {
            "line": {
             "colorbar": {
              "outlinewidth": 0,
              "ticks": ""
             }
            },
            "type": "parcoords"
           }
          ],
          "pie": [
           {
            "automargin": true,
            "type": "pie"
           }
          ],
          "scatter": [
           {
            "fillpattern": {
             "fillmode": "overlay",
             "size": 10,
             "solidity": 0.2
            },
            "type": "scatter"
           }
          ],
          "scatter3d": [
           {
            "line": {
             "colorbar": {
              "outlinewidth": 0,
              "ticks": ""
             }
            },
            "marker": {
             "colorbar": {
              "outlinewidth": 0,
              "ticks": ""
             }
            },
            "type": "scatter3d"
           }
          ],
          "scattercarpet": [
           {
            "marker": {
             "colorbar": {
              "outlinewidth": 0,
              "ticks": ""
             }
            },
            "type": "scattercarpet"
           }
          ],
          "scattergeo": [
           {
            "marker": {
             "colorbar": {
              "outlinewidth": 0,
              "ticks": ""
             }
            },
            "type": "scattergeo"
           }
          ],
          "scattergl": [
           {
            "marker": {
             "colorbar": {
              "outlinewidth": 0,
              "ticks": ""
             }
            },
            "type": "scattergl"
           }
          ],
          "scattermapbox": [
           {
            "marker": {
             "colorbar": {
              "outlinewidth": 0,
              "ticks": ""
             }
            },
            "type": "scattermapbox"
           }
          ],
          "scatterpolar": [
           {
            "marker": {
             "colorbar": {
              "outlinewidth": 0,
              "ticks": ""
             }
            },
            "type": "scatterpolar"
           }
          ],
          "scatterpolargl": [
           {
            "marker": {
             "colorbar": {
              "outlinewidth": 0,
              "ticks": ""
             }
            },
            "type": "scatterpolargl"
           }
          ],
          "scatterternary": [
           {
            "marker": {
             "colorbar": {
              "outlinewidth": 0,
              "ticks": ""
             }
            },
            "type": "scatterternary"
           }
          ],
          "surface": [
           {
            "colorbar": {
             "outlinewidth": 0,
             "ticks": ""
            },
            "colorscale": [
             [
              0,
              "#0d0887"
             ],
             [
              0.1111111111111111,
              "#46039f"
             ],
             [
              0.2222222222222222,
              "#7201a8"
             ],
             [
              0.3333333333333333,
              "#9c179e"
             ],
             [
              0.4444444444444444,
              "#bd3786"
             ],
             [
              0.5555555555555556,
              "#d8576b"
             ],
             [
              0.6666666666666666,
              "#ed7953"
             ],
             [
              0.7777777777777778,
              "#fb9f3a"
             ],
             [
              0.8888888888888888,
              "#fdca26"
             ],
             [
              1,
              "#f0f921"
             ]
            ],
            "type": "surface"
           }
          ],
          "table": [
           {
            "cells": {
             "fill": {
              "color": "#EBF0F8"
             },
             "line": {
              "color": "white"
             }
            },
            "header": {
             "fill": {
              "color": "#C8D4E3"
             },
             "line": {
              "color": "white"
             }
            },
            "type": "table"
           }
          ]
         },
         "layout": {
          "annotationdefaults": {
           "arrowcolor": "#2a3f5f",
           "arrowhead": 0,
           "arrowwidth": 1
          },
          "autotypenumbers": "strict",
          "coloraxis": {
           "colorbar": {
            "outlinewidth": 0,
            "ticks": ""
           }
          },
          "colorscale": {
           "diverging": [
            [
             0,
             "#8e0152"
            ],
            [
             0.1,
             "#c51b7d"
            ],
            [
             0.2,
             "#de77ae"
            ],
            [
             0.3,
             "#f1b6da"
            ],
            [
             0.4,
             "#fde0ef"
            ],
            [
             0.5,
             "#f7f7f7"
            ],
            [
             0.6,
             "#e6f5d0"
            ],
            [
             0.7,
             "#b8e186"
            ],
            [
             0.8,
             "#7fbc41"
            ],
            [
             0.9,
             "#4d9221"
            ],
            [
             1,
             "#276419"
            ]
           ],
           "sequential": [
            [
             0,
             "#0d0887"
            ],
            [
             0.1111111111111111,
             "#46039f"
            ],
            [
             0.2222222222222222,
             "#7201a8"
            ],
            [
             0.3333333333333333,
             "#9c179e"
            ],
            [
             0.4444444444444444,
             "#bd3786"
            ],
            [
             0.5555555555555556,
             "#d8576b"
            ],
            [
             0.6666666666666666,
             "#ed7953"
            ],
            [
             0.7777777777777778,
             "#fb9f3a"
            ],
            [
             0.8888888888888888,
             "#fdca26"
            ],
            [
             1,
             "#f0f921"
            ]
           ],
           "sequentialminus": [
            [
             0,
             "#0d0887"
            ],
            [
             0.1111111111111111,
             "#46039f"
            ],
            [
             0.2222222222222222,
             "#7201a8"
            ],
            [
             0.3333333333333333,
             "#9c179e"
            ],
            [
             0.4444444444444444,
             "#bd3786"
            ],
            [
             0.5555555555555556,
             "#d8576b"
            ],
            [
             0.6666666666666666,
             "#ed7953"
            ],
            [
             0.7777777777777778,
             "#fb9f3a"
            ],
            [
             0.8888888888888888,
             "#fdca26"
            ],
            [
             1,
             "#f0f921"
            ]
           ]
          },
          "colorway": [
           "#636efa",
           "#EF553B",
           "#00cc96",
           "#ab63fa",
           "#FFA15A",
           "#19d3f3",
           "#FF6692",
           "#B6E880",
           "#FF97FF",
           "#FECB52"
          ],
          "font": {
           "color": "#2a3f5f"
          },
          "geo": {
           "bgcolor": "white",
           "lakecolor": "white",
           "landcolor": "#E5ECF6",
           "showlakes": true,
           "showland": true,
           "subunitcolor": "white"
          },
          "hoverlabel": {
           "align": "left"
          },
          "hovermode": "closest",
          "mapbox": {
           "style": "light"
          },
          "paper_bgcolor": "white",
          "plot_bgcolor": "#E5ECF6",
          "polar": {
           "angularaxis": {
            "gridcolor": "white",
            "linecolor": "white",
            "ticks": ""
           },
           "bgcolor": "#E5ECF6",
           "radialaxis": {
            "gridcolor": "white",
            "linecolor": "white",
            "ticks": ""
           }
          },
          "scene": {
           "xaxis": {
            "backgroundcolor": "#E5ECF6",
            "gridcolor": "white",
            "gridwidth": 2,
            "linecolor": "white",
            "showbackground": true,
            "ticks": "",
            "zerolinecolor": "white"
           },
           "yaxis": {
            "backgroundcolor": "#E5ECF6",
            "gridcolor": "white",
            "gridwidth": 2,
            "linecolor": "white",
            "showbackground": true,
            "ticks": "",
            "zerolinecolor": "white"
           },
           "zaxis": {
            "backgroundcolor": "#E5ECF6",
            "gridcolor": "white",
            "gridwidth": 2,
            "linecolor": "white",
            "showbackground": true,
            "ticks": "",
            "zerolinecolor": "white"
           }
          },
          "shapedefaults": {
           "line": {
            "color": "#2a3f5f"
           }
          },
          "ternary": {
           "aaxis": {
            "gridcolor": "white",
            "linecolor": "white",
            "ticks": ""
           },
           "baxis": {
            "gridcolor": "white",
            "linecolor": "white",
            "ticks": ""
           },
           "bgcolor": "#E5ECF6",
           "caxis": {
            "gridcolor": "white",
            "linecolor": "white",
            "ticks": ""
           }
          },
          "title": {
           "x": 0.05
          },
          "xaxis": {
           "automargin": true,
           "gridcolor": "white",
           "linecolor": "white",
           "ticks": "",
           "title": {
            "standoff": 15
           },
           "zerolinecolor": "white",
           "zerolinewidth": 2
          },
          "yaxis": {
           "automargin": true,
           "gridcolor": "white",
           "linecolor": "white",
           "ticks": "",
           "title": {
            "standoff": 15
           },
           "zerolinecolor": "white",
           "zerolinewidth": 2
          }
         }
        },
        "title": {
         "text": "Data Quality: Column Pair Trends (Average Score=0.93)"
        },
        "width": 900,
        "xaxis": {
         "anchor": "y",
         "domain": [
          0.26,
          0.74
         ]
        },
        "xaxis2": {
         "anchor": "y2",
         "domain": [
          0,
          0.45
         ]
        },
        "xaxis3": {
         "anchor": "y3",
         "domain": [
          0.55,
          1
         ],
         "matches": "x2"
        },
        "yaxis": {
         "anchor": "x",
         "autorange": "reversed",
         "domain": [
          0.625,
          1
         ]
        },
        "yaxis2": {
         "anchor": "x2",
         "autorange": "reversed",
         "domain": [
          0,
          0.375
         ]
        },
        "yaxis3": {
         "anchor": "x3",
         "autorange": "reversed",
         "domain": [
          0,
          0.375
         ],
         "matches": "y2",
         "visible": false
        }
       }
      },
      "text/html": [
       "<div>                            <div id=\"97a1b61c-f788-4dee-9dae-12ca6d4c9522\" class=\"plotly-graph-div\" style=\"height:900px; width:900px;\"></div>            <script type=\"text/javascript\">                require([\"plotly\"], function(Plotly) {                    window.PLOTLYENV=window.PLOTLYENV || {};                                    if (document.getElementById(\"97a1b61c-f788-4dee-9dae-12ca6d4c9522\")) {                    Plotly.newPlot(                        \"97a1b61c-f788-4dee-9dae-12ca6d4c9522\",                        [{\"coloraxis\":\"coloraxis\",\"hovertemplate\":\"<b>Column Pair</b><br>(%{x},%{y})<br><br>Similarity: %{z}<extra></extra>\",\"x\":[\"GenderID\",\"YearsinCompany\",\"MarriedID\",\"BirthYear\",\"YearofPerformanceReview\",\"YearofTermination\",\"Salary\",\"PositionID\",\"DeptID\",\"YearofHire\",\"SpecialProjectsCount\",\"Absences\",\"ManagerID\",\"DaysLateLast30\",\"EmpID\",\"Termd\",\"EmpSatisfaction\",\"CitizenDesc\"],\"xaxis\":\"x\",\"y\":[\"GenderID\",\"YearsinCompany\",\"MarriedID\",\"BirthYear\",\"YearofPerformanceReview\",\"YearofTermination\",\"Salary\",\"PositionID\",\"DeptID\",\"YearofHire\",\"SpecialProjectsCount\",\"Absences\",\"ManagerID\",\"DaysLateLast30\",\"EmpID\",\"Termd\",\"EmpSatisfaction\",\"CitizenDesc\"],\"yaxis\":\"y\",\"z\":[[1.0,0.99,0.99,0.98,0.96,0.99,0.96,0.95,0.98,0.96,0.95,1.0,0.98,0.96,0.98,1.0,0.98,0.99],[0.99,1.0,0.99,0.96,0.75,0.59,0.92,0.9,0.93,0.79,0.9,0.97,0.85,0.92,0.99,0.6,0.98,0.97],[0.99,0.99,1.0,0.98,0.93,0.96,0.99,0.98,0.94,0.98,0.97,0.95,0.96,1.0,0.97,0.97,0.94,0.99],[0.98,0.96,0.98,1.0,0.96,0.94,0.92,0.97,0.94,0.92,0.95,0.99,0.95,0.98,0.97,0.93,0.97,0.97],[0.96,0.75,0.93,0.96,1.0,0.57,0.97,0.94,0.96,0.8,0.91,0.96,0.9,0.96,0.94,0.56,1.0,0.97],[0.99,0.59,0.96,0.94,0.57,1.0,0.95,0.93,0.96,0.81,0.92,0.95,0.88,0.93,0.96,0.51,1.0,0.97],[0.96,0.92,0.99,0.92,0.97,0.95,1.0,0.94,0.77,0.94,0.74,0.94,0.81,0.98,0.96,0.96,0.97,0.98],[0.95,0.9,0.98,0.97,0.94,0.93,0.94,1.0,0.99,0.96,0.91,0.97,0.94,1.0,1.0,0.92,0.99,1.0],[0.98,0.93,0.94,0.94,0.96,0.96,0.77,0.99,1.0,0.86,0.61,0.97,0.75,0.95,0.94,0.97,0.99,0.99],[0.96,0.79,0.98,0.92,0.8,0.81,0.94,0.96,0.86,1.0,0.81,0.99,0.9,0.99,0.99,0.8,1.0,0.94],[0.95,0.9,0.97,0.95,0.91,0.92,0.74,0.91,0.61,0.81,1.0,0.99,0.75,0.95,0.99,0.93,0.99,0.99],[1.0,0.97,0.95,0.99,0.96,0.95,0.94,0.97,0.97,0.99,0.99,1.0,0.92,0.99,0.98,0.95,0.95,0.98],[0.98,0.85,0.96,0.95,0.9,0.88,0.81,0.94,0.75,0.9,0.75,0.92,1.0,0.96,0.95,0.89,0.95,0.98],[0.96,0.92,1.0,0.98,0.96,0.93,0.98,1.0,0.95,0.99,0.95,0.99,0.96,1.0,0.75,0.94,0.88,0.99],[0.98,0.99,0.97,0.97,0.94,0.96,0.96,1.0,0.94,0.99,0.99,0.98,0.95,0.75,1.0,0.94,0.93,0.99],[1.0,0.6,0.97,0.93,0.56,0.51,0.96,0.92,0.97,0.8,0.93,0.95,0.89,0.94,0.94,1.0,0.99,0.97],[0.98,0.98,0.94,0.97,1.0,1.0,0.97,0.99,0.99,1.0,0.99,0.95,0.95,0.88,0.93,0.99,1.0,0.97],[0.99,0.97,0.99,0.97,0.97,0.97,0.98,1.0,0.99,0.94,0.99,0.98,0.98,0.99,0.99,0.97,0.97,1.0]],\"type\":\"heatmap\"},{\"coloraxis\":\"coloraxis2\",\"customdata\":[[1.0,-0.02,0.01,-0.01,-0.03,-0.02,-0.03,0.01,-0.01,-0.01,-0.02,-0.01,0.02,0.01,0.01,-0.03,0.0,0.01],[-0.02,1.0,0.0,-0.0,0.01,0.02,0.01,-0.02,-0.0,-0.0,-0.0,0.0,-0.01,-0.02,-0.01,0.02,0.01,-0.01],[0.01,0.0,1.0,0.0,-0.02,-0.01,0.02,0.01,0.01,-0.01,-0.01,0.0,0.0,-0.02,0.0,-0.01,-0.02,-0.01],[-0.01,-0.0,0.0,1.0,0.0,0.01,0.0,-0.01,0.02,0.0,0.0,0.02,-0.01,0.02,-0.01,0.02,-0.0,-0.02],[-0.03,0.01,-0.02,0.0,1.0,-0.01,-0.01,0.0,-0.01,-0.0,-0.01,-0.03,-0.04,0.06,0.01,0.01,0.02,0.0],[-0.02,0.02,-0.01,0.01,-0.01,1.0,-0.0,0.0,0.02,0.01,-0.0,0.01,-0.0,0.03,0.01,-0.0,0.01,0.01],[-0.03,0.01,0.02,0.0,-0.01,-0.0,1.0,0.0,-0.04,0.01,0.02,0.0,-0.01,-0.01,0.01,-0.03,-0.01,-0.03],[0.01,-0.02,0.01,-0.01,0.0,0.0,0.0,1.0,0.02,-0.01,-0.0,-0.01,0.01,0.01,-0.01,0.0,0.02,0.01],[-0.01,-0.0,0.01,0.02,-0.01,0.02,-0.04,0.02,1.0,0.0,0.02,-0.01,-0.03,0.01,-0.01,-0.03,0.0,0.01],[-0.01,-0.0,-0.01,0.0,-0.0,0.01,0.01,-0.01,0.0,1.0,0.02,0.0,-0.02,0.0,-0.01,0.01,-0.01,-0.0],[-0.02,-0.0,-0.01,0.0,-0.01,-0.0,0.02,-0.0,0.02,0.02,1.0,-0.0,0.01,-0.0,0.0,0.01,-0.02,0.01],[-0.01,0.0,0.0,0.02,-0.03,0.01,0.0,-0.01,-0.01,0.0,-0.0,1.0,-0.01,0.01,-0.0,-0.01,0.0,-0.0],[0.02,-0.01,0.0,-0.01,-0.04,-0.0,-0.01,0.01,-0.03,-0.02,0.01,-0.01,1.0,0.02,-0.01,-0.1,-0.02,0.0],[0.01,-0.02,-0.02,0.02,0.06,0.03,-0.01,0.01,0.01,0.0,-0.0,0.01,0.02,1.0,0.01,-0.07,0.0,-0.0],[0.01,-0.01,0.0,-0.01,0.01,0.01,0.01,-0.01,-0.01,-0.01,0.0,-0.0,-0.01,0.01,1.0,-0.02,-0.01,-0.02],[-0.03,0.02,-0.01,0.02,0.01,-0.0,-0.03,0.0,-0.03,0.01,0.01,-0.01,-0.1,-0.07,-0.02,1.0,0.02,-0.01],[0.0,0.01,-0.02,-0.0,0.02,0.01,-0.01,0.02,0.0,-0.01,-0.02,0.0,-0.02,0.0,-0.01,0.02,1.0,-0.01],[0.01,-0.01,-0.01,-0.02,0.0,0.01,-0.03,0.01,0.01,-0.0,0.01,-0.0,0.0,-0.0,-0.02,-0.01,-0.01,1.0]],\"hovertemplate\":\"<b>Correlation</b><br>(%{x},%{y})<br><br>Real: %{z}<br>(vs. Synthetic: %{customdata})<extra></extra>\",\"x\":[\"EmpID\",\"MarriedID\",\"GenderID\",\"DeptID\",\"Salary\",\"Termd\",\"PositionID\",\"CitizenDesc\",\"ManagerID\",\"EmpSatisfaction\",\"SpecialProjectsCount\",\"DaysLateLast30\",\"Absences\",\"BirthYear\",\"YearofTermination\",\"YearofHire\",\"YearofPerformanceReview\",\"YearsinCompany\"],\"xaxis\":\"x2\",\"y\":[\"EmpID\",\"MarriedID\",\"GenderID\",\"DeptID\",\"Salary\",\"Termd\",\"PositionID\",\"CitizenDesc\",\"ManagerID\",\"EmpSatisfaction\",\"SpecialProjectsCount\",\"DaysLateLast30\",\"Absences\",\"BirthYear\",\"YearofTermination\",\"YearofHire\",\"YearofPerformanceReview\",\"YearsinCompany\"],\"yaxis\":\"y2\",\"z\":[[1.0,0.05,0.04,0.11,-0.12,0.09,-0.04,-0.02,0.09,-0.15,-0.04,0.5,-0.03,0.07,0.09,-0.02,-0.12,0.03],[0.05,1.0,-0.02,-0.12,0.03,0.08,-0.03,-0.05,-0.07,-0.13,0.06,0.0,0.1,0.02,0.08,-0.01,-0.12,0.01],[0.04,-0.02,1.0,-0.04,0.06,-0.02,-0.08,-0.01,-0.04,-0.04,0.09,0.08,-0.0,0.01,-0.02,0.07,0.06,0.01],[0.11,-0.12,-0.04,1.0,-0.45,0.07,0.03,0.02,0.51,0.03,-0.79,0.12,0.05,-0.1,0.07,-0.26,-0.08,0.13],[-0.12,0.03,0.06,-0.45,1.0,-0.09,-0.13,-0.03,-0.39,0.06,0.51,-0.07,0.08,-0.09,-0.09,0.14,0.08,-0.16],[0.09,0.08,-0.02,0.07,-0.09,1.0,0.15,-0.06,0.23,-0.0,-0.15,0.14,0.1,-0.1,1.0,-0.39,-0.87,0.81],[-0.04,-0.03,-0.08,0.03,-0.13,0.15,1.0,0.0,0.07,-0.01,-0.15,-0.0,-0.07,-0.07,0.15,-0.11,-0.13,0.18],[-0.02,-0.05,-0.01,0.02,-0.03,-0.06,0.0,1.0,-0.02,-0.06,0.01,0.01,-0.04,0.07,-0.06,0.13,0.08,-0.06],[0.09,-0.07,-0.04,0.51,-0.39,0.23,0.07,-0.02,1.0,0.1,-0.47,0.07,0.13,-0.08,0.23,-0.24,-0.19,0.31],[-0.15,-0.13,-0.04,0.03,0.06,-0.0,-0.01,-0.06,0.1,1.0,0.03,-0.24,0.08,0.07,-0.0,0.01,-0.01,0.04],[-0.04,0.06,0.09,-0.79,0.51,-0.15,-0.15,0.01,-0.47,0.03,1.0,-0.09,-0.02,0.09,-0.15,0.38,0.16,-0.2],[0.5,0.0,0.08,0.12,-0.07,0.14,-0.0,0.01,0.07,-0.24,-0.09,1.0,0.0,0.05,0.14,-0.02,-0.07,0.17],[-0.03,0.1,-0.0,0.05,0.08,0.1,-0.07,-0.04,0.13,0.08,-0.02,0.0,1.0,0.04,0.1,-0.07,-0.1,0.07],[0.07,0.02,0.01,-0.1,-0.09,-0.1,-0.07,0.07,-0.08,0.07,0.09,0.05,0.04,1.0,-0.1,0.09,0.08,-0.08],[0.09,0.08,-0.02,0.07,-0.09,1.0,0.15,-0.06,0.23,-0.0,-0.15,0.14,0.1,-0.1,1.0,-0.39,-0.87,0.81],[-0.02,-0.01,0.07,-0.26,0.14,-0.39,-0.11,0.13,-0.24,0.01,0.38,-0.02,-0.07,0.09,-0.39,1.0,0.41,-0.42],[-0.12,-0.12,0.06,-0.08,0.08,-0.87,-0.13,0.08,-0.19,-0.01,0.16,-0.07,-0.1,0.08,-0.87,0.41,1.0,-0.5],[0.03,0.01,0.01,0.13,-0.16,0.81,0.18,-0.06,0.31,0.04,-0.2,0.17,0.07,-0.08,0.81,-0.42,-0.5,1.0]],\"type\":\"heatmap\"},{\"coloraxis\":\"coloraxis2\",\"customdata\":[[1.0,0.05,0.04,0.11,-0.12,0.09,-0.04,-0.02,0.09,-0.15,-0.04,0.5,-0.03,0.07,0.09,-0.02,-0.12,0.03],[0.05,1.0,-0.02,-0.12,0.03,0.08,-0.03,-0.05,-0.07,-0.13,0.06,0.0,0.1,0.02,0.08,-0.01,-0.12,0.01],[0.04,-0.02,1.0,-0.04,0.06,-0.02,-0.08,-0.01,-0.04,-0.04,0.09,0.08,-0.0,0.01,-0.02,0.07,0.06,0.01],[0.11,-0.12,-0.04,1.0,-0.45,0.07,0.03,0.02,0.51,0.03,-0.79,0.12,0.05,-0.1,0.07,-0.26,-0.08,0.13],[-0.12,0.03,0.06,-0.45,1.0,-0.09,-0.13,-0.03,-0.39,0.06,0.51,-0.07,0.08,-0.09,-0.09,0.14,0.08,-0.16],[0.09,0.08,-0.02,0.07,-0.09,1.0,0.15,-0.06,0.23,-0.0,-0.15,0.14,0.1,-0.1,1.0,-0.39,-0.87,0.81],[-0.04,-0.03,-0.08,0.03,-0.13,0.15,1.0,0.0,0.07,-0.01,-0.15,-0.0,-0.07,-0.07,0.15,-0.11,-0.13,0.18],[-0.02,-0.05,-0.01,0.02,-0.03,-0.06,0.0,1.0,-0.02,-0.06,0.01,0.01,-0.04,0.07,-0.06,0.13,0.08,-0.06],[0.09,-0.07,-0.04,0.51,-0.39,0.23,0.07,-0.02,1.0,0.1,-0.47,0.07,0.13,-0.08,0.23,-0.24,-0.19,0.31],[-0.15,-0.13,-0.04,0.03,0.06,-0.0,-0.01,-0.06,0.1,1.0,0.03,-0.24,0.08,0.07,-0.0,0.01,-0.01,0.04],[-0.04,0.06,0.09,-0.79,0.51,-0.15,-0.15,0.01,-0.47,0.03,1.0,-0.09,-0.02,0.09,-0.15,0.38,0.16,-0.2],[0.5,0.0,0.08,0.12,-0.07,0.14,-0.0,0.01,0.07,-0.24,-0.09,1.0,0.0,0.05,0.14,-0.02,-0.07,0.17],[-0.03,0.1,-0.0,0.05,0.08,0.1,-0.07,-0.04,0.13,0.08,-0.02,0.0,1.0,0.04,0.1,-0.07,-0.1,0.07],[0.07,0.02,0.01,-0.1,-0.09,-0.1,-0.07,0.07,-0.08,0.07,0.09,0.05,0.04,1.0,-0.1,0.09,0.08,-0.08],[0.09,0.08,-0.02,0.07,-0.09,1.0,0.15,-0.06,0.23,-0.0,-0.15,0.14,0.1,-0.1,1.0,-0.39,-0.87,0.81],[-0.02,-0.01,0.07,-0.26,0.14,-0.39,-0.11,0.13,-0.24,0.01,0.38,-0.02,-0.07,0.09,-0.39,1.0,0.41,-0.42],[-0.12,-0.12,0.06,-0.08,0.08,-0.87,-0.13,0.08,-0.19,-0.01,0.16,-0.07,-0.1,0.08,-0.87,0.41,1.0,-0.5],[0.03,0.01,0.01,0.13,-0.16,0.81,0.18,-0.06,0.31,0.04,-0.2,0.17,0.07,-0.08,0.81,-0.42,-0.5,1.0]],\"hovertemplate\":\"<b>Correlation</b><br>(%{x},%{y})<br><br>Synthetic: %{z}<br>(vs. Real: %{customdata})<extra></extra>\",\"x\":[\"EmpID\",\"MarriedID\",\"GenderID\",\"DeptID\",\"Salary\",\"Termd\",\"PositionID\",\"CitizenDesc\",\"ManagerID\",\"EmpSatisfaction\",\"SpecialProjectsCount\",\"DaysLateLast30\",\"Absences\",\"BirthYear\",\"YearofTermination\",\"YearofHire\",\"YearofPerformanceReview\",\"YearsinCompany\"],\"xaxis\":\"x3\",\"y\":[\"EmpID\",\"MarriedID\",\"GenderID\",\"DeptID\",\"Salary\",\"Termd\",\"PositionID\",\"CitizenDesc\",\"ManagerID\",\"EmpSatisfaction\",\"SpecialProjectsCount\",\"DaysLateLast30\",\"Absences\",\"BirthYear\",\"YearofTermination\",\"YearofHire\",\"YearofPerformanceReview\",\"YearsinCompany\"],\"yaxis\":\"y3\",\"z\":[[1.0,-0.02,0.01,-0.01,-0.03,-0.02,-0.03,0.01,-0.01,-0.01,-0.02,-0.01,0.02,0.01,0.01,-0.03,0.0,0.01],[-0.02,1.0,0.0,-0.0,0.01,0.02,0.01,-0.02,-0.0,-0.0,-0.0,0.0,-0.01,-0.02,-0.01,0.02,0.01,-0.01],[0.01,0.0,1.0,0.0,-0.02,-0.01,0.02,0.01,0.01,-0.01,-0.01,0.0,0.0,-0.02,0.0,-0.01,-0.02,-0.01],[-0.01,-0.0,0.0,1.0,0.0,0.01,0.0,-0.01,0.02,0.0,0.0,0.02,-0.01,0.02,-0.01,0.02,-0.0,-0.02],[-0.03,0.01,-0.02,0.0,1.0,-0.01,-0.01,0.0,-0.01,-0.0,-0.01,-0.03,-0.04,0.06,0.01,0.01,0.02,0.0],[-0.02,0.02,-0.01,0.01,-0.01,1.0,-0.0,0.0,0.02,0.01,-0.0,0.01,-0.0,0.03,0.01,-0.0,0.01,0.01],[-0.03,0.01,0.02,0.0,-0.01,-0.0,1.0,0.0,-0.04,0.01,0.02,0.0,-0.01,-0.01,0.01,-0.03,-0.01,-0.03],[0.01,-0.02,0.01,-0.01,0.0,0.0,0.0,1.0,0.02,-0.01,-0.0,-0.01,0.01,0.01,-0.01,0.0,0.02,0.01],[-0.01,-0.0,0.01,0.02,-0.01,0.02,-0.04,0.02,1.0,0.0,0.02,-0.01,-0.03,0.01,-0.01,-0.03,0.0,0.01],[-0.01,-0.0,-0.01,0.0,-0.0,0.01,0.01,-0.01,0.0,1.0,0.02,0.0,-0.02,0.0,-0.01,0.01,-0.01,-0.0],[-0.02,-0.0,-0.01,0.0,-0.01,-0.0,0.02,-0.0,0.02,0.02,1.0,-0.0,0.01,-0.0,0.0,0.01,-0.02,0.01],[-0.01,0.0,0.0,0.02,-0.03,0.01,0.0,-0.01,-0.01,0.0,-0.0,1.0,-0.01,0.01,-0.0,-0.01,0.0,-0.0],[0.02,-0.01,0.0,-0.01,-0.04,-0.0,-0.01,0.01,-0.03,-0.02,0.01,-0.01,1.0,0.02,-0.01,-0.1,-0.02,0.0],[0.01,-0.02,-0.02,0.02,0.06,0.03,-0.01,0.01,0.01,0.0,-0.0,0.01,0.02,1.0,0.01,-0.07,0.0,-0.0],[0.01,-0.01,0.0,-0.01,0.01,0.01,0.01,-0.01,-0.01,-0.01,0.0,-0.0,-0.01,0.01,1.0,-0.02,-0.01,-0.02],[-0.03,0.02,-0.01,0.02,0.01,-0.0,-0.03,0.0,-0.03,0.01,0.01,-0.01,-0.1,-0.07,-0.02,1.0,0.02,-0.01],[0.0,0.01,-0.02,-0.0,0.02,0.01,-0.01,0.02,0.0,-0.01,-0.02,0.0,-0.02,0.0,-0.01,0.02,1.0,-0.01],[0.01,-0.01,-0.01,-0.02,0.0,0.01,-0.03,0.01,0.01,-0.0,0.01,-0.0,0.0,-0.0,-0.02,-0.01,-0.01,1.0]],\"type\":\"heatmap\"}],                        {\"template\":{\"data\":{\"histogram2dcontour\":[{\"type\":\"histogram2dcontour\",\"colorbar\":{\"outlinewidth\":0,\"ticks\":\"\"},\"colorscale\":[[0.0,\"#0d0887\"],[0.1111111111111111,\"#46039f\"],[0.2222222222222222,\"#7201a8\"],[0.3333333333333333,\"#9c179e\"],[0.4444444444444444,\"#bd3786\"],[0.5555555555555556,\"#d8576b\"],[0.6666666666666666,\"#ed7953\"],[0.7777777777777778,\"#fb9f3a\"],[0.8888888888888888,\"#fdca26\"],[1.0,\"#f0f921\"]]}],\"choropleth\":[{\"type\":\"choropleth\",\"colorbar\":{\"outlinewidth\":0,\"ticks\":\"\"}}],\"histogram2d\":[{\"type\":\"histogram2d\",\"colorbar\":{\"outlinewidth\":0,\"ticks\":\"\"},\"colorscale\":[[0.0,\"#0d0887\"],[0.1111111111111111,\"#46039f\"],[0.2222222222222222,\"#7201a8\"],[0.3333333333333333,\"#9c179e\"],[0.4444444444444444,\"#bd3786\"],[0.5555555555555556,\"#d8576b\"],[0.6666666666666666,\"#ed7953\"],[0.7777777777777778,\"#fb9f3a\"],[0.8888888888888888,\"#fdca26\"],[1.0,\"#f0f921\"]]}],\"heatmap\":[{\"type\":\"heatmap\",\"colorbar\":{\"outlinewidth\":0,\"ticks\":\"\"},\"colorscale\":[[0.0,\"#0d0887\"],[0.1111111111111111,\"#46039f\"],[0.2222222222222222,\"#7201a8\"],[0.3333333333333333,\"#9c179e\"],[0.4444444444444444,\"#bd3786\"],[0.5555555555555556,\"#d8576b\"],[0.6666666666666666,\"#ed7953\"],[0.7777777777777778,\"#fb9f3a\"],[0.8888888888888888,\"#fdca26\"],[1.0,\"#f0f921\"]]}],\"heatmapgl\":[{\"type\":\"heatmapgl\",\"colorbar\":{\"outlinewidth\":0,\"ticks\":\"\"},\"colorscale\":[[0.0,\"#0d0887\"],[0.1111111111111111,\"#46039f\"],[0.2222222222222222,\"#7201a8\"],[0.3333333333333333,\"#9c179e\"],[0.4444444444444444,\"#bd3786\"],[0.5555555555555556,\"#d8576b\"],[0.6666666666666666,\"#ed7953\"],[0.7777777777777778,\"#fb9f3a\"],[0.8888888888888888,\"#fdca26\"],[1.0,\"#f0f921\"]]}],\"contourcarpet\":[{\"type\":\"contourcarpet\",\"colorbar\":{\"outlinewidth\":0,\"ticks\":\"\"}}],\"contour\":[{\"type\":\"contour\",\"colorbar\":{\"outlinewidth\":0,\"ticks\":\"\"},\"colorscale\":[[0.0,\"#0d0887\"],[0.1111111111111111,\"#46039f\"],[0.2222222222222222,\"#7201a8\"],[0.3333333333333333,\"#9c179e\"],[0.4444444444444444,\"#bd3786\"],[0.5555555555555556,\"#d8576b\"],[0.6666666666666666,\"#ed7953\"],[0.7777777777777778,\"#fb9f3a\"],[0.8888888888888888,\"#fdca26\"],[1.0,\"#f0f921\"]]}],\"surface\":[{\"type\":\"surface\",\"colorbar\":{\"outlinewidth\":0,\"ticks\":\"\"},\"colorscale\":[[0.0,\"#0d0887\"],[0.1111111111111111,\"#46039f\"],[0.2222222222222222,\"#7201a8\"],[0.3333333333333333,\"#9c179e\"],[0.4444444444444444,\"#bd3786\"],[0.5555555555555556,\"#d8576b\"],[0.6666666666666666,\"#ed7953\"],[0.7777777777777778,\"#fb9f3a\"],[0.8888888888888888,\"#fdca26\"],[1.0,\"#f0f921\"]]}],\"mesh3d\":[{\"type\":\"mesh3d\",\"colorbar\":{\"outlinewidth\":0,\"ticks\":\"\"}}],\"scatter\":[{\"fillpattern\":{\"fillmode\":\"overlay\",\"size\":10,\"solidity\":0.2},\"type\":\"scatter\"}],\"parcoords\":[{\"type\":\"parcoords\",\"line\":{\"colorbar\":{\"outlinewidth\":0,\"ticks\":\"\"}}}],\"scatterpolargl\":[{\"type\":\"scatterpolargl\",\"marker\":{\"colorbar\":{\"outlinewidth\":0,\"ticks\":\"\"}}}],\"bar\":[{\"error_x\":{\"color\":\"#2a3f5f\"},\"error_y\":{\"color\":\"#2a3f5f\"},\"marker\":{\"line\":{\"color\":\"#E5ECF6\",\"width\":0.5},\"pattern\":{\"fillmode\":\"overlay\",\"size\":10,\"solidity\":0.2}},\"type\":\"bar\"}],\"scattergeo\":[{\"type\":\"scattergeo\",\"marker\":{\"colorbar\":{\"outlinewidth\":0,\"ticks\":\"\"}}}],\"scatterpolar\":[{\"type\":\"scatterpolar\",\"marker\":{\"colorbar\":{\"outlinewidth\":0,\"ticks\":\"\"}}}],\"histogram\":[{\"marker\":{\"pattern\":{\"fillmode\":\"overlay\",\"size\":10,\"solidity\":0.2}},\"type\":\"histogram\"}],\"scattergl\":[{\"type\":\"scattergl\",\"marker\":{\"colorbar\":{\"outlinewidth\":0,\"ticks\":\"\"}}}],\"scatter3d\":[{\"type\":\"scatter3d\",\"line\":{\"colorbar\":{\"outlinewidth\":0,\"ticks\":\"\"}},\"marker\":{\"colorbar\":{\"outlinewidth\":0,\"ticks\":\"\"}}}],\"scattermapbox\":[{\"type\":\"scattermapbox\",\"marker\":{\"colorbar\":{\"outlinewidth\":0,\"ticks\":\"\"}}}],\"scatterternary\":[{\"type\":\"scatterternary\",\"marker\":{\"colorbar\":{\"outlinewidth\":0,\"ticks\":\"\"}}}],\"scattercarpet\":[{\"type\":\"scattercarpet\",\"marker\":{\"colorbar\":{\"outlinewidth\":0,\"ticks\":\"\"}}}],\"carpet\":[{\"aaxis\":{\"endlinecolor\":\"#2a3f5f\",\"gridcolor\":\"white\",\"linecolor\":\"white\",\"minorgridcolor\":\"white\",\"startlinecolor\":\"#2a3f5f\"},\"baxis\":{\"endlinecolor\":\"#2a3f5f\",\"gridcolor\":\"white\",\"linecolor\":\"white\",\"minorgridcolor\":\"white\",\"startlinecolor\":\"#2a3f5f\"},\"type\":\"carpet\"}],\"table\":[{\"cells\":{\"fill\":{\"color\":\"#EBF0F8\"},\"line\":{\"color\":\"white\"}},\"header\":{\"fill\":{\"color\":\"#C8D4E3\"},\"line\":{\"color\":\"white\"}},\"type\":\"table\"}],\"barpolar\":[{\"marker\":{\"line\":{\"color\":\"#E5ECF6\",\"width\":0.5},\"pattern\":{\"fillmode\":\"overlay\",\"size\":10,\"solidity\":0.2}},\"type\":\"barpolar\"}],\"pie\":[{\"automargin\":true,\"type\":\"pie\"}]},\"layout\":{\"autotypenumbers\":\"strict\",\"colorway\":[\"#636efa\",\"#EF553B\",\"#00cc96\",\"#ab63fa\",\"#FFA15A\",\"#19d3f3\",\"#FF6692\",\"#B6E880\",\"#FF97FF\",\"#FECB52\"],\"font\":{\"color\":\"#2a3f5f\"},\"hovermode\":\"closest\",\"hoverlabel\":{\"align\":\"left\"},\"paper_bgcolor\":\"white\",\"plot_bgcolor\":\"#E5ECF6\",\"polar\":{\"bgcolor\":\"#E5ECF6\",\"angularaxis\":{\"gridcolor\":\"white\",\"linecolor\":\"white\",\"ticks\":\"\"},\"radialaxis\":{\"gridcolor\":\"white\",\"linecolor\":\"white\",\"ticks\":\"\"}},\"ternary\":{\"bgcolor\":\"#E5ECF6\",\"aaxis\":{\"gridcolor\":\"white\",\"linecolor\":\"white\",\"ticks\":\"\"},\"baxis\":{\"gridcolor\":\"white\",\"linecolor\":\"white\",\"ticks\":\"\"},\"caxis\":{\"gridcolor\":\"white\",\"linecolor\":\"white\",\"ticks\":\"\"}},\"coloraxis\":{\"colorbar\":{\"outlinewidth\":0,\"ticks\":\"\"}},\"colorscale\":{\"sequential\":[[0.0,\"#0d0887\"],[0.1111111111111111,\"#46039f\"],[0.2222222222222222,\"#7201a8\"],[0.3333333333333333,\"#9c179e\"],[0.4444444444444444,\"#bd3786\"],[0.5555555555555556,\"#d8576b\"],[0.6666666666666666,\"#ed7953\"],[0.7777777777777778,\"#fb9f3a\"],[0.8888888888888888,\"#fdca26\"],[1.0,\"#f0f921\"]],\"sequentialminus\":[[0.0,\"#0d0887\"],[0.1111111111111111,\"#46039f\"],[0.2222222222222222,\"#7201a8\"],[0.3333333333333333,\"#9c179e\"],[0.4444444444444444,\"#bd3786\"],[0.5555555555555556,\"#d8576b\"],[0.6666666666666666,\"#ed7953\"],[0.7777777777777778,\"#fb9f3a\"],[0.8888888888888888,\"#fdca26\"],[1.0,\"#f0f921\"]],\"diverging\":[[0,\"#8e0152\"],[0.1,\"#c51b7d\"],[0.2,\"#de77ae\"],[0.3,\"#f1b6da\"],[0.4,\"#fde0ef\"],[0.5,\"#f7f7f7\"],[0.6,\"#e6f5d0\"],[0.7,\"#b8e186\"],[0.8,\"#7fbc41\"],[0.9,\"#4d9221\"],[1,\"#276419\"]]},\"xaxis\":{\"gridcolor\":\"white\",\"linecolor\":\"white\",\"ticks\":\"\",\"title\":{\"standoff\":15},\"zerolinecolor\":\"white\",\"automargin\":true,\"zerolinewidth\":2},\"yaxis\":{\"gridcolor\":\"white\",\"linecolor\":\"white\",\"ticks\":\"\",\"title\":{\"standoff\":15},\"zerolinecolor\":\"white\",\"automargin\":true,\"zerolinewidth\":2},\"scene\":{\"xaxis\":{\"backgroundcolor\":\"#E5ECF6\",\"gridcolor\":\"white\",\"linecolor\":\"white\",\"showbackground\":true,\"ticks\":\"\",\"zerolinecolor\":\"white\",\"gridwidth\":2},\"yaxis\":{\"backgroundcolor\":\"#E5ECF6\",\"gridcolor\":\"white\",\"linecolor\":\"white\",\"showbackground\":true,\"ticks\":\"\",\"zerolinecolor\":\"white\",\"gridwidth\":2},\"zaxis\":{\"backgroundcolor\":\"#E5ECF6\",\"gridcolor\":\"white\",\"linecolor\":\"white\",\"showbackground\":true,\"ticks\":\"\",\"zerolinecolor\":\"white\",\"gridwidth\":2}},\"shapedefaults\":{\"line\":{\"color\":\"#2a3f5f\"}},\"annotationdefaults\":{\"arrowcolor\":\"#2a3f5f\",\"arrowhead\":0,\"arrowwidth\":1},\"geo\":{\"bgcolor\":\"white\",\"landcolor\":\"#E5ECF6\",\"subunitcolor\":\"white\",\"showland\":true,\"showlakes\":true,\"lakecolor\":\"white\"},\"title\":{\"x\":0.05},\"mapbox\":{\"style\":\"light\"}}},\"xaxis\":{\"anchor\":\"y\",\"domain\":[0.26,0.74]},\"yaxis\":{\"anchor\":\"x\",\"domain\":[0.625,1.0],\"autorange\":\"reversed\"},\"xaxis2\":{\"anchor\":\"y2\",\"domain\":[0.0,0.45]},\"yaxis2\":{\"anchor\":\"x2\",\"domain\":[0.0,0.375],\"autorange\":\"reversed\"},\"xaxis3\":{\"anchor\":\"y3\",\"domain\":[0.55,1.0],\"matches\":\"x2\"},\"yaxis3\":{\"anchor\":\"x3\",\"domain\":[0.0,0.375],\"visible\":false,\"matches\":\"y2\",\"autorange\":\"reversed\"},\"annotations\":[{\"font\":{\"size\":16},\"showarrow\":false,\"text\":\"Real vs. Synthetic Similarity\",\"x\":0.5,\"xanchor\":\"center\",\"xref\":\"paper\",\"y\":1.0,\"yanchor\":\"bottom\",\"yref\":\"paper\"},{\"font\":{\"size\":16},\"showarrow\":false,\"text\":\"Numerical Correlation (Real Data)\",\"x\":0.225,\"xanchor\":\"center\",\"xref\":\"paper\",\"y\":0.375,\"yanchor\":\"bottom\",\"yref\":\"paper\"},{\"font\":{\"size\":16},\"showarrow\":false,\"text\":\"Numerical Correlation (Synthetic Data)\",\"x\":0.775,\"xanchor\":\"center\",\"xref\":\"paper\",\"y\":0.375,\"yanchor\":\"bottom\",\"yref\":\"paper\"}],\"title\":{\"text\":\"Data Quality: Column Pair Trends (Average Score=0.93)\"},\"coloraxis\":{\"colorbar\":{\"len\":0.5,\"x\":0.8,\"y\":0.8},\"cmin\":0,\"cmax\":1,\"colorscale\":[[0.0,\"#FF0000\"],[0.5,\"#F16141\"],[1.0,\"#36B37E\"]]},\"coloraxis2\":{\"colorbar\":{\"len\":0.5,\"y\":0.2},\"cmin\":-1,\"cmax\":1,\"colorscale\":[[0.0,\"#03AFF1\"],[0.5,\"#000036\"],[1.0,\"#01E0C9\"]]},\"height\":900,\"width\":900},                        {\"responsive\": true}                    ).then(function(){\n",
       "                            \n",
       "var gd = document.getElementById('97a1b61c-f788-4dee-9dae-12ca6d4c9522');\n",
       "var x = new MutationObserver(function (mutations, observer) {{\n",
       "        var display = window.getComputedStyle(gd).display;\n",
       "        if (!display || display === 'none') {{\n",
       "            console.log([gd, 'removed!']);\n",
       "            Plotly.purge(gd);\n",
       "            observer.disconnect();\n",
       "        }}\n",
       "}});\n",
       "\n",
       "// Listen for the removal of the full notebook cells\n",
       "var notebookContainer = gd.closest('#notebook-container');\n",
       "if (notebookContainer) {{\n",
       "    x.observe(notebookContainer, {childList: true});\n",
       "}}\n",
       "\n",
       "// Listen for the clearing of the current output cell\n",
       "var outputEl = gd.closest('.output');\n",
       "if (outputEl) {{\n",
       "    x.observe(outputEl, {childList: true});\n",
       "}}\n",
       "\n",
       "                        })                };                });            </script>        </div>"
      ]
     },
     "metadata": {},
     "output_type": "display_data"
    }
   ],
   "source": [
    "report.get_visualization(property_name='Column Pair Trends')"
   ]
  },
  {
   "cell_type": "markdown",
   "id": "56f5d225",
   "metadata": {},
   "source": [
    "## Diagnostic Report\n",
    "### Overview"
   ]
  },
  {
   "cell_type": "code",
   "execution_count": 17,
   "id": "72a7aa81",
   "metadata": {},
   "outputs": [
    {
     "name": "stderr",
     "output_type": "stream",
     "text": [
      "Creating report: 100%|████████████████████████████| 4/4 [00:03<00:00,  1.13it/s]"
     ]
    },
    {
     "name": "stdout",
     "output_type": "stream",
     "text": [
      "\n",
      "DiagnosticResults:\n",
      "\n",
      "SUCCESS:\n",
      "✓ The synthetic data covers over 90% of the numerical ranges present in the real data\n",
      "✓ Over 90% of the synthetic rows are not copies of the real data\n",
      "✓ The synthetic data follows over 90% of the min/max boundaries set by the real data\n"
     ]
    },
    {
     "name": "stderr",
     "output_type": "stream",
     "text": [
      "\n"
     ]
    }
   ],
   "source": [
    "real_data = pd.read_csv(\"20230308_Updated_HR_dataset.csv\")\n",
    "synthetic_data = pd.read_csv(\"synthetic_dataset_CopulaGANepochs2000.csv\")\n",
    "metadata=json.load(open(\"metadata.json\", \"r\"))\n",
    "report = DiagnosticReport()\n",
    "report.generate(real_data, synthetic_data, metadata)"
   ]
  },
  {
   "cell_type": "code",
   "execution_count": 19,
   "id": "951f5d83",
   "metadata": {},
   "outputs": [
    {
     "data": {
      "text/plain": [
       "{'Coverage': 0.9985835947388695, 'Synthesis': 1.0, 'Boundaries': 1.0}"
      ]
     },
     "execution_count": 19,
     "metadata": {},
     "output_type": "execute_result"
    }
   ],
   "source": [
    "report.get_properties()"
   ]
  },
  {
   "cell_type": "code",
   "execution_count": 75,
   "id": "46b91820",
   "metadata": {},
   "outputs": [
    {
     "data": {
      "application/vnd.plotly.v1+json": {
       "config": {
        "plotlyServerURL": "https://plot.ly"
       },
       "data": [
        {
         "fill": "tozeroy",
         "hovertemplate": "<b>Real</b><br>Value: %{x}<br>Frequency: %{y}<extra></extra>",
         "legendgroup": "Real",
         "marker": {
          "color": "#000036"
         },
         "mode": "lines",
         "name": "Real",
         "showlegend": true,
         "type": "scatter",
         "x": [
          0,
          0.004,
          0.008,
          0.012,
          0.016,
          0.02,
          0.024,
          0.028,
          0.032,
          0.036,
          0.04,
          0.044,
          0.048,
          0.052,
          0.056,
          0.06,
          0.064,
          0.068,
          0.072,
          0.076,
          0.08,
          0.084,
          0.088,
          0.092,
          0.096,
          0.1,
          0.104,
          0.108,
          0.112,
          0.116,
          0.12,
          0.124,
          0.128,
          0.132,
          0.136,
          0.14,
          0.144,
          0.148,
          0.152,
          0.156,
          0.16,
          0.164,
          0.168,
          0.172,
          0.176,
          0.18,
          0.184,
          0.188,
          0.192,
          0.196,
          0.2,
          0.204,
          0.208,
          0.212,
          0.216,
          0.22,
          0.224,
          0.228,
          0.232,
          0.236,
          0.24,
          0.244,
          0.248,
          0.252,
          0.256,
          0.26,
          0.264,
          0.268,
          0.272,
          0.276,
          0.28,
          0.284,
          0.288,
          0.292,
          0.296,
          0.3,
          0.304,
          0.308,
          0.312,
          0.316,
          0.32,
          0.324,
          0.328,
          0.332,
          0.336,
          0.34,
          0.344,
          0.348,
          0.352,
          0.356,
          0.36,
          0.364,
          0.368,
          0.372,
          0.376,
          0.38,
          0.384,
          0.388,
          0.392,
          0.396,
          0.4,
          0.404,
          0.408,
          0.412,
          0.416,
          0.42,
          0.424,
          0.428,
          0.432,
          0.436,
          0.44,
          0.444,
          0.448,
          0.452,
          0.456,
          0.46,
          0.464,
          0.468,
          0.472,
          0.476,
          0.48,
          0.484,
          0.488,
          0.492,
          0.496,
          0.5,
          0.504,
          0.508,
          0.512,
          0.516,
          0.52,
          0.524,
          0.528,
          0.532,
          0.536,
          0.54,
          0.544,
          0.548,
          0.552,
          0.556,
          0.56,
          0.564,
          0.568,
          0.572,
          0.576,
          0.58,
          0.584,
          0.588,
          0.592,
          0.596,
          0.6,
          0.604,
          0.608,
          0.612,
          0.616,
          0.62,
          0.624,
          0.628,
          0.632,
          0.636,
          0.64,
          0.644,
          0.648,
          0.652,
          0.656,
          0.66,
          0.664,
          0.668,
          0.672,
          0.676,
          0.68,
          0.684,
          0.688,
          0.692,
          0.696,
          0.7,
          0.704,
          0.708,
          0.712,
          0.716,
          0.72,
          0.724,
          0.728,
          0.732,
          0.736,
          0.74,
          0.744,
          0.748,
          0.752,
          0.756,
          0.76,
          0.764,
          0.768,
          0.772,
          0.776,
          0.78,
          0.784,
          0.788,
          0.792,
          0.796,
          0.8,
          0.804,
          0.808,
          0.812,
          0.816,
          0.82,
          0.824,
          0.828,
          0.832,
          0.836,
          0.84,
          0.844,
          0.848,
          0.852,
          0.856,
          0.86,
          0.864,
          0.868,
          0.872,
          0.876,
          0.88,
          0.884,
          0.888,
          0.892,
          0.896,
          0.9,
          0.904,
          0.908,
          0.912,
          0.916,
          0.92,
          0.924,
          0.928,
          0.932,
          0.936,
          0.94,
          0.944,
          0.948,
          0.952,
          0.956,
          0.96,
          0.964,
          0.968,
          0.972,
          0.976,
          0.98,
          0.984,
          0.988,
          0.992,
          0.996,
          1,
          1.004,
          1.008,
          1.012,
          1.016,
          1.02,
          1.024,
          1.028,
          1.032,
          1.036,
          1.04,
          1.044,
          1.048,
          1.052,
          1.056,
          1.06,
          1.064,
          1.068,
          1.072,
          1.076,
          1.08,
          1.084,
          1.088,
          1.092,
          1.096,
          1.1,
          1.104,
          1.108,
          1.112,
          1.116,
          1.12,
          1.124,
          1.128,
          1.132,
          1.136,
          1.14,
          1.144,
          1.148,
          1.152,
          1.156,
          1.16,
          1.164,
          1.168,
          1.172,
          1.176,
          1.18,
          1.184,
          1.188,
          1.192,
          1.196,
          1.2,
          1.204,
          1.208,
          1.212,
          1.216,
          1.22,
          1.224,
          1.228,
          1.232,
          1.236,
          1.24,
          1.244,
          1.248,
          1.252,
          1.256,
          1.26,
          1.264,
          1.268,
          1.272,
          1.276,
          1.28,
          1.284,
          1.288,
          1.292,
          1.296,
          1.3,
          1.304,
          1.308,
          1.312,
          1.316,
          1.32,
          1.324,
          1.328,
          1.332,
          1.336,
          1.34,
          1.344,
          1.348,
          1.352,
          1.356,
          1.36,
          1.364,
          1.368,
          1.372,
          1.376,
          1.38,
          1.384,
          1.388,
          1.392,
          1.396,
          1.4,
          1.404,
          1.408,
          1.412,
          1.416,
          1.42,
          1.424,
          1.428,
          1.432,
          1.436,
          1.44,
          1.444,
          1.448,
          1.452,
          1.456,
          1.46,
          1.464,
          1.468,
          1.472,
          1.476,
          1.48,
          1.484,
          1.488,
          1.492,
          1.496,
          1.5,
          1.504,
          1.508,
          1.512,
          1.516,
          1.52,
          1.524,
          1.528,
          1.532,
          1.536,
          1.54,
          1.544,
          1.548,
          1.552,
          1.556,
          1.56,
          1.564,
          1.568,
          1.572,
          1.576,
          1.58,
          1.584,
          1.588,
          1.592,
          1.596,
          1.6,
          1.604,
          1.608,
          1.612,
          1.616,
          1.62,
          1.624,
          1.628,
          1.632,
          1.636,
          1.64,
          1.644,
          1.648,
          1.652,
          1.656,
          1.66,
          1.664,
          1.668,
          1.672,
          1.676,
          1.68,
          1.684,
          1.688,
          1.692,
          1.696,
          1.7,
          1.704,
          1.708,
          1.712,
          1.716,
          1.72,
          1.724,
          1.728,
          1.732,
          1.736,
          1.74,
          1.744,
          1.748,
          1.752,
          1.756,
          1.76,
          1.764,
          1.768,
          1.772,
          1.776,
          1.78,
          1.784,
          1.788,
          1.792,
          1.796,
          1.8,
          1.804,
          1.808,
          1.812,
          1.816,
          1.82,
          1.824,
          1.828,
          1.832,
          1.836,
          1.84,
          1.844,
          1.848,
          1.852,
          1.856,
          1.86,
          1.864,
          1.868,
          1.872,
          1.876,
          1.88,
          1.884,
          1.888,
          1.892,
          1.896,
          1.9,
          1.904,
          1.908,
          1.912,
          1.916,
          1.92,
          1.924,
          1.928,
          1.932,
          1.936,
          1.94,
          1.944,
          1.948,
          1.952,
          1.956,
          1.96,
          1.964,
          1.968,
          1.972,
          1.976,
          1.98,
          1.984,
          1.988,
          1.992,
          1.996
         ],
         "xaxis": "x",
         "y": [
          0.12143753783720448,
          0.12137709026120305,
          0.12119592800607981,
          0.12089459159274159,
          0.12047397890315586,
          0.11993534072285364,
          0.1192802745438698,
          0.11851071667109203,
          0.11762893268660517,
          0.11663750633775102,
          0.11553932692517291,
          0.11433757527699165,
          0.11303570840437961,
          0.11163744294209017,
          0.11014673748489051,
          0.1085677739372827,
          0.10690493799933136,
          0.1051627989158172,
          0.10334608861926264,
          0.1014596803996345,
          0.0995085672346982,
          0.09749783991509163,
          0.09543266509722675,
          0.09331826341512578,
          0.09115988777931498,
          0.08896280198695575,
          0.0867322597625624,
          0.08447348434299107,
          0.08219164871395711,
          0.07989185659822212,
          0.0775791242878685,
          0.07525836340483104,
          0.07293436466516902,
          0.07061178271352611,
          0.06829512208493155,
          0.06598872434163068,
          0.0636967564230867,
          0.06142320023775512,
          0.05917184351577952,
          0.056946271932475145,
          0.054749862503429496,
          0.05258577824332692,
          0.050456964072263494,
          0.04836614394541904,
          0.04631581917454429,
          0.04430826790285298,
          0.042345545688616835,
          0.04042948714707741,
          0.038561708595240475,
          0.036743611639716324,
          0.0349763876440322,
          0.03326102300876448,
          0.031598305195423185,
          0.029988829423254263,
          0.028433005966994683,
          0.026931067983096017,
          0.02548307979200473,
          0.024088945544713344,
          0.022748418202949733,
          0.021461108764008897,
          0.020226495663315552,
          0.01904393429029347,
          0.01791266655596493,
          0.016831830453865913,
          0.015800469559294268,
          0.014817542415564364,
          0.013881931759776266,
          0.012992453544578089,
          0.012147865716462444,
          0.011346876715252628,
          0.01058815366356115,
          0.00987033021910646,
          0.009192014066819562,
          0.00855179403162876,
          0.007948246796650378,
          0.007379943215210389,
          0.006845454208654244,
          0.006343356245251047,
          0.005872236398646975,
          0.005430696987259705,
          0.005017359798718961,
          0.004630869905942779,
          0.004269899083688923,
          0.003933148836435233,
          0.0036193530502214477,
          0.003327280282631436,
          0.003055735706413575,
          0.002803562723334463,
          0.0025696442657461953,
          0.002352903804028721,
          0.002152306078558052,
          0.0019668575751593084,
          0.0017956067631438202,
          0.0016376441150142145,
          0.00149210192676487,
          0.0013581539574199948,
          0.0012350149060526055,
          0.001121939744027516,
          0.0010182229196242438,
          0.000923197451533937,
          0.0008362339270010088,
          0.0007567394196068217,
          0.0006841563408810788,
          0.0006179612390871578,
          0.0005576635576704039,
          0.0005028043649925747,
          0.00045295506610957864,
          0.0004077161064908314,
          0.00036671567673383633,
          0.000329608426502749,
          0.00029607419511989063,
          0.0002658167654687409,
          0.0002385626471294393,
          0.000214059893966098,
          0.00019207696072144287,
          0.00017240160254999466,
          0.00015483982083707356,
          0.0001392148581077418,
          0.0001253662443272577,
          0.00011314889643206425,
          0.0001024322725068138,
          9.3099581636998e-05,
          8.504705011675867e-05,
          7.818324437538678e-05,
          7.24284507016758e-05,
          6.771411159028373e-05,
          6.398231830601757e-05,
          6.11853590578155e-05,
          5.92853219914313e-05,
          5.825375204562596e-05,
          5.80713605682482e-05,
          5.8727786453156215e-05,
          6.022140743375977e-05,
          6.255920005138314e-05,
          6.575664670409736e-05,
          6.98376880716961e-05,
          7.483471910278956e-05,
          8.078862663841961e-05,
          8.774886663119744e-05,
          9.577357879795944e-05,
          0.00010492973641580031,
          0.0001152933288347362,
          0.0001269495741341266,
          0.00013999315919353535,
          0.00015452850428139366,
          0.0001706700490864302,
          0.00018854255692736941,
          0.00020828143367626953,
          0.0002300330577207429,
          0.00025395511707115365,
          0.0002802169494920729,
          0.00030899988130444746,
          0.00034049756026802445,
          0.00037491627771499405,
          0.00041247527486803885,
          0.00045340702804207313,
          0.0004979575072020969,
          0.0005463864021332259,
          0.0005989673102770051,
          0.0006559878801043995,
          0.000717749903734694,
          0.0007845693523753185,
          0.0008567763480547554,
          0.0009347150650538291,
          0.0010187435544146111,
          0.0011092334849251804,
          0.0012065697940475927,
          0.001311150242379671,
          0.0014233848654230778,
          0.001543695316674739,
          0.001672514096369239,
          0.0018102836605803014,
          0.001957455405842057,
          0.00211448852497821,
          0.002281848730431028,
          0.0024600068420633004,
          0.0026494372371651206,
          0.0028506161612336114,
          0.0030640198990052,
          0.0032901228062056,
          0.0035293952035378756,
          0.0037823011355504264,
          0.004049295998208979,
          0.004330824040232845,
          0.004627315744539531,
          0.004939185097463724,
          0.005266826754768111,
          0.0056106131148340515,
          0.005970891310797838,
          0.0063479801347717316,
          0.006742166908645275,
          0.007153704317286784,
          0.007582807221245166,
          0.008029649467271693,
          0.008494360716126269,
          0.008977023308188095,
          0.009477669188340298,
          0.009996276912427838,
          0.010532768758283748,
          0.011087007964864528,
          0.011658796123420453,
          0.012247870744836045,
          0.012853903027299461,
          0.013476495848288014,
          0.014115182004479261,
          0.014769422722609435,
          0.015438606463494984,
          0.016122048040407993,
          0.016818988071749995,
          0.017528592786501887,
          0.01824995419924418,
          0.018982090669648462,
          0.01972394785924248,
          0.02047440009596289,
          0.021232252154539548,
          0.021996241458122432,
          0.02276504070378195,
          0.023537260911605955,
          0.024311454894104842,
          0.02508612113954134,
          0.025859708099651147,
          0.026630618869040605,
          0.02739721624036509,
          0.02815782811623687,
          0.02891075325571358,
          0.02965426733020574,
          0.030386629260746693,
          0.031106087805820113,
          0.031810888366362776,
          0.03249927997219154,
          0.033169522411959966,
          0.03381989346685813,
          0.034448696206669994,
          0.035054266305470434,
          0.03563497933326782,
          0.03618925797921979,
          0.03671557916173016,
          0.03721248098077711,
          0.037678569468191606,
          0.038112525092384004,
          0.03851310897510275,
          0.03887916877928944,
          0.03920964422890407,
          0.03950357222373122,
          0.03976009151465798,
          0.03997844690765506,
          0.040157992967761014,
          0.04029819719763047,
          0.040398642668753974,
          0.04045903008714335,
          0.04047917927916267,
          0.040459030087186945,
          0.04039864266884449,
          0.0402981971977731,
          0.040157992967964316,
          0.03997844690793069,
          0.03976009151502162,
          0.03950357222420463,
          0.039209644229513944,
          0.038879168780071166,
          0.03851310897610049,
          0.038112525093654176,
          0.037678569469804836,
          0.03721248098282291,
          0.036715579164320805,
          0.03618925798249545,
          0.03563497933740674,
          0.035054266310692986,
          0.03444869621325356,
          0.03381989347514906,
          0.033169522422390435,
          0.03249927998530085,
          0.03181088838282129,
          0.031106087826463447,
          0.03038662928661289,
          0.02965426736258385,
          0.028910753296202883,
          0.028157828166818995,
          0.02739721630349276,
          0.026630618947746938,
          0.025859708197683212,
          0.025086121261522744,
          0.024311455045735435,
          0.02353726109990452,
          0.022765040937383248,
          0.02199624174763732,
          0.021232252512994095,
          0.020474400539331535,
          0.019723948407094162,
          0.018982091345932105,
          0.0182499550332369,
          0.017528593813957556,
          0.01681898933628696,
          0.016122049595182725,
          0.015438608373220416,
          0.01476942506598526,
          0.014115184877114708,
          0.013476499366213292,
          0.012853907331180367,
          0.012247876005025823,
          0.011658802546009405,
          0.011087015798915233,
          0.010532778304475755,
          0.009996288533374025,
          0.00947768332088441,
          0.008977040478048008,
          0.008494381555309193,
          0.008029674734765084,
          0.007582837827569335,
          0.007153741353597926,
          0.006742211681193363,
          0.0063480342056515425,
          0.00597095654608806,
          0.0056106917413983335,
          0.005266921427200708,
          0.004939298976900841,
          0.004627452591332701,
          0.0043309883227979325,
          0.004049493020726186,
          0.0037825371876073276,
          0.0035296777352832537,
          0.0032904606331253063,
          0.0030644234410514264,
          0.002851097721746087,
          0.0026500113278255964,
          0.0024606905610384507,
          0.002282662201893333,
          0.002115455409367404,
          0.001958603491555,
          0.0018116455492734002,
          0.0016741279957446934,
          0.0015456059565199117,
          0.0014256445548052141,
          0.0013138200882911772,
          0.0012097211044768577,
          0.0011129493823245219,
          0.0010231208288822016,
          0.0009398663002741015,
          0.0008628323571895628,
          0.0007916819657039839,
          0.0007260951549480073,
          0.0006657696438091127,
          0.00061042144951066,
          0.0005597854915733852,
          0.0005136162053309103,
          0.00047168817985025486,
          0.0004337968358079649,
          0.0003997591595975865,
          0.0003694145107021332,
          0.000342625520159815,
          0.00031927909878847366,
          0.0002992875747173692,
          0.00028258998070716763,
          0.0002691535127227425,
          0.0002589751822590162,
          0.000252083686007708,
          0.0002485415175905338,
          0.0002484473472687354,
          0.0002519386967653204,
          0.00025919493759764885,
          0.0002704406426059669,
          0.00028594932166713875,
          0.0003060475738891719,
          0.0003311196898763106,
          0.0003616127389184109,
          0.0003980421771723636,
          0.00044099801404430804,
          0.0004911515750243013,
          0.0005492629001415144,
          0.0006161888179673919,
          0.0006928917356624488,
          0.0007804491859039379,
          0.0008800641716065103,
          0.000993076349115652,
          0.0011209740899695943,
          0.0012654074603434212,
          0.0014282021558616772,
          0.0016113744275423213,
          0.0018171470321652766,
          0.002047966237290107,
          0.002306519907427757,
          0.0025957566934501613,
          0.0029189063421424916,
          0.0032795011368243403,
          0.0036813984731313303,
          0.0041288045663205215,
          0.00462629927779694,
          0.005178862038920612,
          0.005791898839512722,
          0.006471270236816818,
          0.0072233203279673,
          0.008054906615271659,
          0.00897343067882979,
          0.009986869555207879,
          0.011103807704090802,
          0.012333469427093707,
          0.013685751584286839,
          0.015171256434543704,
          0.016801324405664408,
          0.018588066579452247,
          0.020544396655675964,
          0.022684062137257516,
          0.025021674457284822,
          0.02757273774671556,
          0.030353675920146723,
          0.03338185773597232,
          0.03667561946692695,
          0.040254284797619354,
          0.04413818154754104,
          0.04834865480143114,
          0.05290807601414743,
          0.0578398476445963,
          0.06316840286321593,
          0.06891919987023215,
          0.07511871035784426,
          0.08179440164888907,
          0.08897471204780075,
          0.09668901894706242,
          0.10496759924422451,
          0.11384158164114509,
          0.12334289041871502,
          0.13350418030723654,
          0.14435876210483392,
          0.15594051873429143,
          0.16828381147226362,
          0.18142337613426304,
          0.19539420905410196,
          0.21023144275736871,
          0.2259702112952999,
          0.24264550527739376,
          0.2602920167186272,
          0.2789439738992746,
          0.29863496652219756,
          0.3193977615433556,
          0.3412641101455679,
          0.36426454642281064,
          0.38842817844184097,
          0.413782472448684,
          0.4403530310890448,
          0.46816336661275765,
          0.4972346701323246,
          0.5275855781031146,
          0.5592319372870688,
          0.5921865695517056,
          0.6264590379403876,
          0.6620554155278271,
          0.6989780586444394,
          0.7372253861146842,
          0.7767916662054188,
          0.8176668130207806,
          0.85983619410827,
          0.9032804510563016,
          0.9479753348650319,
          0.9938915578596776,
          1.0409946638876215,
          1.0892449184973456,
          1.138597220737634,
          1.1890010381399616,
          1.2404003663549705,
          1.2927337148059705,
          1.3459341195979795,
          1.3999291847812627,
          1.4546411529136318,
          1.509987005697026,
          1.565878595281392,
          1.622222806635244,
          1.6789217511766923,
          1.7358729916447495,
          1.7929697979681922,
          1.8501014336614439,
          1.9071534720440755,
          1.9640081413467327,
          2.0205446975303887,
          2.0766398234150074,
          2.132168052482826,
          2.187002215501863,
          2.241013907899542,
          2.29407397561497,
          2.3460530169679945,
          2.3968218979082976,
          2.4462522778495206,
          2.4942171431549074,
          2.5405913452213347,
          2.5852521400121122,
          2.6280797258155197,
          2.668957775957087,
          2.7077739631693576,
          2.74442047232568,
          2.7787944982737764,
          2.8107987255589584,
          2.840341786910172,
          2.867338697469432,
          2.8917112618788336,
          2.91338845149753,
          2.932306749203316,
          2.9484104594367095,
          2.961651981369176,
          2.971992043321496,
          2.9793998968160835,
          2.9838534689212133
         ],
         "yaxis": "y"
        },
        {
         "fill": "tozeroy",
         "hovertemplate": "<b>Synthetic</b><br>Value: %{x}<br>Frequency: %{y}<extra></extra>",
         "legendgroup": "Synthetic",
         "marker": {
          "color": "#01E0C9"
         },
         "mode": "lines",
         "name": "Synthetic",
         "showlegend": true,
         "type": "scatter",
         "x": [
          0,
          0.004,
          0.008,
          0.012,
          0.016,
          0.02,
          0.024,
          0.028,
          0.032,
          0.036,
          0.04,
          0.044,
          0.048,
          0.052,
          0.056,
          0.06,
          0.064,
          0.068,
          0.072,
          0.076,
          0.08,
          0.084,
          0.088,
          0.092,
          0.096,
          0.1,
          0.104,
          0.108,
          0.112,
          0.116,
          0.12,
          0.124,
          0.128,
          0.132,
          0.136,
          0.14,
          0.144,
          0.148,
          0.152,
          0.156,
          0.16,
          0.164,
          0.168,
          0.172,
          0.176,
          0.18,
          0.184,
          0.188,
          0.192,
          0.196,
          0.2,
          0.204,
          0.208,
          0.212,
          0.216,
          0.22,
          0.224,
          0.228,
          0.232,
          0.236,
          0.24,
          0.244,
          0.248,
          0.252,
          0.256,
          0.26,
          0.264,
          0.268,
          0.272,
          0.276,
          0.28,
          0.284,
          0.288,
          0.292,
          0.296,
          0.3,
          0.304,
          0.308,
          0.312,
          0.316,
          0.32,
          0.324,
          0.328,
          0.332,
          0.336,
          0.34,
          0.344,
          0.348,
          0.352,
          0.356,
          0.36,
          0.364,
          0.368,
          0.372,
          0.376,
          0.38,
          0.384,
          0.388,
          0.392,
          0.396,
          0.4,
          0.404,
          0.408,
          0.412,
          0.416,
          0.42,
          0.424,
          0.428,
          0.432,
          0.436,
          0.44,
          0.444,
          0.448,
          0.452,
          0.456,
          0.46,
          0.464,
          0.468,
          0.472,
          0.476,
          0.48,
          0.484,
          0.488,
          0.492,
          0.496,
          0.5,
          0.504,
          0.508,
          0.512,
          0.516,
          0.52,
          0.524,
          0.528,
          0.532,
          0.536,
          0.54,
          0.544,
          0.548,
          0.552,
          0.556,
          0.56,
          0.564,
          0.568,
          0.572,
          0.576,
          0.58,
          0.584,
          0.588,
          0.592,
          0.596,
          0.6,
          0.604,
          0.608,
          0.612,
          0.616,
          0.62,
          0.624,
          0.628,
          0.632,
          0.636,
          0.64,
          0.644,
          0.648,
          0.652,
          0.656,
          0.66,
          0.664,
          0.668,
          0.672,
          0.676,
          0.68,
          0.684,
          0.688,
          0.692,
          0.696,
          0.7,
          0.704,
          0.708,
          0.712,
          0.716,
          0.72,
          0.724,
          0.728,
          0.732,
          0.736,
          0.74,
          0.744,
          0.748,
          0.752,
          0.756,
          0.76,
          0.764,
          0.768,
          0.772,
          0.776,
          0.78,
          0.784,
          0.788,
          0.792,
          0.796,
          0.8,
          0.804,
          0.808,
          0.812,
          0.816,
          0.82,
          0.824,
          0.828,
          0.832,
          0.836,
          0.84,
          0.844,
          0.848,
          0.852,
          0.856,
          0.86,
          0.864,
          0.868,
          0.872,
          0.876,
          0.88,
          0.884,
          0.888,
          0.892,
          0.896,
          0.9,
          0.904,
          0.908,
          0.912,
          0.916,
          0.92,
          0.924,
          0.928,
          0.932,
          0.936,
          0.94,
          0.944,
          0.948,
          0.952,
          0.956,
          0.96,
          0.964,
          0.968,
          0.972,
          0.976,
          0.98,
          0.984,
          0.988,
          0.992,
          0.996,
          1,
          1.004,
          1.008,
          1.012,
          1.016,
          1.02,
          1.024,
          1.028,
          1.032,
          1.036,
          1.04,
          1.044,
          1.048,
          1.052,
          1.056,
          1.06,
          1.064,
          1.068,
          1.072,
          1.076,
          1.08,
          1.084,
          1.088,
          1.092,
          1.096,
          1.1,
          1.104,
          1.108,
          1.112,
          1.116,
          1.12,
          1.124,
          1.128,
          1.132,
          1.136,
          1.14,
          1.144,
          1.148,
          1.152,
          1.156,
          1.16,
          1.164,
          1.168,
          1.172,
          1.176,
          1.18,
          1.184,
          1.188,
          1.192,
          1.196,
          1.2,
          1.204,
          1.208,
          1.212,
          1.216,
          1.22,
          1.224,
          1.228,
          1.232,
          1.236,
          1.24,
          1.244,
          1.248,
          1.252,
          1.256,
          1.26,
          1.264,
          1.268,
          1.272,
          1.276,
          1.28,
          1.284,
          1.288,
          1.292,
          1.296,
          1.3,
          1.304,
          1.308,
          1.312,
          1.316,
          1.32,
          1.324,
          1.328,
          1.332,
          1.336,
          1.34,
          1.344,
          1.348,
          1.352,
          1.356,
          1.36,
          1.364,
          1.368,
          1.372,
          1.376,
          1.38,
          1.384,
          1.388,
          1.392,
          1.396,
          1.4,
          1.404,
          1.408,
          1.412,
          1.416,
          1.42,
          1.424,
          1.428,
          1.432,
          1.436,
          1.44,
          1.444,
          1.448,
          1.452,
          1.456,
          1.46,
          1.464,
          1.468,
          1.472,
          1.476,
          1.48,
          1.484,
          1.488,
          1.492,
          1.496,
          1.5,
          1.504,
          1.508,
          1.512,
          1.516,
          1.52,
          1.524,
          1.528,
          1.532,
          1.536,
          1.54,
          1.544,
          1.548,
          1.552,
          1.556,
          1.56,
          1.564,
          1.568,
          1.572,
          1.576,
          1.58,
          1.584,
          1.588,
          1.592,
          1.596,
          1.6,
          1.604,
          1.608,
          1.612,
          1.616,
          1.62,
          1.624,
          1.628,
          1.632,
          1.636,
          1.64,
          1.644,
          1.648,
          1.652,
          1.656,
          1.66,
          1.664,
          1.668,
          1.672,
          1.676,
          1.68,
          1.684,
          1.688,
          1.692,
          1.696,
          1.7,
          1.704,
          1.708,
          1.712,
          1.716,
          1.72,
          1.724,
          1.728,
          1.732,
          1.736,
          1.74,
          1.744,
          1.748,
          1.752,
          1.756,
          1.76,
          1.764,
          1.768,
          1.772,
          1.776,
          1.78,
          1.784,
          1.788,
          1.792,
          1.796,
          1.8,
          1.804,
          1.808,
          1.812,
          1.816,
          1.82,
          1.824,
          1.828,
          1.832,
          1.836,
          1.84,
          1.844,
          1.848,
          1.852,
          1.856,
          1.86,
          1.864,
          1.868,
          1.872,
          1.876,
          1.88,
          1.884,
          1.888,
          1.892,
          1.896,
          1.9,
          1.904,
          1.908,
          1.912,
          1.916,
          1.92,
          1.924,
          1.928,
          1.932,
          1.936,
          1.94,
          1.944,
          1.948,
          1.952,
          1.956,
          1.96,
          1.964,
          1.968,
          1.972,
          1.976,
          1.98,
          1.984,
          1.988,
          1.992,
          1.996
         ],
         "xaxis": "x",
         "y": [
          0.19488950037144553,
          0.19458599896335468,
          0.19367832765239945,
          0.19217494115305936,
          0.19008978486146297,
          0.18744207948568103,
          0.18425602607757677,
          0.1805604377966222,
          0.1763883062404454,
          0.17177631146703612,
          0.16676428587725442,
          0.1613946428992217,
          0.15571178190270357,
          0.14976148096554914,
          0.14359028901810286,
          0.13724492851706727,
          0.1307717191669252,
          0.12421603234179812,
          0.11762178479621065,
          0.11103097902733249,
          0.1044832963045825,
          0.09801574695762537,
          0.09166238105342682,
          0.08545406113889784,
          0.07941829731661323,
          0.07357914359275025,
          0.06795715321938872,
          0.06256938967323515,
          0.05742948898925513,
          0.05254776841425464,
          0.04793137576961444,
          0.04358447351582951,
          0.039508451290406144,
          0.035702160636286194,
          0.032162165737414476,
          0.028883004214942536,
          0.02585745239297499,
          0.023076789896019176,
          0.02053105896983526,
          0.01820931450151762,
          0.01609986133229425,
          0.014190476087840933,
          0.012468611377739627,
          0.010921580822068783,
          0.009536723935382272,
          0.00830155042549548,
          0.007203863938114338,
          0.006231865692602037,
          0.005374238805659018,
          0.004620214387273706,
          0.003959620717822636,
          0.0033829169792332684,
          0.002881213120630114,
          0.002446277494919312,
          0.002070533913148997,
          0.0017470497345213475,
          0.0014695165481421837,
          0.001232224914472379,
          0.001030034526258587,
          0.0008583410263523829,
          0.0007130405886461343,
          0.0005904932331288098,
          0.0004874857109131582,
          0.00040119466344617897,
          0.00032915063475680875,
          0.0002692033986410682,
          0.00021948895565744757,
          0.00017839845868053935,
          0.00014454924103615607,
          0.00011675804800357553,
          9.40165104688567e-05,
          7.546884822733595e-05,
          6.039174914036915e-05,
          4.8176338185413004e-05,
          3.831212644526884e-05,
          3.0372813264896168e-05,
          2.4003804162157546e-05,
          1.891130163965219e-05,
          1.485282488750966e-05,
          1.1629016640383094e-05,
          9.076600385581895e-06,
          7.062358030690865e-06,
          5.478006435438218e-06,
          4.2358603900299384e-06,
          3.2651792616085764e-06,
          2.5091042919424028e-06,
          1.922103144849616e-06,
          1.4678475671606222e-06,
          1.117458793900353e-06,
          8.480634960360641e-07,
          6.416105764103171e-07,
          4.83905937446789e-07,
          3.638284695190977e-07,
          2.726959577478424e-07,
          2.0375440810649378e-07,
          1.5176849176459112e-07,
          1.126944466408375e-07,
          8.341990764584093e-08,
          6.15578135925931e-08,
          4.5283810040194284e-08,
          3.320848216355349e-08,
          2.4277355897683744e-08,
          1.769294133105475e-08,
          1.2854197992638821e-08,
          9.309711686998336e-09,
          6.721617341961721e-09,
          4.837908629476653e-09,
          3.4712660484622044e-09,
          2.4829306117712007e-09,
          1.7704672081419757e-09,
          1.2585144413560157e-09,
          8.918183003581167e-10,
          6.300053933025205e-10,
          4.4367596130655794e-10,
          3.11494272742839e-10,
          2.1802983560693427e-10,
          1.5216165580039382e-10,
          1.0590314365121625e-10,
          7.354014089306997e-11,
          5.1001227400066817e-11,
          3.539981342414282e-11,
          2.4702983801617655e-11,
          1.7493780046703978e-11,
          1.280248212184139e-11,
          9.989187364920506e-12,
          8.665131833260432e-12,
          8.64419588196402e-12,
          9.919231673068893e-12,
          1.2660534607648816e-11,
          1.7236202223389034e-11,
          2.4256510285946496e-11,
          3.4647010001575505e-11,
          4.9758048961312416e-11,
          7.15221088570095e-11,
          1.0267505252061441e-10,
          1.470634706894765e-10,
          2.1006830176731582e-10,
          2.991853800842059e-10,
          4.248173280424781e-10,
          6.013492308584468e-10,
          8.486040649859268e-10,
          1.1938044607431243e-09,
          1.674207030937135e-09,
          2.34062663970335e-09,
          3.2621336558427598e-09,
          4.5322911751780145e-09,
          6.277405991520724e-09,
          8.667402326409093e-09,
          1.1930097741950587e-08,
          1.636987436235087e-08,
          2.2392005178692348e-08,
          3.0534226237751064e-08,
          4.150755433260636e-08,
          5.624885202782908e-08,
          7.598825545867363e-08,
          1.0233532588137379e-07,
          1.3738868661253602e-07,
          1.8387498865503181e-07,
          2.453243394485087e-07,
          3.2629086067922793e-07,
          4.3262884580860245e-07,
          5.718371001846249e-07,
          7.534865010301325e-07,
          9.897486452855649e-07,
          1.2960466919558142e-06,
          1.6918531797097744e-06,
          2.201663730684674e-06,
          2.8561801487059438e-06,
          3.69374148218124e-06,
          4.762047129265842e-06,
          6.120221974278103e-06,
          7.841279791801232e-06,
          1.001504763843508e-05,
          1.27516205341654e-05,
          1.6185422235054695e-05,
          2.047995408718712e-05,
          2.5833319545952624e-05,
          3.248461660502117e-05,
          4.072129370607758e-05,
          5.088756623328903e-05,
          6.339398991614291e-05,
          7.872828379669668e-05,
          9.746748824152248e-05,
          0.00012029153213887801,
          0.00014799826724330785,
          0.00018152000594083453,
          0.0002219415708645904,
          0.00027051983020942404,
          0.000328704650787158,
          0.00039816115148114014,
          0.00048079308262996453,
          0.0005787670920547513,
          0.0006945375662772217,
          0.0008308716566156614,
          0.0009908740153187286,
          0.0011780106781343965,
          0.0013961314385804774,
          0.0016494899680027338,
          0.0019427608470534547,
          0.0022810525917115847,
          0.0026699156840175532,
          0.003115344558275988,
          0.0036237724518158147,
          0.00420205800986879,
          0.0048574625411285065,
          0.005597616858334052,
          0.0064304767107149,
          0.007364265925737771,
          0.008407406528990155,
          0.009568435304944172,
          0.010855906498347005,
          0.012278280635309032,
          0.013843799762517506,
          0.015560349758458648,
          0.017435310756405937,
          0.019475397127789867,
          0.021686488897228087,
          0.024073456886181583,
          0.02663998429867381,
          0.029388387856387907,
          0.03231944194751136,
          0.035432209559325974,
          0.03872388400418345,
          0.04218964560823856,
          0.04582253759935931,
          0.049613365393968635,
          0.05355062333348788,
          0.05762045265365702,
          0.061806634081739274,
          0.0660906179485703,
          0.07045159407966163,
          0.074866603001287,
          0.07931068917687403,
          0.08375709609332693,
          0.08817750206684109,
          0.09254229465722245,
          0.09682088059506365,
          0.10098202716534183,
          0.10499423008296616,
          0.10882610206918913,
          0.11244677562009159,
          0.11582631287491547,
          0.11893611506498614,
          0.12174932377143705,
          0.12424120615516651,
          0.12638951645320215,
          0.1281748263637289,
          0.12958081746320615,
          0.13059452950276074,
          0.131206559301005,
          0.13141120596474626,
          0.131206559301005,
          0.13059452950276074,
          0.12958081746320615,
          0.1281748263637289,
          0.12638951645320215,
          0.12424120615516651,
          0.12174932377143705,
          0.11893611506498614,
          0.11582631287491547,
          0.11244677562009159,
          0.10882610206918913,
          0.10499423008296616,
          0.10098202716534183,
          0.09682088059506365,
          0.09254229465722245,
          0.08817750206684107,
          0.08375709609332684,
          0.07931068917687363,
          0.074866603001287,
          0.0704515940796615,
          0.0660906179485702,
          0.061806634081739156,
          0.05762045265365697,
          0.05355062333348752,
          0.04961336539396858,
          0.04582253759935931,
          0.042189645608238506,
          0.03872388400418339,
          0.03543220955932591,
          0.03231944194751128,
          0.02938838785638788,
          0.02663998429867399,
          0.024073456886181583,
          0.021686488897228212,
          0.0194753971277899,
          0.01743531075640604,
          0.015560349758458686,
          0.013843799762517506,
          0.012278280635309122,
          0.01085590649834708,
          0.009568435304944172,
          0.008407406528990208,
          0.007364265925737803,
          0.0064304767107149,
          0.005597616858334092,
          0.0048574625411285455,
          0.00420205800986879,
          0.0036237724518158147,
          0.0031153445582760113,
          0.0026699156840175532,
          0.0022810525917115847,
          0.001942760847053437,
          0.0016494899680027338,
          0.0013961314385804774,
          0.0011780106781343936,
          0.0009908740153187286,
          0.0008308716566156644,
          0.000694537566277218,
          0.0005787670920547513,
          0.0004807930826299653,
          0.0003981611514811368,
          0.000328704650787158,
          0.0002705198302094254,
          0.0002219415708645904,
          0.00018152000594083453,
          0.0001479982672433089,
          0.00012029153213887801,
          9.746748824152248e-05,
          7.872828379669644e-05,
          6.339398991614291e-05,
          5.0887566233289236e-05,
          4.072129370607731e-05,
          3.248461660502117e-05,
          2.583331954595274e-05,
          2.0479954087186895e-05,
          1.6185422235054695e-05,
          1.275162053416554e-05,
          1.0015047638434972e-05,
          7.841279791801163e-06,
          6.120221974278119e-06,
          4.762047129265854e-06,
          3.693741482181316e-06,
          2.8561801487065054e-06,
          2.2016637306857426e-06,
          1.6918531797116904e-06,
          1.2960466919589756e-06,
          9.897486452908129e-07,
          7.534865010387951e-07,
          5.71837100199011e-07,
          4.326288458323489e-07,
          3.2629086071825915e-07,
          2.4532433951247144e-07,
          1.8387498875955666e-07,
          1.3738868678280489e-07,
          1.0233532615782611e-07,
          7.598825590615236e-08,
          5.624885274987517e-08,
          4.150755549407118e-08,
          3.053422810023735e-08,
          2.239200815602036e-08,
          1.6369879107020192e-08,
          1.1930105279523343e-08,
          8.667414263635541e-09,
          6.277424837628927e-09,
          4.532320836204018e-09,
          3.2621801926899118e-09,
          2.3406994267404817e-09,
          1.6743205208896624e-09,
          1.193980864195112e-09,
          8.488774048896049e-10,
          6.017714571635887e-10,
          4.2546750837556814e-10,
          3.0018346769014326e-10,
          2.1159569122505594e-10,
          1.4939358489160293e-10,
          1.0621870330724104e-10,
          7.689454076353951e-11,
          5.7877697185037156e-11,
          4.688048393435873e-11,
          4.263072045747695e-11,
          4.474767566066621e-11,
          5.372491872057852e-11,
          7.102230698119711e-11,
          9.928152848017958e-11,
          1.4269372387534513e-10,
          2.075651410290954e-10,
          3.031492597780102e-10,
          4.428435734543652e-10,
          6.458890907920566e-10,
          9.39764371355482e-10,
          1.3635384425602267e-09,
          1.9725447125329966e-09,
          2.844869429721468e-09,
          4.09032436034055e-09,
          5.862808472719465e-09,
          8.377276056253994e-09,
          1.1932942717327573e-08,
          1.6944906657117963e-08,
          2.398707952618307e-08,
          3.385025840773775e-08,
          4.762039047495756e-08,
          6.678366284452782e-08,
          9.336708972137169e-08,
          1.301258881576982e-07,
          1.8079228187779423e-07,
          2.5040463249633287e-07,
          3.457411916729414e-07,
          4.758895654619974e-07,
          6.529915065744119e-07,
          8.932132868144382e-07,
          1.218005106511009e-06,
          1.655729305390089e-06,
          2.243757172593105e-06,
          3.0311586302032387e-06,
          4.082138804018739e-06,
          5.480411422498454e-06,
          7.3347421320393246e-06,
          9.785946320107705e-06,
          1.3015687128898746e-05,
          1.7257491332344193e-05,
          2.2810485004802477e-05,
          3.0056448816503105e-05,
          3.948090570642871e-05,
          5.1699082873182594e-05,
          6.748773658383936e-05,
          8.782399305367539e-05,
          0.00011393254203355052,
          0.00014734272166632936,
          0.00018995725285979767,
          0.000244134617228194,
          0.00031278732186451396,
          0.000399498552831499,
          0.0005086599818162861,
          0.0006456337496644718,
          0.0008169418973592211,
          0.0010304867381593144,
          0.0012958058505070876,
          0.0016243655040210877,
          0.0020298963920347933,
          0.002528775513010875,
          0.0031404578968733453,
          0.003887961586040781,
          0.0047984088286247345,
          0.0059036257958834295,
          0.007240802270876256,
          0.008853211644572822,
          0.010790990176234498,
          0.013111972807245643,
          0.015882580847640375,
          0.019178754575754377,
          0.023086921205948473,
          0.027704985800563096,
          0.03314332955669719,
          0.039525796526310907,
          0.04699064628795866,
          0.05569144645253196,
          0.0657978752490592,
          0.07749640090746339,
          0.09099080126429772,
          0.10650248410738915,
          0.12427056640513769,
          0.14455166890420876,
          0.1676193818004416,
          0.19376335746686232,
          0.22328798773031389,
          0.25651062607909336,
          0.2937593195970185,
          0.3353700214572924,
          0.3816832625455078,
          0.43304027023488856,
          0.48977853347791234,
          0.5522268261200929,
          0.6206997145174359,
          0.6954915909356122,
          0.7768702905127216,
          0.8650703664343544,
          0.9602861149428059,
          1.0626644584225684,
          1.17229781050863,
          1.289217061414824,
          1.4133848338621255,
          1.5446891695565241,
          1.6829378125252734,
          1.8278532583065685,
          1.97906873652033,
          2.1361252883961117,
          2.298470090175795,
          2.465456157819724,
          2.63634354816866,
          2.8103021468897413,
          2.9864161044663073,
          3.1636899487754544,
          3.341056367044749,
          3.5173856121065645,
          3.6914964487422486,
          3.862168516618344,
          4.028155948027466,
          4.18820204237691,
          4.3410547664377335,
          4.485482820709638,
          4.6202919890018,
          4.744341471278671,
          4.856559889764049,
          4.955960655698187,
          5.041656389366268,
          5.1128720991020105,
          5.168956845756968,
          5.209393647198691,
          5.233807412117317
         ],
         "yaxis": "y"
        }
       ],
       "layout": {
        "barmode": "overlay",
        "hovermode": "closest",
        "legend": {
         "traceorder": "reversed"
        },
        "plot_bgcolor": "#F5F5F8",
        "template": {
         "data": {
          "bar": [
           {
            "error_x": {
             "color": "#2a3f5f"
            },
            "error_y": {
             "color": "#2a3f5f"
            },
            "marker": {
             "line": {
              "color": "#E5ECF6",
              "width": 0.5
             },
             "pattern": {
              "fillmode": "overlay",
              "size": 10,
              "solidity": 0.2
             }
            },
            "type": "bar"
           }
          ],
          "barpolar": [
           {
            "marker": {
             "line": {
              "color": "#E5ECF6",
              "width": 0.5
             },
             "pattern": {
              "fillmode": "overlay",
              "size": 10,
              "solidity": 0.2
             }
            },
            "type": "barpolar"
           }
          ],
          "carpet": [
           {
            "aaxis": {
             "endlinecolor": "#2a3f5f",
             "gridcolor": "white",
             "linecolor": "white",
             "minorgridcolor": "white",
             "startlinecolor": "#2a3f5f"
            },
            "baxis": {
             "endlinecolor": "#2a3f5f",
             "gridcolor": "white",
             "linecolor": "white",
             "minorgridcolor": "white",
             "startlinecolor": "#2a3f5f"
            },
            "type": "carpet"
           }
          ],
          "choropleth": [
           {
            "colorbar": {
             "outlinewidth": 0,
             "ticks": ""
            },
            "type": "choropleth"
           }
          ],
          "contour": [
           {
            "colorbar": {
             "outlinewidth": 0,
             "ticks": ""
            },
            "colorscale": [
             [
              0,
              "#0d0887"
             ],
             [
              0.1111111111111111,
              "#46039f"
             ],
             [
              0.2222222222222222,
              "#7201a8"
             ],
             [
              0.3333333333333333,
              "#9c179e"
             ],
             [
              0.4444444444444444,
              "#bd3786"
             ],
             [
              0.5555555555555556,
              "#d8576b"
             ],
             [
              0.6666666666666666,
              "#ed7953"
             ],
             [
              0.7777777777777778,
              "#fb9f3a"
             ],
             [
              0.8888888888888888,
              "#fdca26"
             ],
             [
              1,
              "#f0f921"
             ]
            ],
            "type": "contour"
           }
          ],
          "contourcarpet": [
           {
            "colorbar": {
             "outlinewidth": 0,
             "ticks": ""
            },
            "type": "contourcarpet"
           }
          ],
          "heatmap": [
           {
            "colorbar": {
             "outlinewidth": 0,
             "ticks": ""
            },
            "colorscale": [
             [
              0,
              "#0d0887"
             ],
             [
              0.1111111111111111,
              "#46039f"
             ],
             [
              0.2222222222222222,
              "#7201a8"
             ],
             [
              0.3333333333333333,
              "#9c179e"
             ],
             [
              0.4444444444444444,
              "#bd3786"
             ],
             [
              0.5555555555555556,
              "#d8576b"
             ],
             [
              0.6666666666666666,
              "#ed7953"
             ],
             [
              0.7777777777777778,
              "#fb9f3a"
             ],
             [
              0.8888888888888888,
              "#fdca26"
             ],
             [
              1,
              "#f0f921"
             ]
            ],
            "type": "heatmap"
           }
          ],
          "heatmapgl": [
           {
            "colorbar": {
             "outlinewidth": 0,
             "ticks": ""
            },
            "colorscale": [
             [
              0,
              "#0d0887"
             ],
             [
              0.1111111111111111,
              "#46039f"
             ],
             [
              0.2222222222222222,
              "#7201a8"
             ],
             [
              0.3333333333333333,
              "#9c179e"
             ],
             [
              0.4444444444444444,
              "#bd3786"
             ],
             [
              0.5555555555555556,
              "#d8576b"
             ],
             [
              0.6666666666666666,
              "#ed7953"
             ],
             [
              0.7777777777777778,
              "#fb9f3a"
             ],
             [
              0.8888888888888888,
              "#fdca26"
             ],
             [
              1,
              "#f0f921"
             ]
            ],
            "type": "heatmapgl"
           }
          ],
          "histogram": [
           {
            "marker": {
             "pattern": {
              "fillmode": "overlay",
              "size": 10,
              "solidity": 0.2
             }
            },
            "type": "histogram"
           }
          ],
          "histogram2d": [
           {
            "colorbar": {
             "outlinewidth": 0,
             "ticks": ""
            },
            "colorscale": [
             [
              0,
              "#0d0887"
             ],
             [
              0.1111111111111111,
              "#46039f"
             ],
             [
              0.2222222222222222,
              "#7201a8"
             ],
             [
              0.3333333333333333,
              "#9c179e"
             ],
             [
              0.4444444444444444,
              "#bd3786"
             ],
             [
              0.5555555555555556,
              "#d8576b"
             ],
             [
              0.6666666666666666,
              "#ed7953"
             ],
             [
              0.7777777777777778,
              "#fb9f3a"
             ],
             [
              0.8888888888888888,
              "#fdca26"
             ],
             [
              1,
              "#f0f921"
             ]
            ],
            "type": "histogram2d"
           }
          ],
          "histogram2dcontour": [
           {
            "colorbar": {
             "outlinewidth": 0,
             "ticks": ""
            },
            "colorscale": [
             [
              0,
              "#0d0887"
             ],
             [
              0.1111111111111111,
              "#46039f"
             ],
             [
              0.2222222222222222,
              "#7201a8"
             ],
             [
              0.3333333333333333,
              "#9c179e"
             ],
             [
              0.4444444444444444,
              "#bd3786"
             ],
             [
              0.5555555555555556,
              "#d8576b"
             ],
             [
              0.6666666666666666,
              "#ed7953"
             ],
             [
              0.7777777777777778,
              "#fb9f3a"
             ],
             [
              0.8888888888888888,
              "#fdca26"
             ],
             [
              1,
              "#f0f921"
             ]
            ],
            "type": "histogram2dcontour"
           }
          ],
          "mesh3d": [
           {
            "colorbar": {
             "outlinewidth": 0,
             "ticks": ""
            },
            "type": "mesh3d"
           }
          ],
          "parcoords": [
           {
            "line": {
             "colorbar": {
              "outlinewidth": 0,
              "ticks": ""
             }
            },
            "type": "parcoords"
           }
          ],
          "pie": [
           {
            "automargin": true,
            "type": "pie"
           }
          ],
          "scatter": [
           {
            "fillpattern": {
             "fillmode": "overlay",
             "size": 10,
             "solidity": 0.2
            },
            "type": "scatter"
           }
          ],
          "scatter3d": [
           {
            "line": {
             "colorbar": {
              "outlinewidth": 0,
              "ticks": ""
             }
            },
            "marker": {
             "colorbar": {
              "outlinewidth": 0,
              "ticks": ""
             }
            },
            "type": "scatter3d"
           }
          ],
          "scattercarpet": [
           {
            "marker": {
             "colorbar": {
              "outlinewidth": 0,
              "ticks": ""
             }
            },
            "type": "scattercarpet"
           }
          ],
          "scattergeo": [
           {
            "marker": {
             "colorbar": {
              "outlinewidth": 0,
              "ticks": ""
             }
            },
            "type": "scattergeo"
           }
          ],
          "scattergl": [
           {
            "marker": {
             "colorbar": {
              "outlinewidth": 0,
              "ticks": ""
             }
            },
            "type": "scattergl"
           }
          ],
          "scattermapbox": [
           {
            "marker": {
             "colorbar": {
              "outlinewidth": 0,
              "ticks": ""
             }
            },
            "type": "scattermapbox"
           }
          ],
          "scatterpolar": [
           {
            "marker": {
             "colorbar": {
              "outlinewidth": 0,
              "ticks": ""
             }
            },
            "type": "scatterpolar"
           }
          ],
          "scatterpolargl": [
           {
            "marker": {
             "colorbar": {
              "outlinewidth": 0,
              "ticks": ""
             }
            },
            "type": "scatterpolargl"
           }
          ],
          "scatterternary": [
           {
            "marker": {
             "colorbar": {
              "outlinewidth": 0,
              "ticks": ""
             }
            },
            "type": "scatterternary"
           }
          ],
          "surface": [
           {
            "colorbar": {
             "outlinewidth": 0,
             "ticks": ""
            },
            "colorscale": [
             [
              0,
              "#0d0887"
             ],
             [
              0.1111111111111111,
              "#46039f"
             ],
             [
              0.2222222222222222,
              "#7201a8"
             ],
             [
              0.3333333333333333,
              "#9c179e"
             ],
             [
              0.4444444444444444,
              "#bd3786"
             ],
             [
              0.5555555555555556,
              "#d8576b"
             ],
             [
              0.6666666666666666,
              "#ed7953"
             ],
             [
              0.7777777777777778,
              "#fb9f3a"
             ],
             [
              0.8888888888888888,
              "#fdca26"
             ],
             [
              1,
              "#f0f921"
             ]
            ],
            "type": "surface"
           }
          ],
          "table": [
           {
            "cells": {
             "fill": {
              "color": "#EBF0F8"
             },
             "line": {
              "color": "white"
             }
            },
            "header": {
             "fill": {
              "color": "#C8D4E3"
             },
             "line": {
              "color": "white"
             }
            },
            "type": "table"
           }
          ]
         },
         "layout": {
          "annotationdefaults": {
           "arrowcolor": "#2a3f5f",
           "arrowhead": 0,
           "arrowwidth": 1
          },
          "autotypenumbers": "strict",
          "coloraxis": {
           "colorbar": {
            "outlinewidth": 0,
            "ticks": ""
           }
          },
          "colorscale": {
           "diverging": [
            [
             0,
             "#8e0152"
            ],
            [
             0.1,
             "#c51b7d"
            ],
            [
             0.2,
             "#de77ae"
            ],
            [
             0.3,
             "#f1b6da"
            ],
            [
             0.4,
             "#fde0ef"
            ],
            [
             0.5,
             "#f7f7f7"
            ],
            [
             0.6,
             "#e6f5d0"
            ],
            [
             0.7,
             "#b8e186"
            ],
            [
             0.8,
             "#7fbc41"
            ],
            [
             0.9,
             "#4d9221"
            ],
            [
             1,
             "#276419"
            ]
           ],
           "sequential": [
            [
             0,
             "#0d0887"
            ],
            [
             0.1111111111111111,
             "#46039f"
            ],
            [
             0.2222222222222222,
             "#7201a8"
            ],
            [
             0.3333333333333333,
             "#9c179e"
            ],
            [
             0.4444444444444444,
             "#bd3786"
            ],
            [
             0.5555555555555556,
             "#d8576b"
            ],
            [
             0.6666666666666666,
             "#ed7953"
            ],
            [
             0.7777777777777778,
             "#fb9f3a"
            ],
            [
             0.8888888888888888,
             "#fdca26"
            ],
            [
             1,
             "#f0f921"
            ]
           ],
           "sequentialminus": [
            [
             0,
             "#0d0887"
            ],
            [
             0.1111111111111111,
             "#46039f"
            ],
            [
             0.2222222222222222,
             "#7201a8"
            ],
            [
             0.3333333333333333,
             "#9c179e"
            ],
            [
             0.4444444444444444,
             "#bd3786"
            ],
            [
             0.5555555555555556,
             "#d8576b"
            ],
            [
             0.6666666666666666,
             "#ed7953"
            ],
            [
             0.7777777777777778,
             "#fb9f3a"
            ],
            [
             0.8888888888888888,
             "#fdca26"
            ],
            [
             1,
             "#f0f921"
            ]
           ]
          },
          "colorway": [
           "#636efa",
           "#EF553B",
           "#00cc96",
           "#ab63fa",
           "#FFA15A",
           "#19d3f3",
           "#FF6692",
           "#B6E880",
           "#FF97FF",
           "#FECB52"
          ],
          "font": {
           "color": "#2a3f5f"
          },
          "geo": {
           "bgcolor": "white",
           "lakecolor": "white",
           "landcolor": "#E5ECF6",
           "showlakes": true,
           "showland": true,
           "subunitcolor": "white"
          },
          "hoverlabel": {
           "align": "left"
          },
          "hovermode": "closest",
          "mapbox": {
           "style": "light"
          },
          "paper_bgcolor": "white",
          "plot_bgcolor": "#E5ECF6",
          "polar": {
           "angularaxis": {
            "gridcolor": "white",
            "linecolor": "white",
            "ticks": ""
           },
           "bgcolor": "#E5ECF6",
           "radialaxis": {
            "gridcolor": "white",
            "linecolor": "white",
            "ticks": ""
           }
          },
          "scene": {
           "xaxis": {
            "backgroundcolor": "#E5ECF6",
            "gridcolor": "white",
            "gridwidth": 2,
            "linecolor": "white",
            "showbackground": true,
            "ticks": "",
            "zerolinecolor": "white"
           },
           "yaxis": {
            "backgroundcolor": "#E5ECF6",
            "gridcolor": "white",
            "gridwidth": 2,
            "linecolor": "white",
            "showbackground": true,
            "ticks": "",
            "zerolinecolor": "white"
           },
           "zaxis": {
            "backgroundcolor": "#E5ECF6",
            "gridcolor": "white",
            "gridwidth": 2,
            "linecolor": "white",
            "showbackground": true,
            "ticks": "",
            "zerolinecolor": "white"
           }
          },
          "shapedefaults": {
           "line": {
            "color": "#2a3f5f"
           }
          },
          "ternary": {
           "aaxis": {
            "gridcolor": "white",
            "linecolor": "white",
            "ticks": ""
           },
           "baxis": {
            "gridcolor": "white",
            "linecolor": "white",
            "ticks": ""
           },
           "bgcolor": "#E5ECF6",
           "caxis": {
            "gridcolor": "white",
            "linecolor": "white",
            "ticks": ""
           }
          },
          "title": {
           "x": 0.05
          },
          "xaxis": {
           "automargin": true,
           "gridcolor": "white",
           "linecolor": "white",
           "ticks": "",
           "title": {
            "standoff": 15
           },
           "zerolinecolor": "white",
           "zerolinewidth": 2
          },
          "yaxis": {
           "automargin": true,
           "gridcolor": "white",
           "linecolor": "white",
           "ticks": "",
           "title": {
            "standoff": 15
           },
           "zerolinecolor": "white",
           "zerolinewidth": 2
          }
         }
        },
        "title": {
         "text": "Real vs. Synthetic dataset for CitizenDesc (CTGAN 1000 epochs)"
        },
        "xaxis": {
         "anchor": "y2",
         "domain": [
          0,
          1
         ],
         "title": {
          "text": "Value"
         },
         "zeroline": false
        },
        "yaxis": {
         "anchor": "free",
         "domain": [
          0,
          1
         ],
         "position": 0,
         "title": {
          "text": "Frequency"
         }
        }
       }
      },
      "text/html": [
       "<div>                            <div id=\"7a5cb054-1d02-4701-ac65-a4fa8dc459ce\" class=\"plotly-graph-div\" style=\"height:525px; width:100%;\"></div>            <script type=\"text/javascript\">                require([\"plotly\"], function(Plotly) {                    window.PLOTLYENV=window.PLOTLYENV || {};                                    if (document.getElementById(\"7a5cb054-1d02-4701-ac65-a4fa8dc459ce\")) {                    Plotly.newPlot(                        \"7a5cb054-1d02-4701-ac65-a4fa8dc459ce\",                        [{\"legendgroup\":\"Real\",\"marker\":{\"color\":\"#000036\"},\"mode\":\"lines\",\"name\":\"Real\",\"showlegend\":true,\"x\":[0.0,0.004,0.008,0.012,0.016,0.02,0.024,0.028,0.032,0.036,0.04,0.044,0.048,0.052,0.056,0.06,0.064,0.068,0.072,0.076,0.08,0.084,0.088,0.092,0.096,0.1,0.104,0.108,0.112,0.116,0.12,0.124,0.128,0.132,0.136,0.14,0.144,0.148,0.152,0.156,0.16,0.164,0.168,0.172,0.176,0.18,0.184,0.188,0.192,0.196,0.2,0.204,0.208,0.212,0.216,0.22,0.224,0.228,0.232,0.236,0.24,0.244,0.248,0.252,0.256,0.26,0.264,0.268,0.272,0.276,0.28,0.284,0.288,0.292,0.296,0.3,0.304,0.308,0.312,0.316,0.32,0.324,0.328,0.332,0.336,0.34,0.344,0.348,0.352,0.356,0.36,0.364,0.368,0.372,0.376,0.38,0.384,0.388,0.392,0.396,0.4,0.404,0.408,0.412,0.416,0.42,0.424,0.428,0.432,0.436,0.44,0.444,0.448,0.452,0.456,0.46,0.464,0.468,0.472,0.476,0.48,0.484,0.488,0.492,0.496,0.5,0.504,0.508,0.512,0.516,0.52,0.524,0.528,0.532,0.536,0.54,0.544,0.548,0.552,0.556,0.56,0.564,0.568,0.572,0.576,0.58,0.584,0.588,0.592,0.596,0.6,0.604,0.608,0.612,0.616,0.62,0.624,0.628,0.632,0.636,0.64,0.644,0.648,0.652,0.656,0.66,0.664,0.668,0.672,0.676,0.68,0.684,0.688,0.692,0.696,0.7,0.704,0.708,0.712,0.716,0.72,0.724,0.728,0.732,0.736,0.74,0.744,0.748,0.752,0.756,0.76,0.764,0.768,0.772,0.776,0.78,0.784,0.788,0.792,0.796,0.8,0.804,0.808,0.812,0.816,0.82,0.824,0.828,0.832,0.836,0.84,0.844,0.848,0.852,0.856,0.86,0.864,0.868,0.872,0.876,0.88,0.884,0.888,0.892,0.896,0.9,0.904,0.908,0.912,0.916,0.92,0.924,0.928,0.932,0.936,0.94,0.944,0.948,0.952,0.956,0.96,0.964,0.968,0.972,0.976,0.98,0.984,0.988,0.992,0.996,1.0,1.004,1.008,1.012,1.016,1.02,1.024,1.028,1.032,1.036,1.04,1.044,1.048,1.052,1.056,1.06,1.064,1.068,1.072,1.076,1.08,1.084,1.088,1.092,1.096,1.1,1.104,1.108,1.112,1.116,1.12,1.124,1.128,1.132,1.136,1.14,1.144,1.148,1.152,1.156,1.16,1.164,1.168,1.172,1.176,1.18,1.184,1.188,1.192,1.196,1.2,1.204,1.208,1.212,1.216,1.22,1.224,1.228,1.232,1.236,1.24,1.244,1.248,1.252,1.256,1.26,1.264,1.268,1.272,1.276,1.28,1.284,1.288,1.292,1.296,1.3,1.304,1.308,1.312,1.316,1.32,1.324,1.328,1.332,1.336,1.34,1.344,1.348,1.352,1.356,1.36,1.364,1.368,1.372,1.376,1.38,1.384,1.388,1.392,1.396,1.4,1.404,1.408,1.412,1.416,1.42,1.424,1.428,1.432,1.436,1.44,1.444,1.448,1.452,1.456,1.46,1.464,1.468,1.472,1.476,1.48,1.484,1.488,1.492,1.496,1.5,1.504,1.508,1.512,1.516,1.52,1.524,1.528,1.532,1.536,1.54,1.544,1.548,1.552,1.556,1.56,1.564,1.568,1.572,1.576,1.58,1.584,1.588,1.592,1.596,1.6,1.604,1.608,1.612,1.616,1.62,1.624,1.628,1.632,1.636,1.64,1.644,1.648,1.652,1.656,1.66,1.664,1.668,1.672,1.676,1.68,1.684,1.688,1.692,1.696,1.7,1.704,1.708,1.712,1.716,1.72,1.724,1.728,1.732,1.736,1.74,1.744,1.748,1.752,1.756,1.76,1.764,1.768,1.772,1.776,1.78,1.784,1.788,1.792,1.796,1.8,1.804,1.808,1.812,1.816,1.82,1.824,1.828,1.832,1.836,1.84,1.844,1.848,1.852,1.856,1.86,1.864,1.868,1.872,1.876,1.88,1.884,1.888,1.892,1.896,1.9,1.904,1.908,1.912,1.916,1.92,1.924,1.928,1.932,1.936,1.94,1.944,1.948,1.952,1.956,1.96,1.964,1.968,1.972,1.976,1.98,1.984,1.988,1.992,1.996],\"xaxis\":\"x\",\"y\":[0.12143753783720448,0.12137709026120305,0.12119592800607981,0.12089459159274159,0.12047397890315586,0.11993534072285364,0.1192802745438698,0.11851071667109203,0.11762893268660517,0.11663750633775102,0.11553932692517291,0.11433757527699165,0.11303570840437961,0.11163744294209017,0.11014673748489051,0.1085677739372827,0.10690493799933136,0.1051627989158172,0.10334608861926264,0.1014596803996345,0.0995085672346982,0.09749783991509163,0.09543266509722675,0.09331826341512578,0.09115988777931498,0.08896280198695575,0.0867322597625624,0.08447348434299107,0.08219164871395711,0.07989185659822212,0.0775791242878685,0.07525836340483104,0.07293436466516902,0.07061178271352611,0.06829512208493155,0.06598872434163068,0.0636967564230867,0.06142320023775512,0.05917184351577952,0.056946271932475145,0.054749862503429496,0.05258577824332692,0.050456964072263494,0.04836614394541904,0.04631581917454429,0.04430826790285298,0.042345545688616835,0.04042948714707741,0.038561708595240475,0.036743611639716324,0.0349763876440322,0.03326102300876448,0.031598305195423185,0.029988829423254263,0.028433005966994683,0.026931067983096017,0.02548307979200473,0.024088945544713344,0.022748418202949733,0.021461108764008897,0.020226495663315552,0.01904393429029347,0.01791266655596493,0.016831830453865913,0.015800469559294268,0.014817542415564364,0.013881931759776266,0.012992453544578089,0.012147865716462444,0.011346876715252628,0.01058815366356115,0.00987033021910646,0.009192014066819562,0.00855179403162876,0.007948246796650378,0.007379943215210389,0.006845454208654244,0.006343356245251047,0.005872236398646975,0.005430696987259705,0.005017359798718961,0.004630869905942779,0.004269899083688923,0.003933148836435233,0.0036193530502214477,0.003327280282631436,0.003055735706413575,0.002803562723334463,0.0025696442657461953,0.002352903804028721,0.002152306078558052,0.0019668575751593084,0.0017956067631438202,0.0016376441150142145,0.00149210192676487,0.0013581539574199948,0.0012350149060526055,0.001121939744027516,0.0010182229196242438,0.000923197451533937,0.0008362339270010088,0.0007567394196068217,0.0006841563408810788,0.0006179612390871578,0.0005576635576704039,0.0005028043649925747,0.00045295506610957864,0.0004077161064908314,0.00036671567673383633,0.000329608426502749,0.00029607419511989063,0.0002658167654687409,0.0002385626471294393,0.000214059893966098,0.00019207696072144287,0.00017240160254999466,0.00015483982083707356,0.0001392148581077418,0.0001253662443272577,0.00011314889643206425,0.0001024322725068138,9.3099581636998e-05,8.504705011675867e-05,7.818324437538678e-05,7.24284507016758e-05,6.771411159028373e-05,6.398231830601757e-05,6.11853590578155e-05,5.92853219914313e-05,5.825375204562596e-05,5.80713605682482e-05,5.8727786453156215e-05,6.022140743375977e-05,6.255920005138314e-05,6.575664670409736e-05,6.98376880716961e-05,7.483471910278956e-05,8.078862663841961e-05,8.774886663119744e-05,9.577357879795944e-05,0.00010492973641580031,0.0001152933288347362,0.0001269495741341266,0.00013999315919353535,0.00015452850428139366,0.0001706700490864302,0.00018854255692736941,0.00020828143367626953,0.0002300330577207429,0.00025395511707115365,0.0002802169494920729,0.00030899988130444746,0.00034049756026802445,0.00037491627771499405,0.00041247527486803885,0.00045340702804207313,0.0004979575072020969,0.0005463864021332259,0.0005989673102770051,0.0006559878801043995,0.000717749903734694,0.0007845693523753185,0.0008567763480547554,0.0009347150650538291,0.0010187435544146111,0.0011092334849251804,0.0012065697940475927,0.001311150242379671,0.0014233848654230778,0.001543695316674739,0.001672514096369239,0.0018102836605803014,0.001957455405842057,0.00211448852497821,0.002281848730431028,0.0024600068420633004,0.0026494372371651206,0.0028506161612336114,0.0030640198990052,0.0032901228062056,0.0035293952035378756,0.0037823011355504264,0.004049295998208979,0.004330824040232845,0.004627315744539531,0.004939185097463724,0.005266826754768111,0.0056106131148340515,0.005970891310797838,0.0063479801347717316,0.006742166908645275,0.007153704317286784,0.007582807221245166,0.008029649467271693,0.008494360716126269,0.008977023308188095,0.009477669188340298,0.009996276912427838,0.010532768758283748,0.011087007964864528,0.011658796123420453,0.012247870744836045,0.012853903027299461,0.013476495848288014,0.014115182004479261,0.014769422722609435,0.015438606463494984,0.016122048040407993,0.016818988071749995,0.017528592786501887,0.01824995419924418,0.018982090669648462,0.01972394785924248,0.02047440009596289,0.021232252154539548,0.021996241458122432,0.02276504070378195,0.023537260911605955,0.024311454894104842,0.02508612113954134,0.025859708099651147,0.026630618869040605,0.02739721624036509,0.02815782811623687,0.02891075325571358,0.02965426733020574,0.030386629260746693,0.031106087805820113,0.031810888366362776,0.03249927997219154,0.033169522411959966,0.03381989346685813,0.034448696206669994,0.035054266305470434,0.03563497933326782,0.03618925797921979,0.03671557916173016,0.03721248098077711,0.037678569468191606,0.038112525092384004,0.03851310897510275,0.03887916877928944,0.03920964422890407,0.03950357222373122,0.03976009151465798,0.03997844690765506,0.040157992967761014,0.04029819719763047,0.040398642668753974,0.04045903008714335,0.04047917927916267,0.040459030087186945,0.04039864266884449,0.0402981971977731,0.040157992967964316,0.03997844690793069,0.03976009151502162,0.03950357222420463,0.039209644229513944,0.038879168780071166,0.03851310897610049,0.038112525093654176,0.037678569469804836,0.03721248098282291,0.036715579164320805,0.03618925798249545,0.03563497933740674,0.035054266310692986,0.03444869621325356,0.03381989347514906,0.033169522422390435,0.03249927998530085,0.03181088838282129,0.031106087826463447,0.03038662928661289,0.02965426736258385,0.028910753296202883,0.028157828166818995,0.02739721630349276,0.026630618947746938,0.025859708197683212,0.025086121261522744,0.024311455045735435,0.02353726109990452,0.022765040937383248,0.02199624174763732,0.021232252512994095,0.020474400539331535,0.019723948407094162,0.018982091345932105,0.0182499550332369,0.017528593813957556,0.01681898933628696,0.016122049595182725,0.015438608373220416,0.01476942506598526,0.014115184877114708,0.013476499366213292,0.012853907331180367,0.012247876005025823,0.011658802546009405,0.011087015798915233,0.010532778304475755,0.009996288533374025,0.00947768332088441,0.008977040478048008,0.008494381555309193,0.008029674734765084,0.007582837827569335,0.007153741353597926,0.006742211681193363,0.0063480342056515425,0.00597095654608806,0.0056106917413983335,0.005266921427200708,0.004939298976900841,0.004627452591332701,0.0043309883227979325,0.004049493020726186,0.0037825371876073276,0.0035296777352832537,0.0032904606331253063,0.0030644234410514264,0.002851097721746087,0.0026500113278255964,0.0024606905610384507,0.002282662201893333,0.002115455409367404,0.001958603491555,0.0018116455492734002,0.0016741279957446934,0.0015456059565199117,0.0014256445548052141,0.0013138200882911772,0.0012097211044768577,0.0011129493823245219,0.0010231208288822016,0.0009398663002741015,0.0008628323571895628,0.0007916819657039839,0.0007260951549480073,0.0006657696438091127,0.00061042144951066,0.0005597854915733852,0.0005136162053309103,0.00047168817985025486,0.0004337968358079649,0.0003997591595975865,0.0003694145107021332,0.000342625520159815,0.00031927909878847366,0.0002992875747173692,0.00028258998070716763,0.0002691535127227425,0.0002589751822590162,0.000252083686007708,0.0002485415175905338,0.0002484473472687354,0.0002519386967653204,0.00025919493759764885,0.0002704406426059669,0.00028594932166713875,0.0003060475738891719,0.0003311196898763106,0.0003616127389184109,0.0003980421771723636,0.00044099801404430804,0.0004911515750243013,0.0005492629001415144,0.0006161888179673919,0.0006928917356624488,0.0007804491859039379,0.0008800641716065103,0.000993076349115652,0.0011209740899695943,0.0012654074603434212,0.0014282021558616772,0.0016113744275423213,0.0018171470321652766,0.002047966237290107,0.002306519907427757,0.0025957566934501613,0.0029189063421424916,0.0032795011368243403,0.0036813984731313303,0.0041288045663205215,0.00462629927779694,0.005178862038920612,0.005791898839512722,0.006471270236816818,0.0072233203279673,0.008054906615271659,0.00897343067882979,0.009986869555207879,0.011103807704090802,0.012333469427093707,0.013685751584286839,0.015171256434543704,0.016801324405664408,0.018588066579452247,0.020544396655675964,0.022684062137257516,0.025021674457284822,0.02757273774671556,0.030353675920146723,0.03338185773597232,0.03667561946692695,0.040254284797619354,0.04413818154754104,0.04834865480143114,0.05290807601414743,0.0578398476445963,0.06316840286321593,0.06891919987023215,0.07511871035784426,0.08179440164888907,0.08897471204780075,0.09668901894706242,0.10496759924422451,0.11384158164114509,0.12334289041871502,0.13350418030723654,0.14435876210483392,0.15594051873429143,0.16828381147226362,0.18142337613426304,0.19539420905410196,0.21023144275736871,0.2259702112952999,0.24264550527739376,0.2602920167186272,0.2789439738992746,0.29863496652219756,0.3193977615433556,0.3412641101455679,0.36426454642281064,0.38842817844184097,0.413782472448684,0.4403530310890448,0.46816336661275765,0.4972346701323246,0.5275855781031146,0.5592319372870688,0.5921865695517056,0.6264590379403876,0.6620554155278271,0.6989780586444394,0.7372253861146842,0.7767916662054188,0.8176668130207806,0.85983619410827,0.9032804510563016,0.9479753348650319,0.9938915578596776,1.0409946638876215,1.0892449184973456,1.138597220737634,1.1890010381399616,1.2404003663549705,1.2927337148059705,1.3459341195979795,1.3999291847812627,1.4546411529136318,1.509987005697026,1.565878595281392,1.622222806635244,1.6789217511766923,1.7358729916447495,1.7929697979681922,1.8501014336614439,1.9071534720440755,1.9640081413467327,2.0205446975303887,2.0766398234150074,2.132168052482826,2.187002215501863,2.241013907899542,2.29407397561497,2.3460530169679945,2.3968218979082976,2.4462522778495206,2.4942171431549074,2.5405913452213347,2.5852521400121122,2.6280797258155197,2.668957775957087,2.7077739631693576,2.74442047232568,2.7787944982737764,2.8107987255589584,2.840341786910172,2.867338697469432,2.8917112618788336,2.91338845149753,2.932306749203316,2.9484104594367095,2.961651981369176,2.971992043321496,2.9793998968160835,2.9838534689212133],\"yaxis\":\"y\",\"type\":\"scatter\",\"fill\":\"tozeroy\",\"hovertemplate\":\"<b>Real</b><br>Value: %{x}<br>Frequency: %{y}<extra></extra>\"},{\"legendgroup\":\"Synthetic\",\"marker\":{\"color\":\"#01E0C9\"},\"mode\":\"lines\",\"name\":\"Synthetic\",\"showlegend\":true,\"x\":[0.0,0.004,0.008,0.012,0.016,0.02,0.024,0.028,0.032,0.036,0.04,0.044,0.048,0.052,0.056,0.06,0.064,0.068,0.072,0.076,0.08,0.084,0.088,0.092,0.096,0.1,0.104,0.108,0.112,0.116,0.12,0.124,0.128,0.132,0.136,0.14,0.144,0.148,0.152,0.156,0.16,0.164,0.168,0.172,0.176,0.18,0.184,0.188,0.192,0.196,0.2,0.204,0.208,0.212,0.216,0.22,0.224,0.228,0.232,0.236,0.24,0.244,0.248,0.252,0.256,0.26,0.264,0.268,0.272,0.276,0.28,0.284,0.288,0.292,0.296,0.3,0.304,0.308,0.312,0.316,0.32,0.324,0.328,0.332,0.336,0.34,0.344,0.348,0.352,0.356,0.36,0.364,0.368,0.372,0.376,0.38,0.384,0.388,0.392,0.396,0.4,0.404,0.408,0.412,0.416,0.42,0.424,0.428,0.432,0.436,0.44,0.444,0.448,0.452,0.456,0.46,0.464,0.468,0.472,0.476,0.48,0.484,0.488,0.492,0.496,0.5,0.504,0.508,0.512,0.516,0.52,0.524,0.528,0.532,0.536,0.54,0.544,0.548,0.552,0.556,0.56,0.564,0.568,0.572,0.576,0.58,0.584,0.588,0.592,0.596,0.6,0.604,0.608,0.612,0.616,0.62,0.624,0.628,0.632,0.636,0.64,0.644,0.648,0.652,0.656,0.66,0.664,0.668,0.672,0.676,0.68,0.684,0.688,0.692,0.696,0.7,0.704,0.708,0.712,0.716,0.72,0.724,0.728,0.732,0.736,0.74,0.744,0.748,0.752,0.756,0.76,0.764,0.768,0.772,0.776,0.78,0.784,0.788,0.792,0.796,0.8,0.804,0.808,0.812,0.816,0.82,0.824,0.828,0.832,0.836,0.84,0.844,0.848,0.852,0.856,0.86,0.864,0.868,0.872,0.876,0.88,0.884,0.888,0.892,0.896,0.9,0.904,0.908,0.912,0.916,0.92,0.924,0.928,0.932,0.936,0.94,0.944,0.948,0.952,0.956,0.96,0.964,0.968,0.972,0.976,0.98,0.984,0.988,0.992,0.996,1.0,1.004,1.008,1.012,1.016,1.02,1.024,1.028,1.032,1.036,1.04,1.044,1.048,1.052,1.056,1.06,1.064,1.068,1.072,1.076,1.08,1.084,1.088,1.092,1.096,1.1,1.104,1.108,1.112,1.116,1.12,1.124,1.128,1.132,1.136,1.14,1.144,1.148,1.152,1.156,1.16,1.164,1.168,1.172,1.176,1.18,1.184,1.188,1.192,1.196,1.2,1.204,1.208,1.212,1.216,1.22,1.224,1.228,1.232,1.236,1.24,1.244,1.248,1.252,1.256,1.26,1.264,1.268,1.272,1.276,1.28,1.284,1.288,1.292,1.296,1.3,1.304,1.308,1.312,1.316,1.32,1.324,1.328,1.332,1.336,1.34,1.344,1.348,1.352,1.356,1.36,1.364,1.368,1.372,1.376,1.38,1.384,1.388,1.392,1.396,1.4,1.404,1.408,1.412,1.416,1.42,1.424,1.428,1.432,1.436,1.44,1.444,1.448,1.452,1.456,1.46,1.464,1.468,1.472,1.476,1.48,1.484,1.488,1.492,1.496,1.5,1.504,1.508,1.512,1.516,1.52,1.524,1.528,1.532,1.536,1.54,1.544,1.548,1.552,1.556,1.56,1.564,1.568,1.572,1.576,1.58,1.584,1.588,1.592,1.596,1.6,1.604,1.608,1.612,1.616,1.62,1.624,1.628,1.632,1.636,1.64,1.644,1.648,1.652,1.656,1.66,1.664,1.668,1.672,1.676,1.68,1.684,1.688,1.692,1.696,1.7,1.704,1.708,1.712,1.716,1.72,1.724,1.728,1.732,1.736,1.74,1.744,1.748,1.752,1.756,1.76,1.764,1.768,1.772,1.776,1.78,1.784,1.788,1.792,1.796,1.8,1.804,1.808,1.812,1.816,1.82,1.824,1.828,1.832,1.836,1.84,1.844,1.848,1.852,1.856,1.86,1.864,1.868,1.872,1.876,1.88,1.884,1.888,1.892,1.896,1.9,1.904,1.908,1.912,1.916,1.92,1.924,1.928,1.932,1.936,1.94,1.944,1.948,1.952,1.956,1.96,1.964,1.968,1.972,1.976,1.98,1.984,1.988,1.992,1.996],\"xaxis\":\"x\",\"y\":[0.19488950037144553,0.19458599896335468,0.19367832765239945,0.19217494115305936,0.19008978486146297,0.18744207948568103,0.18425602607757677,0.1805604377966222,0.1763883062404454,0.17177631146703612,0.16676428587725442,0.1613946428992217,0.15571178190270357,0.14976148096554914,0.14359028901810286,0.13724492851706727,0.1307717191669252,0.12421603234179812,0.11762178479621065,0.11103097902733249,0.1044832963045825,0.09801574695762537,0.09166238105342682,0.08545406113889784,0.07941829731661323,0.07357914359275025,0.06795715321938872,0.06256938967323515,0.05742948898925513,0.05254776841425464,0.04793137576961444,0.04358447351582951,0.039508451290406144,0.035702160636286194,0.032162165737414476,0.028883004214942536,0.02585745239297499,0.023076789896019176,0.02053105896983526,0.01820931450151762,0.01609986133229425,0.014190476087840933,0.012468611377739627,0.010921580822068783,0.009536723935382272,0.00830155042549548,0.007203863938114338,0.006231865692602037,0.005374238805659018,0.004620214387273706,0.003959620717822636,0.0033829169792332684,0.002881213120630114,0.002446277494919312,0.002070533913148997,0.0017470497345213475,0.0014695165481421837,0.001232224914472379,0.001030034526258587,0.0008583410263523829,0.0007130405886461343,0.0005904932331288098,0.0004874857109131582,0.00040119466344617897,0.00032915063475680875,0.0002692033986410682,0.00021948895565744757,0.00017839845868053935,0.00014454924103615607,0.00011675804800357553,9.40165104688567e-05,7.546884822733595e-05,6.039174914036915e-05,4.8176338185413004e-05,3.831212644526884e-05,3.0372813264896168e-05,2.4003804162157546e-05,1.891130163965219e-05,1.485282488750966e-05,1.1629016640383094e-05,9.076600385581895e-06,7.062358030690865e-06,5.478006435438218e-06,4.2358603900299384e-06,3.2651792616085764e-06,2.5091042919424028e-06,1.922103144849616e-06,1.4678475671606222e-06,1.117458793900353e-06,8.480634960360641e-07,6.416105764103171e-07,4.83905937446789e-07,3.638284695190977e-07,2.726959577478424e-07,2.0375440810649378e-07,1.5176849176459112e-07,1.126944466408375e-07,8.341990764584093e-08,6.15578135925931e-08,4.5283810040194284e-08,3.320848216355349e-08,2.4277355897683744e-08,1.769294133105475e-08,1.2854197992638821e-08,9.309711686998336e-09,6.721617341961721e-09,4.837908629476653e-09,3.4712660484622044e-09,2.4829306117712007e-09,1.7704672081419757e-09,1.2585144413560157e-09,8.918183003581167e-10,6.300053933025205e-10,4.4367596130655794e-10,3.11494272742839e-10,2.1802983560693427e-10,1.5216165580039382e-10,1.0590314365121625e-10,7.354014089306997e-11,5.1001227400066817e-11,3.539981342414282e-11,2.4702983801617655e-11,1.7493780046703978e-11,1.280248212184139e-11,9.989187364920506e-12,8.665131833260432e-12,8.64419588196402e-12,9.919231673068893e-12,1.2660534607648816e-11,1.7236202223389034e-11,2.4256510285946496e-11,3.4647010001575505e-11,4.9758048961312416e-11,7.15221088570095e-11,1.0267505252061441e-10,1.470634706894765e-10,2.1006830176731582e-10,2.991853800842059e-10,4.248173280424781e-10,6.013492308584468e-10,8.486040649859268e-10,1.1938044607431243e-09,1.674207030937135e-09,2.34062663970335e-09,3.2621336558427598e-09,4.5322911751780145e-09,6.277405991520724e-09,8.667402326409093e-09,1.1930097741950587e-08,1.636987436235087e-08,2.2392005178692348e-08,3.0534226237751064e-08,4.150755433260636e-08,5.624885202782908e-08,7.598825545867363e-08,1.0233532588137379e-07,1.3738868661253602e-07,1.8387498865503181e-07,2.453243394485087e-07,3.2629086067922793e-07,4.3262884580860245e-07,5.718371001846249e-07,7.534865010301325e-07,9.897486452855649e-07,1.2960466919558142e-06,1.6918531797097744e-06,2.201663730684674e-06,2.8561801487059438e-06,3.69374148218124e-06,4.762047129265842e-06,6.120221974278103e-06,7.841279791801232e-06,1.001504763843508e-05,1.27516205341654e-05,1.6185422235054695e-05,2.047995408718712e-05,2.5833319545952624e-05,3.248461660502117e-05,4.072129370607758e-05,5.088756623328903e-05,6.339398991614291e-05,7.872828379669668e-05,9.746748824152248e-05,0.00012029153213887801,0.00014799826724330785,0.00018152000594083453,0.0002219415708645904,0.00027051983020942404,0.000328704650787158,0.00039816115148114014,0.00048079308262996453,0.0005787670920547513,0.0006945375662772217,0.0008308716566156614,0.0009908740153187286,0.0011780106781343965,0.0013961314385804774,0.0016494899680027338,0.0019427608470534547,0.0022810525917115847,0.0026699156840175532,0.003115344558275988,0.0036237724518158147,0.00420205800986879,0.0048574625411285065,0.005597616858334052,0.0064304767107149,0.007364265925737771,0.008407406528990155,0.009568435304944172,0.010855906498347005,0.012278280635309032,0.013843799762517506,0.015560349758458648,0.017435310756405937,0.019475397127789867,0.021686488897228087,0.024073456886181583,0.02663998429867381,0.029388387856387907,0.03231944194751136,0.035432209559325974,0.03872388400418345,0.04218964560823856,0.04582253759935931,0.049613365393968635,0.05355062333348788,0.05762045265365702,0.061806634081739274,0.0660906179485703,0.07045159407966163,0.074866603001287,0.07931068917687403,0.08375709609332693,0.08817750206684109,0.09254229465722245,0.09682088059506365,0.10098202716534183,0.10499423008296616,0.10882610206918913,0.11244677562009159,0.11582631287491547,0.11893611506498614,0.12174932377143705,0.12424120615516651,0.12638951645320215,0.1281748263637289,0.12958081746320615,0.13059452950276074,0.131206559301005,0.13141120596474626,0.131206559301005,0.13059452950276074,0.12958081746320615,0.1281748263637289,0.12638951645320215,0.12424120615516651,0.12174932377143705,0.11893611506498614,0.11582631287491547,0.11244677562009159,0.10882610206918913,0.10499423008296616,0.10098202716534183,0.09682088059506365,0.09254229465722245,0.08817750206684107,0.08375709609332684,0.07931068917687363,0.074866603001287,0.0704515940796615,0.0660906179485702,0.061806634081739156,0.05762045265365697,0.05355062333348752,0.04961336539396858,0.04582253759935931,0.042189645608238506,0.03872388400418339,0.03543220955932591,0.03231944194751128,0.02938838785638788,0.02663998429867399,0.024073456886181583,0.021686488897228212,0.0194753971277899,0.01743531075640604,0.015560349758458686,0.013843799762517506,0.012278280635309122,0.01085590649834708,0.009568435304944172,0.008407406528990208,0.007364265925737803,0.0064304767107149,0.005597616858334092,0.0048574625411285455,0.00420205800986879,0.0036237724518158147,0.0031153445582760113,0.0026699156840175532,0.0022810525917115847,0.001942760847053437,0.0016494899680027338,0.0013961314385804774,0.0011780106781343936,0.0009908740153187286,0.0008308716566156644,0.000694537566277218,0.0005787670920547513,0.0004807930826299653,0.0003981611514811368,0.000328704650787158,0.0002705198302094254,0.0002219415708645904,0.00018152000594083453,0.0001479982672433089,0.00012029153213887801,9.746748824152248e-05,7.872828379669644e-05,6.339398991614291e-05,5.0887566233289236e-05,4.072129370607731e-05,3.248461660502117e-05,2.583331954595274e-05,2.0479954087186895e-05,1.6185422235054695e-05,1.275162053416554e-05,1.0015047638434972e-05,7.841279791801163e-06,6.120221974278119e-06,4.762047129265854e-06,3.693741482181316e-06,2.8561801487065054e-06,2.2016637306857426e-06,1.6918531797116904e-06,1.2960466919589756e-06,9.897486452908129e-07,7.534865010387951e-07,5.71837100199011e-07,4.326288458323489e-07,3.2629086071825915e-07,2.4532433951247144e-07,1.8387498875955666e-07,1.3738868678280489e-07,1.0233532615782611e-07,7.598825590615236e-08,5.624885274987517e-08,4.150755549407118e-08,3.053422810023735e-08,2.239200815602036e-08,1.6369879107020192e-08,1.1930105279523343e-08,8.667414263635541e-09,6.277424837628927e-09,4.532320836204018e-09,3.2621801926899118e-09,2.3406994267404817e-09,1.6743205208896624e-09,1.193980864195112e-09,8.488774048896049e-10,6.017714571635887e-10,4.2546750837556814e-10,3.0018346769014326e-10,2.1159569122505594e-10,1.4939358489160293e-10,1.0621870330724104e-10,7.689454076353951e-11,5.7877697185037156e-11,4.688048393435873e-11,4.263072045747695e-11,4.474767566066621e-11,5.372491872057852e-11,7.102230698119711e-11,9.928152848017958e-11,1.4269372387534513e-10,2.075651410290954e-10,3.031492597780102e-10,4.428435734543652e-10,6.458890907920566e-10,9.39764371355482e-10,1.3635384425602267e-09,1.9725447125329966e-09,2.844869429721468e-09,4.09032436034055e-09,5.862808472719465e-09,8.377276056253994e-09,1.1932942717327573e-08,1.6944906657117963e-08,2.398707952618307e-08,3.385025840773775e-08,4.762039047495756e-08,6.678366284452782e-08,9.336708972137169e-08,1.301258881576982e-07,1.8079228187779423e-07,2.5040463249633287e-07,3.457411916729414e-07,4.758895654619974e-07,6.529915065744119e-07,8.932132868144382e-07,1.218005106511009e-06,1.655729305390089e-06,2.243757172593105e-06,3.0311586302032387e-06,4.082138804018739e-06,5.480411422498454e-06,7.3347421320393246e-06,9.785946320107705e-06,1.3015687128898746e-05,1.7257491332344193e-05,2.2810485004802477e-05,3.0056448816503105e-05,3.948090570642871e-05,5.1699082873182594e-05,6.748773658383936e-05,8.782399305367539e-05,0.00011393254203355052,0.00014734272166632936,0.00018995725285979767,0.000244134617228194,0.00031278732186451396,0.000399498552831499,0.0005086599818162861,0.0006456337496644718,0.0008169418973592211,0.0010304867381593144,0.0012958058505070876,0.0016243655040210877,0.0020298963920347933,0.002528775513010875,0.0031404578968733453,0.003887961586040781,0.0047984088286247345,0.0059036257958834295,0.007240802270876256,0.008853211644572822,0.010790990176234498,0.013111972807245643,0.015882580847640375,0.019178754575754377,0.023086921205948473,0.027704985800563096,0.03314332955669719,0.039525796526310907,0.04699064628795866,0.05569144645253196,0.0657978752490592,0.07749640090746339,0.09099080126429772,0.10650248410738915,0.12427056640513769,0.14455166890420876,0.1676193818004416,0.19376335746686232,0.22328798773031389,0.25651062607909336,0.2937593195970185,0.3353700214572924,0.3816832625455078,0.43304027023488856,0.48977853347791234,0.5522268261200929,0.6206997145174359,0.6954915909356122,0.7768702905127216,0.8650703664343544,0.9602861149428059,1.0626644584225684,1.17229781050863,1.289217061414824,1.4133848338621255,1.5446891695565241,1.6829378125252734,1.8278532583065685,1.97906873652033,2.1361252883961117,2.298470090175795,2.465456157819724,2.63634354816866,2.8103021468897413,2.9864161044663073,3.1636899487754544,3.341056367044749,3.5173856121065645,3.6914964487422486,3.862168516618344,4.028155948027466,4.18820204237691,4.3410547664377335,4.485482820709638,4.6202919890018,4.744341471278671,4.856559889764049,4.955960655698187,5.041656389366268,5.1128720991020105,5.168956845756968,5.209393647198691,5.233807412117317],\"yaxis\":\"y\",\"type\":\"scatter\",\"fill\":\"tozeroy\",\"hovertemplate\":\"<b>Synthetic</b><br>Value: %{x}<br>Frequency: %{y}<extra></extra>\"}],                        {\"barmode\":\"overlay\",\"hovermode\":\"closest\",\"legend\":{\"traceorder\":\"reversed\"},\"xaxis\":{\"anchor\":\"y2\",\"domain\":[0.0,1.0],\"zeroline\":false,\"title\":{\"text\":\"Value\"}},\"yaxis\":{\"anchor\":\"free\",\"domain\":[0.0,1],\"position\":0.0,\"title\":{\"text\":\"Frequency\"}},\"template\":{\"data\":{\"histogram2dcontour\":[{\"type\":\"histogram2dcontour\",\"colorbar\":{\"outlinewidth\":0,\"ticks\":\"\"},\"colorscale\":[[0.0,\"#0d0887\"],[0.1111111111111111,\"#46039f\"],[0.2222222222222222,\"#7201a8\"],[0.3333333333333333,\"#9c179e\"],[0.4444444444444444,\"#bd3786\"],[0.5555555555555556,\"#d8576b\"],[0.6666666666666666,\"#ed7953\"],[0.7777777777777778,\"#fb9f3a\"],[0.8888888888888888,\"#fdca26\"],[1.0,\"#f0f921\"]]}],\"choropleth\":[{\"type\":\"choropleth\",\"colorbar\":{\"outlinewidth\":0,\"ticks\":\"\"}}],\"histogram2d\":[{\"type\":\"histogram2d\",\"colorbar\":{\"outlinewidth\":0,\"ticks\":\"\"},\"colorscale\":[[0.0,\"#0d0887\"],[0.1111111111111111,\"#46039f\"],[0.2222222222222222,\"#7201a8\"],[0.3333333333333333,\"#9c179e\"],[0.4444444444444444,\"#bd3786\"],[0.5555555555555556,\"#d8576b\"],[0.6666666666666666,\"#ed7953\"],[0.7777777777777778,\"#fb9f3a\"],[0.8888888888888888,\"#fdca26\"],[1.0,\"#f0f921\"]]}],\"heatmap\":[{\"type\":\"heatmap\",\"colorbar\":{\"outlinewidth\":0,\"ticks\":\"\"},\"colorscale\":[[0.0,\"#0d0887\"],[0.1111111111111111,\"#46039f\"],[0.2222222222222222,\"#7201a8\"],[0.3333333333333333,\"#9c179e\"],[0.4444444444444444,\"#bd3786\"],[0.5555555555555556,\"#d8576b\"],[0.6666666666666666,\"#ed7953\"],[0.7777777777777778,\"#fb9f3a\"],[0.8888888888888888,\"#fdca26\"],[1.0,\"#f0f921\"]]}],\"heatmapgl\":[{\"type\":\"heatmapgl\",\"colorbar\":{\"outlinewidth\":0,\"ticks\":\"\"},\"colorscale\":[[0.0,\"#0d0887\"],[0.1111111111111111,\"#46039f\"],[0.2222222222222222,\"#7201a8\"],[0.3333333333333333,\"#9c179e\"],[0.4444444444444444,\"#bd3786\"],[0.5555555555555556,\"#d8576b\"],[0.6666666666666666,\"#ed7953\"],[0.7777777777777778,\"#fb9f3a\"],[0.8888888888888888,\"#fdca26\"],[1.0,\"#f0f921\"]]}],\"contourcarpet\":[{\"type\":\"contourcarpet\",\"colorbar\":{\"outlinewidth\":0,\"ticks\":\"\"}}],\"contour\":[{\"type\":\"contour\",\"colorbar\":{\"outlinewidth\":0,\"ticks\":\"\"},\"colorscale\":[[0.0,\"#0d0887\"],[0.1111111111111111,\"#46039f\"],[0.2222222222222222,\"#7201a8\"],[0.3333333333333333,\"#9c179e\"],[0.4444444444444444,\"#bd3786\"],[0.5555555555555556,\"#d8576b\"],[0.6666666666666666,\"#ed7953\"],[0.7777777777777778,\"#fb9f3a\"],[0.8888888888888888,\"#fdca26\"],[1.0,\"#f0f921\"]]}],\"surface\":[{\"type\":\"surface\",\"colorbar\":{\"outlinewidth\":0,\"ticks\":\"\"},\"colorscale\":[[0.0,\"#0d0887\"],[0.1111111111111111,\"#46039f\"],[0.2222222222222222,\"#7201a8\"],[0.3333333333333333,\"#9c179e\"],[0.4444444444444444,\"#bd3786\"],[0.5555555555555556,\"#d8576b\"],[0.6666666666666666,\"#ed7953\"],[0.7777777777777778,\"#fb9f3a\"],[0.8888888888888888,\"#fdca26\"],[1.0,\"#f0f921\"]]}],\"mesh3d\":[{\"type\":\"mesh3d\",\"colorbar\":{\"outlinewidth\":0,\"ticks\":\"\"}}],\"scatter\":[{\"fillpattern\":{\"fillmode\":\"overlay\",\"size\":10,\"solidity\":0.2},\"type\":\"scatter\"}],\"parcoords\":[{\"type\":\"parcoords\",\"line\":{\"colorbar\":{\"outlinewidth\":0,\"ticks\":\"\"}}}],\"scatterpolargl\":[{\"type\":\"scatterpolargl\",\"marker\":{\"colorbar\":{\"outlinewidth\":0,\"ticks\":\"\"}}}],\"bar\":[{\"error_x\":{\"color\":\"#2a3f5f\"},\"error_y\":{\"color\":\"#2a3f5f\"},\"marker\":{\"line\":{\"color\":\"#E5ECF6\",\"width\":0.5},\"pattern\":{\"fillmode\":\"overlay\",\"size\":10,\"solidity\":0.2}},\"type\":\"bar\"}],\"scattergeo\":[{\"type\":\"scattergeo\",\"marker\":{\"colorbar\":{\"outlinewidth\":0,\"ticks\":\"\"}}}],\"scatterpolar\":[{\"type\":\"scatterpolar\",\"marker\":{\"colorbar\":{\"outlinewidth\":0,\"ticks\":\"\"}}}],\"histogram\":[{\"marker\":{\"pattern\":{\"fillmode\":\"overlay\",\"size\":10,\"solidity\":0.2}},\"type\":\"histogram\"}],\"scattergl\":[{\"type\":\"scattergl\",\"marker\":{\"colorbar\":{\"outlinewidth\":0,\"ticks\":\"\"}}}],\"scatter3d\":[{\"type\":\"scatter3d\",\"line\":{\"colorbar\":{\"outlinewidth\":0,\"ticks\":\"\"}},\"marker\":{\"colorbar\":{\"outlinewidth\":0,\"ticks\":\"\"}}}],\"scattermapbox\":[{\"type\":\"scattermapbox\",\"marker\":{\"colorbar\":{\"outlinewidth\":0,\"ticks\":\"\"}}}],\"scatterternary\":[{\"type\":\"scatterternary\",\"marker\":{\"colorbar\":{\"outlinewidth\":0,\"ticks\":\"\"}}}],\"scattercarpet\":[{\"type\":\"scattercarpet\",\"marker\":{\"colorbar\":{\"outlinewidth\":0,\"ticks\":\"\"}}}],\"carpet\":[{\"aaxis\":{\"endlinecolor\":\"#2a3f5f\",\"gridcolor\":\"white\",\"linecolor\":\"white\",\"minorgridcolor\":\"white\",\"startlinecolor\":\"#2a3f5f\"},\"baxis\":{\"endlinecolor\":\"#2a3f5f\",\"gridcolor\":\"white\",\"linecolor\":\"white\",\"minorgridcolor\":\"white\",\"startlinecolor\":\"#2a3f5f\"},\"type\":\"carpet\"}],\"table\":[{\"cells\":{\"fill\":{\"color\":\"#EBF0F8\"},\"line\":{\"color\":\"white\"}},\"header\":{\"fill\":{\"color\":\"#C8D4E3\"},\"line\":{\"color\":\"white\"}},\"type\":\"table\"}],\"barpolar\":[{\"marker\":{\"line\":{\"color\":\"#E5ECF6\",\"width\":0.5},\"pattern\":{\"fillmode\":\"overlay\",\"size\":10,\"solidity\":0.2}},\"type\":\"barpolar\"}],\"pie\":[{\"automargin\":true,\"type\":\"pie\"}]},\"layout\":{\"autotypenumbers\":\"strict\",\"colorway\":[\"#636efa\",\"#EF553B\",\"#00cc96\",\"#ab63fa\",\"#FFA15A\",\"#19d3f3\",\"#FF6692\",\"#B6E880\",\"#FF97FF\",\"#FECB52\"],\"font\":{\"color\":\"#2a3f5f\"},\"hovermode\":\"closest\",\"hoverlabel\":{\"align\":\"left\"},\"paper_bgcolor\":\"white\",\"plot_bgcolor\":\"#E5ECF6\",\"polar\":{\"bgcolor\":\"#E5ECF6\",\"angularaxis\":{\"gridcolor\":\"white\",\"linecolor\":\"white\",\"ticks\":\"\"},\"radialaxis\":{\"gridcolor\":\"white\",\"linecolor\":\"white\",\"ticks\":\"\"}},\"ternary\":{\"bgcolor\":\"#E5ECF6\",\"aaxis\":{\"gridcolor\":\"white\",\"linecolor\":\"white\",\"ticks\":\"\"},\"baxis\":{\"gridcolor\":\"white\",\"linecolor\":\"white\",\"ticks\":\"\"},\"caxis\":{\"gridcolor\":\"white\",\"linecolor\":\"white\",\"ticks\":\"\"}},\"coloraxis\":{\"colorbar\":{\"outlinewidth\":0,\"ticks\":\"\"}},\"colorscale\":{\"sequential\":[[0.0,\"#0d0887\"],[0.1111111111111111,\"#46039f\"],[0.2222222222222222,\"#7201a8\"],[0.3333333333333333,\"#9c179e\"],[0.4444444444444444,\"#bd3786\"],[0.5555555555555556,\"#d8576b\"],[0.6666666666666666,\"#ed7953\"],[0.7777777777777778,\"#fb9f3a\"],[0.8888888888888888,\"#fdca26\"],[1.0,\"#f0f921\"]],\"sequentialminus\":[[0.0,\"#0d0887\"],[0.1111111111111111,\"#46039f\"],[0.2222222222222222,\"#7201a8\"],[0.3333333333333333,\"#9c179e\"],[0.4444444444444444,\"#bd3786\"],[0.5555555555555556,\"#d8576b\"],[0.6666666666666666,\"#ed7953\"],[0.7777777777777778,\"#fb9f3a\"],[0.8888888888888888,\"#fdca26\"],[1.0,\"#f0f921\"]],\"diverging\":[[0,\"#8e0152\"],[0.1,\"#c51b7d\"],[0.2,\"#de77ae\"],[0.3,\"#f1b6da\"],[0.4,\"#fde0ef\"],[0.5,\"#f7f7f7\"],[0.6,\"#e6f5d0\"],[0.7,\"#b8e186\"],[0.8,\"#7fbc41\"],[0.9,\"#4d9221\"],[1,\"#276419\"]]},\"xaxis\":{\"gridcolor\":\"white\",\"linecolor\":\"white\",\"ticks\":\"\",\"title\":{\"standoff\":15},\"zerolinecolor\":\"white\",\"automargin\":true,\"zerolinewidth\":2},\"yaxis\":{\"gridcolor\":\"white\",\"linecolor\":\"white\",\"ticks\":\"\",\"title\":{\"standoff\":15},\"zerolinecolor\":\"white\",\"automargin\":true,\"zerolinewidth\":2},\"scene\":{\"xaxis\":{\"backgroundcolor\":\"#E5ECF6\",\"gridcolor\":\"white\",\"linecolor\":\"white\",\"showbackground\":true,\"ticks\":\"\",\"zerolinecolor\":\"white\",\"gridwidth\":2},\"yaxis\":{\"backgroundcolor\":\"#E5ECF6\",\"gridcolor\":\"white\",\"linecolor\":\"white\",\"showbackground\":true,\"ticks\":\"\",\"zerolinecolor\":\"white\",\"gridwidth\":2},\"zaxis\":{\"backgroundcolor\":\"#E5ECF6\",\"gridcolor\":\"white\",\"linecolor\":\"white\",\"showbackground\":true,\"ticks\":\"\",\"zerolinecolor\":\"white\",\"gridwidth\":2}},\"shapedefaults\":{\"line\":{\"color\":\"#2a3f5f\"}},\"annotationdefaults\":{\"arrowcolor\":\"#2a3f5f\",\"arrowhead\":0,\"arrowwidth\":1},\"geo\":{\"bgcolor\":\"white\",\"landcolor\":\"#E5ECF6\",\"subunitcolor\":\"white\",\"showland\":true,\"showlakes\":true,\"lakecolor\":\"white\"},\"title\":{\"x\":0.05},\"mapbox\":{\"style\":\"light\"}}},\"title\":{\"text\":\"Real vs. Synthetic dataset for CitizenDesc (CTGAN 1000 epochs)\"},\"plot_bgcolor\":\"#F5F5F8\"},                        {\"responsive\": true}                    ).then(function(){\n",
       "                            \n",
       "var gd = document.getElementById('7a5cb054-1d02-4701-ac65-a4fa8dc459ce');\n",
       "var x = new MutationObserver(function (mutations, observer) {{\n",
       "        var display = window.getComputedStyle(gd).display;\n",
       "        if (!display || display === 'none') {{\n",
       "            console.log([gd, 'removed!']);\n",
       "            Plotly.purge(gd);\n",
       "            observer.disconnect();\n",
       "        }}\n",
       "}});\n",
       "\n",
       "// Listen for the removal of the full notebook cells\n",
       "var notebookContainer = gd.closest('#notebook-container');\n",
       "if (notebookContainer) {{\n",
       "    x.observe(notebookContainer, {childList: true});\n",
       "}}\n",
       "\n",
       "// Listen for the clearing of the current output cell\n",
       "var outputEl = gd.closest('.output');\n",
       "if (outputEl) {{\n",
       "    x.observe(outputEl, {childList: true});\n",
       "}}\n",
       "\n",
       "                        })                };                });            </script>        </div>"
      ]
     },
     "metadata": {},
     "output_type": "display_data"
    }
   ],
   "source": [
    "fig = utils.get_column_plot(\n",
    "    real_data=pd.read_csv(\"20230308_Updated_HR_dataset.csv\"),\n",
    "    synthetic_data=pd.read_csv(\"synthetic_dataset_CTGAN_1000epochs.csv\"),\n",
    "    column_name=\"CitizenDesc\",\n",
    "    metadata=json.load(open(\"metadata.json\", \"r\"))\n",
    "    \n",
    ")\n",
    "fig.update_layout(title=\"Real vs. Synthetic dataset for CitizenDesc\")\n",
    "fig.show()"
   ]
  },
  {
   "cell_type": "code",
   "execution_count": 76,
   "id": "1f0d34bd",
   "metadata": {},
   "outputs": [
    {
     "data": {
      "application/vnd.plotly.v1+json": {
       "config": {
        "plotlyServerURL": "https://plot.ly"
       },
       "data": [
        {
         "fill": "tozeroy",
         "hovertemplate": "<b>Real</b><br>Value: %{x}<br>Frequency: %{y}<extra></extra>",
         "legendgroup": "Real",
         "marker": {
          "color": "#000036"
         },
         "mode": "lines",
         "name": "Real",
         "showlegend": true,
         "type": "scatter",
         "x": [
          45046,
          45455.908,
          45865.816,
          46275.724,
          46685.632,
          47095.54,
          47505.448,
          47915.356,
          48325.264,
          48735.172,
          49145.08,
          49554.988,
          49964.896,
          50374.804000000004,
          50784.712,
          51194.62,
          51604.528,
          52014.436,
          52424.344,
          52834.252,
          53244.16,
          53654.068,
          54063.976,
          54473.884,
          54883.792,
          55293.7,
          55703.608,
          56113.516,
          56523.424,
          56933.332,
          57343.24,
          57753.148,
          58163.056,
          58572.964,
          58982.872,
          59392.78,
          59802.688,
          60212.596,
          60622.504,
          61032.412,
          61442.32,
          61852.228,
          62262.136,
          62672.044,
          63081.952000000005,
          63491.86,
          63901.768,
          64311.676,
          64721.584,
          65131.492,
          65541.4,
          65951.308,
          66361.216,
          66771.124,
          67181.032,
          67590.94,
          68000.848,
          68410.756,
          68820.664,
          69230.572,
          69640.48,
          70050.388,
          70460.296,
          70870.204,
          71280.112,
          71690.02,
          72099.928,
          72509.836,
          72919.744,
          73329.652,
          73739.56,
          74149.468,
          74559.376,
          74969.284,
          75379.192,
          75789.1,
          76199.008,
          76608.916,
          77018.824,
          77428.732,
          77838.64,
          78248.54800000001,
          78658.456,
          79068.364,
          79478.272,
          79888.18,
          80298.088,
          80707.996,
          81117.90400000001,
          81527.812,
          81937.72,
          82347.628,
          82757.536,
          83167.444,
          83577.352,
          83987.26000000001,
          84397.168,
          84807.076,
          85216.984,
          85626.89199999999,
          86036.8,
          86446.708,
          86856.61600000001,
          87266.524,
          87676.432,
          88086.34,
          88496.24799999999,
          88906.156,
          89316.064,
          89725.97200000001,
          90135.88,
          90545.788,
          90955.696,
          91365.60399999999,
          91775.512,
          92185.42,
          92595.32800000001,
          93005.236,
          93415.144,
          93825.052,
          94234.95999999999,
          94644.868,
          95054.776,
          95464.68400000001,
          95874.592,
          96284.5,
          96694.408,
          97104.31599999999,
          97514.224,
          97924.132,
          98334.04000000001,
          98743.948,
          99153.856,
          99563.764,
          99973.67199999999,
          100383.58,
          100793.488,
          101203.39600000001,
          101613.304,
          102023.212,
          102433.12,
          102843.02799999999,
          103252.936,
          103662.844,
          104072.75200000001,
          104482.66,
          104892.568,
          105302.476,
          105712.38399999999,
          106122.292,
          106532.2,
          106942.10800000001,
          107352.016,
          107761.924,
          108171.832,
          108581.73999999999,
          108991.648,
          109401.556,
          109811.464,
          110221.372,
          110631.28,
          111041.188,
          111451.096,
          111861.004,
          112270.912,
          112680.82,
          113090.728,
          113500.636,
          113910.544,
          114320.452,
          114730.36,
          115140.268,
          115550.176,
          115960.084,
          116369.992,
          116779.9,
          117189.808,
          117599.716,
          118009.624,
          118419.532,
          118829.44,
          119239.348,
          119649.256,
          120059.164,
          120469.072,
          120878.98,
          121288.888,
          121698.796,
          122108.704,
          122518.612,
          122928.52,
          123338.428,
          123748.336,
          124158.244,
          124568.152,
          124978.06,
          125387.968,
          125797.876,
          126207.784,
          126617.692,
          127027.6,
          127437.508,
          127847.416,
          128257.324,
          128667.232,
          129077.14,
          129487.048,
          129896.956,
          130306.864,
          130716.772,
          131126.68,
          131536.588,
          131946.49599999998,
          132356.40399999998,
          132766.312,
          133176.22,
          133586.128,
          133996.036,
          134405.94400000002,
          134815.852,
          135225.76,
          135635.668,
          136045.576,
          136455.484,
          136865.392,
          137275.3,
          137685.20799999998,
          138095.11599999998,
          138505.024,
          138914.932,
          139324.84,
          139734.74800000002,
          140144.65600000002,
          140554.564,
          140964.472,
          141374.38,
          141784.288,
          142194.196,
          142604.104,
          143014.012,
          143423.91999999998,
          143833.82799999998,
          144243.736,
          144653.644,
          145063.552,
          145473.46000000002,
          145883.36800000002,
          146293.276,
          146703.184,
          147113.092,
          147523,
          147932.908,
          148342.816,
          148752.724,
          149162.63199999998,
          149572.53999999998,
          149982.448,
          150392.356,
          150802.264,
          151212.17200000002,
          151622.08000000002,
          152031.988,
          152441.896,
          152851.804,
          153261.712,
          153671.62,
          154081.528,
          154491.436,
          154901.34399999998,
          155311.25199999998,
          155721.16,
          156131.068,
          156540.976,
          156950.88400000002,
          157360.79200000002,
          157770.7,
          158180.608,
          158590.516,
          159000.424,
          159410.332,
          159820.24,
          160230.148,
          160640.05599999998,
          161049.964,
          161459.872,
          161869.78,
          162279.688,
          162689.59600000002,
          163099.50400000002,
          163509.412,
          163919.32,
          164329.228,
          164739.136,
          165149.044,
          165558.952,
          165968.86,
          166378.76799999998,
          166788.676,
          167198.584,
          167608.492,
          168018.4,
          168428.30800000002,
          168838.21600000001,
          169248.124,
          169658.032,
          170067.94,
          170477.848,
          170887.756,
          171297.664,
          171707.572,
          172117.47999999998,
          172527.388,
          172937.296,
          173347.204,
          173757.112,
          174167.02000000002,
          174576.928,
          174986.836,
          175396.744,
          175806.652,
          176216.56,
          176626.468,
          177036.376,
          177446.284,
          177856.192,
          178266.1,
          178676.008,
          179085.916,
          179495.824,
          179905.732,
          180315.64,
          180725.548,
          181135.456,
          181545.364,
          181955.272,
          182365.18,
          182775.088,
          183184.996,
          183594.904,
          184004.812,
          184414.72,
          184824.628,
          185234.536,
          185644.444,
          186054.352,
          186464.26,
          186874.168,
          187284.076,
          187693.984,
          188103.892,
          188513.8,
          188923.708,
          189333.616,
          189743.524,
          190153.432,
          190563.34,
          190973.248,
          191383.156,
          191793.064,
          192202.972,
          192612.88,
          193022.788,
          193432.696,
          193842.604,
          194252.512,
          194662.42,
          195072.328,
          195482.236,
          195892.144,
          196302.052,
          196711.96,
          197121.868,
          197531.776,
          197941.684,
          198351.592,
          198761.5,
          199171.408,
          199581.316,
          199991.224,
          200401.132,
          200811.04,
          201220.948,
          201630.856,
          202040.764,
          202450.672,
          202860.58,
          203270.488,
          203680.396,
          204090.304,
          204500.212,
          204910.12,
          205320.028,
          205729.936,
          206139.844,
          206549.752,
          206959.66,
          207369.568,
          207779.476,
          208189.384,
          208599.292,
          209009.2,
          209419.108,
          209829.016,
          210238.924,
          210648.832,
          211058.74,
          211468.648,
          211878.556,
          212288.464,
          212698.372,
          213108.28,
          213518.188,
          213928.096,
          214338.004,
          214747.912,
          215157.82,
          215567.728,
          215977.636,
          216387.544,
          216797.452,
          217207.36,
          217617.268,
          218027.176,
          218437.084,
          218846.992,
          219256.9,
          219666.808,
          220076.716,
          220486.624,
          220896.532,
          221306.44,
          221716.348,
          222126.256,
          222536.164,
          222946.072,
          223355.98,
          223765.888,
          224175.796,
          224585.704,
          224995.612,
          225405.52,
          225815.428,
          226225.336,
          226635.244,
          227045.152,
          227455.06,
          227864.968,
          228274.876,
          228684.784,
          229094.692,
          229504.6,
          229914.508,
          230324.416,
          230734.324,
          231144.232,
          231554.14,
          231964.048,
          232373.956,
          232783.864,
          233193.772,
          233603.68,
          234013.588,
          234423.496,
          234833.404,
          235243.312,
          235653.22,
          236063.128,
          236473.036,
          236882.944,
          237292.852,
          237702.76,
          238112.668,
          238522.576,
          238932.484,
          239342.392,
          239752.3,
          240162.208,
          240572.116,
          240982.024,
          241391.932,
          241801.84,
          242211.748,
          242621.656,
          243031.564,
          243441.472,
          243851.38,
          244261.288,
          244671.196,
          245081.104,
          245491.012,
          245900.92,
          246310.828,
          246720.736,
          247130.644,
          247540.552,
          247950.46,
          248360.368,
          248770.276,
          249180.184,
          249590.092
         ],
         "xaxis": "x",
         "y": [
          1.2687863989691874e-05,
          1.3273182543245664e-05,
          1.386453867899308e-05,
          1.4460734687554927e-05,
          1.5060538207491491e-05,
          1.5662686621192615e-05,
          1.6265891263456556e-05,
          1.6868841404495392e-05,
          1.7470207980888866e-05,
          1.8068647060641484e-05,
          1.8662803041601524e-05,
          1.9251311595675998e-05,
          1.9832802384103597e-05,
          2.0405901581110135e-05,
          2.0969234254161894e-05,
          2.1521426658366534e-05,
          2.2061108510000045e-05,
          2.258691530937029e-05,
          2.3097490786013625e-05,
          2.3591489539403113e-05,
          2.4067579945821162e-05,
          2.4524447396811213e-05,
          2.4960797926739563e-05,
          2.5375362276627097e-05,
          2.5766900428789612e-05,
          2.613420663226472e-05,
          2.64761149228883e-05,
          2.679150512464845e-05,
          2.707930930107941e-05,
          2.7338518607473102e-05,
          2.7568190477115984e-05,
          2.7767456058133763e-05,
          2.7935527802361793e-05,
          2.8071707094432952e-05,
          2.8175391798423156e-05,
          2.8246083591283726e-05,
          2.8283394947219064e-05,
          2.8287055635340822e-05,
          2.825691859447204e-05,
          2.8192965053901647e-05,
          2.8095308777128945e-05,
          2.796419931701722e-05,
          2.7800024185033592e-05,
          2.7603309854042448e-05,
          2.7374721533030778e-05,
          2.7115061672694255e-05,
          2.682526718249014e-05,
          2.6506405362016008e-05,
          2.615966857184896e-05,
          2.578636769072212e-05,
          2.5387924426602818e-05,
          2.4965862568374043e-05,
          2.452179828197645e-05,
          2.4057429569667167e-05,
          2.3574525023200257e-05,
          2.3074912011011714e-05,
          2.256046444577631e-05,
          2.2033090281941137e-05,
          2.149471889308236e-05,
          2.094728847629249e-05,
          2.0392733625480434e-05,
          1.983297320771647e-05,
          1.9269898666887303e-05,
          1.8705362867291554e-05,
          1.81411695767894e-05,
          1.757906367509997e-05,
          1.702072215822547e-05,
          1.6467745995136517e-05,
          1.5921652878149796e-05,
          1.5383870894181706e-05,
          1.4855733130559498e-05,
          1.433847321655153e-05,
          1.383322179042107e-05,
          1.3341003871756173e-05,
          1.2862737110152333e-05,
          1.2399230874065996e-05,
          1.1951186137790177e-05,
          1.1519196119980778e-05,
          1.1103747623884938e-05,
          1.0705223027277166e-05,
          1.0323902868953457e-05,
          9.959968978316863e-06,
          9.613508094955516e-06,
          9.284515926008509e-06,
          8.972901590393055e-06,
          8.678492400492004e-06,
          8.401038933559603e-06,
          8.140220346799472e-06,
          7.895649891726046e-06,
          7.666880584991582e-06,
          7.453410994310301e-06,
          7.254691099434907e-06,
          7.07012818934421e-06,
          6.899092757909445e-06,
          6.740924361357522e-06,
          6.594937401885369e-06,
          6.4604268028524205e-06,
          6.33667354213566e-06,
          6.222950011526597e-06,
          6.118525171522315e-06,
          6.022669472553124e-06,
          5.934659515623138e-06,
          5.85378242753664e-06,
          5.779339928346954e-06,
          5.710652071391871e-06,
          5.647060639254409e-06,
          5.5879321821827875e-06,
          5.5326606888850665e-06,
          5.480669883137505e-06,
          5.431415143263556e-06,
          5.384385045198706e-06,
          5.339102533499204e-06,
          5.2951257282240865e-06,
          5.2520483790638215e-06,
          5.209499981352234e-06,
          5.16714557163179e-06,
          5.124685223201305e-06,
          5.081853264520561e-06,
          5.038417245446175e-06,
          4.994176678001307e-06,
          4.948961579720771e-06,
          4.9026308485504795e-06,
          4.855070498812888e-06,
          4.806191787879833e-06,
          4.755929262930554e-06,
          4.704238756530767e-06,
          4.65109535876876e-06,
          4.5964913923525386e-06,
          4.540434415437711e-06,
          4.482945275052768e-06,
          4.424056231853622e-06,
          4.363809174611582e-06,
          4.302253940359874e-06,
          4.2394467535353054e-06,
          4.175448794796558e-06,
          4.110324907521906e-06,
          4.044142447328964e-06,
          3.976970277357354e-06,
          3.908877909552435e-06,
          3.839934789818993e-06,
          3.7702097227127357e-06,
          3.6997704293336585e-06,
          3.6286832303047e-06,
          3.5570128441829676e-06,
          3.4848222903753028e-06,
          3.412172884626719e-06,
          3.3391243144252853e-06,
          3.2657347812209996e-06,
          3.1920611961846207e-06,
          3.1181594163257797e-06,
          3.0440845081330718e-06,
          2.9698910264733593e-06,
          2.895633297269822e-06,
          2.8213656934418384e-06,
          2.74714289470469e-06,
          2.673020123062144e-06,
          2.5990533471462806e-06,
          2.5252994499338426e-06,
          2.451816355762118e-06,
          2.3786631139487757e-06,
          2.3058999376569527e-06,
          2.2335881979120795e-06,
          2.1617903738444003e-06,
          2.0905699612790933e-06,
          2.0199913427070953e-06,
          1.950119622430018e-06,
          1.8810204312734095e-06,
          1.812759705699001e-06,
          1.745403446419256e-06,
          1.6790174617296984e-06,
          1.61366710073526e-06,
          1.549416981467566e-06,
          1.486330718585694e-06,
          1.4244706549411895e-06,
          1.3638976007880095e-06,
          1.3046705838513927e-06,
          1.2468466128568308e-06,
          1.1904804564843145e-06,
          1.1356244390741935e-06,
          1.0823282537901918e-06,
          1.0306387933608152e-06,
          9.80599997989163e-07,
          9.322527195580007e-07,
          8.856346008727122e-07,
          8.40779968389178e-07,
          7.977197366718956e-07,
          7.564813227231275e-07,
          7.170885683159151e-07,
          6.795616685495235e-07,
          6.439171050194533e-07,
          6.101675822468449e-07,
          5.783219663336457e-07,
          5.483852251872562e-07,
          5.203583700778151e-07,
          4.942383987370259e-07,
          4.7001824066367074e-07,
          4.476867057512139e-07,
          4.272284377806442e-07,
          4.086238747114802e-07,
          3.918492180404601e-07,
          3.768764137677707e-07,
          3.6367314770267996e-07,
          3.522028579447815e-07,
          3.4242476738639086e-07,
          3.342939389913997e-07,
          3.2776135641449855e-07,
          3.227740322332999e-07,
          3.1927514567899723e-07,
          3.172042112760062e-07,
          3.1649727924798323e-07,
          3.170871679295871e-07,
          3.189037277558547e-07,
          3.218741357016156e-07,
          3.2592321833111473e-07,
          3.3097380091326465e-07,
          3.3694707938149205e-07,
          3.4376301128978497e-07,
          3.513407213582792e-07,
          3.5959891673127436e-07,
          3.684563067045365e-07,
          3.7783202143130586e-07,
          3.876460239983754e-07,
          3.978195102823825e-07,
          4.08275291155372e-07,
          4.189381519069374e-07,
          4.297351841827567e-07,
          4.4059608629668875e-07,
          4.5145342844246913e-07,
          4.622428800942357e-07,
          4.729033977222288e-07,
          4.833773718380992e-07,
          4.93610733298182e-07,
          5.035530197068467e-07,
          5.131574036489987e-07,
          5.223806853151276e-07,
          5.311832528394398e-07,
          5.395290143291928e-07,
          5.47385306102168e-07,
          5.547227820534568e-07,
          5.615152893309741e-07,
          5.677397356042644e-07,
          5.733759531611225e-07,
          5.784065648638155e-07,
          5.828168566486634e-07,
          5.865946607711378e-07,
          5.897302533992333e-07,
          5.922162694599024e-07,
          5.94047636868748e-07,
          5.952215314460066e-07,
          5.957373529673046e-07,
          5.955967219413158e-07,
          5.948034958734557e-07,
          5.933638029890062e-07,
          5.912860906725491e-07,
          5.885811852526845e-07,
          5.85262359238011e-07,
          5.81345401705086e-07,
          5.768486872606123e-07,
          5.717932388536162e-07,
          5.662027797002278e-07,
          5.601037697014149e-07,
          5.535254219767554e-07,
          5.464996954959896e-07,
          5.390612602528e-07,
          5.312474319779648e-07,
          5.230980740158203e-07,
          5.146554646716923e-07,
          5.059641290608268e-07,
          4.970706352333162e-07,
          4.880233550967636e-07,
          4.78872191391939e-07,
          4.6966827268047215e-07,
          4.6046361896311604e-07,
          4.513107811494703e-07,
          4.422624581342383e-07,
          4.333710956921536e-07,
          4.2468847177687563e-07,
          4.162652730935883e-07,
          4.0815066800830966e-07,
          4.0039188095850544e-07,
          3.9303377354095764e-07,
          3.861184373773877e-07,
          3.796848037010186e-07,
          3.7376827437467865e-07,
          3.684003787509165e-07,
          3.636084604257724e-07,
          3.59415397529988e-07,
          3.558393597545642e-07,
          3.5289360483218804e-07,
          3.505863167023729e-07,
          3.4892048708632054e-07,
          3.478938416968683e-07,
          3.4749881181812957e-07,
          3.4772255151611373e-07,
          3.4854700029205236e-07,
          3.4994899056932904e-07,
          3.519003990162806e-07,
          3.543683403526376e-07,
          3.5731540196747147e-07,
          3.606999173902023e-07,
          3.6447627640125214e-07,
          3.6859526934194757e-07,
          3.7300446298011067e-07,
          3.776486051037286e-07,
          3.8247005484522834e-07,
          3.87409235578476e-07,
          3.9240510707535384e-07,
          3.9739565345520366e-07,
          4.023183833062139e-07,
          4.07110838202007e-07,
          4.117111056798373e-07,
          4.1605833259116274e-07,
          4.2009323458487903e-07,
          4.237585973437352e-07,
          4.269997650723864e-07,
          4.297651116394551e-07,
          4.3200648971490273e-07,
          4.33679653227617e-07,
          4.347446485059027e-07,
          4.351661695647722e-07,
          4.3491387317663627e-07,
          4.339626496129799e-07,
          4.3229284527865924e-07,
          4.298904338800608e-07,
          4.267471332734422e-07,
          4.2286046572731136e-07,
          4.18233759996816e-07,
          4.1287609433989314e-07,
          4.068021803926672e-07,
          4.000321886510276e-07,
          3.925915171599032e-07,
          3.845105058732855e-07,
          3.758240999970014e-07,
          3.6657146644264455e-07,
          3.5679556828480565e-07,
          3.465427028056244e-07,
          3.358620093127809e-07,
          3.248049534133632e-07,
          3.1342479480330454e-07,
          3.0177604587975435e-07,
          2.899139285949512e-07,
          2.778938369412782e-07,
          2.657708122886439e-07,
          2.5359903849108477e-07,
          2.414313632470344e-07,
          2.29318851648051e-07,
          2.1731037719761183e-07,
          2.0545225484137305e-07,
          1.9378791974108677e-07,
          1.8235765466598523e-07,
          1.7119836798816592e-07,
          1.6034342337280357e-07,
          1.4982252136996712e-07,
          1.396616322612668e-07,
          1.2988297870903008e-07,
          1.2050506601336804e-07,
          1.1154275711654559e-07,
          1.0300738891472575e-07,
          9.490692595209535e-08,
          8.724614718624051e-08,
          8.002686122834976e-08,
          7.324814527662346e-08,
          6.69066028727386e-08,
          6.099663561397812e-08,
          5.551072404016588e-08,
          5.0439713076003265e-08,
          4.57730976356658e-08,
          4.149930427686162e-08,
          3.760596511490917e-08,
          3.408018056267436e-08,
          3.0908767838903586e-08,
          2.807849257565537e-08,
          2.557628124632873e-08,
          2.338941252147338e-08,
          2.1505686033800198e-08,
          1.9913567391642726e-08,
          1.8602308618004197e-08,
          1.756204350818993e-08,
          1.6783857692040626e-08,
          1.6259833457350934e-08,
          1.5983069640547623e-08,
          1.594767712130467e-08,
          1.6148750672231788e-08,
          1.658231811615369e-08,
          1.724526793495571e-08,
          1.813525665848438e-08,
          1.9250597542152853e-08,
          2.0590132219711453e-08,
          2.2153087194333407e-08,
          2.3938917207062055e-08,
          2.594713769610283e-08,
          2.8177148731708084e-08,
          3.062805297674211e-08,
          3.329847037867267e-08,
          3.618635244008939e-08,
          3.928879903650271e-08,
          4.2601880846192976e-08,
          4.6120470520988105e-08,
          4.983808575270663e-08,
          5.3746747371469244e-08,
          5.78368555434929e-08,
          6.209708701249525e-08,
          6.651431614662658e-08,
          7.107356230943778e-08,
          7.575796576785961e-08,
          8.054879398332447e-08,
          8.542547970668432e-08,
          9.036569181809395e-08,
          9.534543932615695e-08,
          1.0033920837483906e-07,
          1.053201315122109e-07,
          1.1026018786382535e-07,
          1.1513043223859287e-07,
          1.1990125059047693e-07,
          1.245426386799072e-07,
          1.2902450023931989e-07,
          1.3331696046231258e-07,
          1.373906902193269e-07,
          1.4121723606722008e-07,
          1.4476935087654963e-07,
          1.4802131975782015e-07,
          1.50949275932921e-07,
          1.5353150127439385e-07,
          1.5574870642405664e-07,
          1.5758428570186213e-07,
          1.5902454242070622e-07,
          1.600588807252554e-07,
          1.6067996066199756e-07,
          1.608838138503805e-07,
          1.6066991784566262e-07,
          1.6004122804579164e-07,
          1.590041667788176e-07,
          1.5756856999488848e-07,
          1.5574759275845236e-07,
          1.5355757547299304e-07,
          1.5101787345451097e-07,
          1.481506530846099e-07,
          1.449806583049869e-07,
          1.4153495165034593e-07,
          1.378426343469533e-07,
          1.3393455022300294e-07,
          1.2984297828155236e-07,
          1.2560131877720996e-07,
          1.2124377751737152e-07,
          1.1680505288404614e-07,
          1.1232002975245348e-07,
          1.0782348407940388e-07,
          1.0334980146192106e-07,
          9.893271244020076e-08,
          9.460504675563231e-08,
          9.03985081916774e-08,
          8.634347104048232e-08,
          8.24687986683772e-08,
          7.880168411517497e-08,
          7.53675121703371e-08,
          7.218974193671318e-08,
          6.928980853067003e-08,
          6.668704228450233e-08,
          6.439860361891334e-08,
          6.243943164312914e-08,
          6.082220451808189e-08,
          5.9557309681482334e-08,
          5.865282217719653e-08,
          5.811448954738463e-08,
          5.7945722024302387e-08,
          5.814758708758189e-08,
          5.871880781868876e-08,
          5.965576487250178e-08,
          6.095250228126716e-08,
          6.26007376930433e-08,
          6.458987800991102e-08,
          6.690704171615914e-08,
          6.953708945997478e-08,
          7.246266466211364e-08,
          7.566424606173364e-08,
          7.912021416548077e-08,
          8.280693353597793e-08,
          8.669885273772314e-08,
          9.076862355255132e-08,
          9.498724078651674e-08,
          9.932420362146947e-08,
          1.0374769902641458e-07,
          1.0822480724713308e-07,
          1.1272172885081962e-07,
          1.1720403223065772e-07,
          1.2163691988973475e-07,
          1.2598551124167052e-07,
          1.3021513910445513e-07,
          1.342916565416065e-07,
          1.3818175023757605e-07,
          1.418532561978365e-07,
          1.4527547325196899e-07,
          1.484194696219441e-07,
          1.5125837770662449e-07,
          1.537676722335264e-07,
          1.5592542704307208e-07,
          1.5771254599884997e-07,
          1.591129638563534e-07,
          1.6011381336576038e-07,
          1.6070555542196387e-07
         ],
         "yaxis": "y"
        },
        {
         "fill": "tozeroy",
         "hovertemplate": "<b>Synthetic</b><br>Value: %{x}<br>Frequency: %{y}<extra></extra>",
         "legendgroup": "Synthetic",
         "marker": {
          "color": "#01E0C9"
         },
         "mode": "lines",
         "name": "Synthetic",
         "showlegend": true,
         "type": "scatter",
         "x": [
          0,
          601.354,
          1202.708,
          1804.062,
          2405.416,
          3006.77,
          3608.124,
          4209.478,
          4810.832,
          5412.186,
          6013.54,
          6614.894,
          7216.248,
          7817.602,
          8418.956,
          9020.31,
          9621.664,
          10223.018,
          10824.372,
          11425.726,
          12027.08,
          12628.434,
          13229.788,
          13831.142,
          14432.496,
          15033.85,
          15635.204,
          16236.558,
          16837.912,
          17439.266,
          18040.62,
          18641.974,
          19243.328,
          19844.682,
          20446.036,
          21047.39,
          21648.744,
          22250.098,
          22851.452,
          23452.806,
          24054.16,
          24655.514,
          25256.868,
          25858.222,
          26459.576,
          27060.93,
          27662.284,
          28263.638,
          28864.992,
          29466.346,
          30067.7,
          30669.054,
          31270.408,
          31871.762,
          32473.116,
          33074.47,
          33675.824,
          34277.178,
          34878.532,
          35479.886,
          36081.24,
          36682.594,
          37283.948,
          37885.302,
          38486.656,
          39088.01,
          39689.364,
          40290.718,
          40892.072,
          41493.426,
          42094.78,
          42696.134,
          43297.488,
          43898.842,
          44500.196,
          45101.55,
          45702.904,
          46304.258,
          46905.612,
          47506.966,
          48108.32,
          48709.674,
          49311.028,
          49912.382,
          50513.736,
          51115.09,
          51716.444,
          52317.798,
          52919.152,
          53520.506,
          54121.86,
          54723.214,
          55324.568,
          55925.922,
          56527.276,
          57128.63,
          57729.984,
          58331.338,
          58932.692,
          59534.046,
          60135.4,
          60736.754,
          61338.108,
          61939.462,
          62540.816,
          63142.17,
          63743.524,
          64344.878,
          64946.232,
          65547.586,
          66148.94,
          66750.294,
          67351.648,
          67953.002,
          68554.356,
          69155.71,
          69757.064,
          70358.418,
          70959.772,
          71561.126,
          72162.48,
          72763.834,
          73365.188,
          73966.542,
          74567.896,
          75169.25,
          75770.604,
          76371.958,
          76973.312,
          77574.666,
          78176.02,
          78777.374,
          79378.728,
          79980.082,
          80581.436,
          81182.79,
          81784.144,
          82385.498,
          82986.852,
          83588.206,
          84189.56,
          84790.914,
          85392.268,
          85993.622,
          86594.976,
          87196.33,
          87797.684,
          88399.038,
          89000.392,
          89601.746,
          90203.1,
          90804.454,
          91405.808,
          92007.162,
          92608.516,
          93209.87,
          93811.224,
          94412.578,
          95013.932,
          95615.286,
          96216.64,
          96817.994,
          97419.348,
          98020.702,
          98622.056,
          99223.41,
          99824.764,
          100426.118,
          101027.472,
          101628.826,
          102230.18,
          102831.534,
          103432.888,
          104034.242,
          104635.596,
          105236.95,
          105838.304,
          106439.658,
          107041.012,
          107642.366,
          108243.72,
          108845.074,
          109446.428,
          110047.782,
          110649.136,
          111250.49,
          111851.844,
          112453.198,
          113054.552,
          113655.906,
          114257.26,
          114858.614,
          115459.968,
          116061.322,
          116662.676,
          117264.03,
          117865.384,
          118466.738,
          119068.092,
          119669.446,
          120270.8,
          120872.154,
          121473.508,
          122074.862,
          122676.216,
          123277.57,
          123878.924,
          124480.278,
          125081.632,
          125682.986,
          126284.34,
          126885.694,
          127487.048,
          128088.402,
          128689.756,
          129291.11,
          129892.464,
          130493.818,
          131095.172,
          131696.526,
          132297.88,
          132899.234,
          133500.588,
          134101.942,
          134703.296,
          135304.65,
          135906.004,
          136507.358,
          137108.712,
          137710.066,
          138311.42,
          138912.774,
          139514.128,
          140115.482,
          140716.836,
          141318.19,
          141919.544,
          142520.898,
          143122.252,
          143723.606,
          144324.96,
          144926.314,
          145527.668,
          146129.022,
          146730.376,
          147331.73,
          147933.084,
          148534.438,
          149135.792,
          149737.146,
          150338.5,
          150939.854,
          151541.208,
          152142.562,
          152743.916,
          153345.27,
          153946.624,
          154547.978,
          155149.332,
          155750.686,
          156352.04,
          156953.394,
          157554.748,
          158156.102,
          158757.456,
          159358.81,
          159960.164,
          160561.518,
          161162.872,
          161764.226,
          162365.58,
          162966.934,
          163568.288,
          164169.642,
          164770.996,
          165372.35,
          165973.704,
          166575.058,
          167176.412,
          167777.766,
          168379.12,
          168980.474,
          169581.828,
          170183.182,
          170784.536,
          171385.89,
          171987.244,
          172588.598,
          173189.952,
          173791.306,
          174392.66,
          174994.014,
          175595.368,
          176196.722,
          176798.076,
          177399.43,
          178000.784,
          178602.138,
          179203.492,
          179804.846,
          180406.2,
          181007.554,
          181608.908,
          182210.262,
          182811.616,
          183412.97,
          184014.324,
          184615.678,
          185217.032,
          185818.386,
          186419.74,
          187021.094,
          187622.448,
          188223.802,
          188825.156,
          189426.51,
          190027.864,
          190629.218,
          191230.572,
          191831.926,
          192433.28,
          193034.634,
          193635.988,
          194237.342,
          194838.696,
          195440.05,
          196041.404,
          196642.758,
          197244.112,
          197845.466,
          198446.82,
          199048.174,
          199649.528,
          200250.882,
          200852.236,
          201453.59,
          202054.944,
          202656.298,
          203257.652,
          203859.006,
          204460.36,
          205061.714,
          205663.068,
          206264.422,
          206865.776,
          207467.13,
          208068.484,
          208669.838,
          209271.192,
          209872.546,
          210473.9,
          211075.254,
          211676.608,
          212277.962,
          212879.316,
          213480.67,
          214082.024,
          214683.378,
          215284.732,
          215886.086,
          216487.44,
          217088.794,
          217690.148,
          218291.502,
          218892.856,
          219494.21,
          220095.564,
          220696.918,
          221298.272,
          221899.626,
          222500.98,
          223102.334,
          223703.688,
          224305.042,
          224906.396,
          225507.75,
          226109.104,
          226710.458,
          227311.812,
          227913.166,
          228514.52,
          229115.874,
          229717.228,
          230318.582,
          230919.936,
          231521.29,
          232122.644,
          232723.998,
          233325.352,
          233926.706,
          234528.06,
          235129.414,
          235730.768,
          236332.122,
          236933.476,
          237534.83,
          238136.184,
          238737.538,
          239338.892,
          239940.246,
          240541.6,
          241142.954,
          241744.308,
          242345.662,
          242947.016,
          243548.37,
          244149.724,
          244751.078,
          245352.432,
          245953.786,
          246555.14,
          247156.494,
          247757.848,
          248359.202,
          248960.556,
          249561.91,
          250163.264,
          250764.618,
          251365.972,
          251967.326,
          252568.68,
          253170.034,
          253771.388,
          254372.742,
          254974.096,
          255575.45,
          256176.804,
          256778.158,
          257379.512,
          257980.866,
          258582.22,
          259183.574,
          259784.928,
          260386.282,
          260987.636,
          261588.99,
          262190.344,
          262791.698,
          263393.052,
          263994.406,
          264595.76,
          265197.114,
          265798.468,
          266399.822,
          267001.176,
          267602.53,
          268203.884,
          268805.238,
          269406.592,
          270007.946,
          270609.3,
          271210.654,
          271812.008,
          272413.362,
          273014.716,
          273616.07,
          274217.424,
          274818.778,
          275420.132,
          276021.486,
          276622.84,
          277224.194,
          277825.548,
          278426.902,
          279028.256,
          279629.61,
          280230.964,
          280832.318,
          281433.672,
          282035.026,
          282636.38,
          283237.734,
          283839.088,
          284440.442,
          285041.796,
          285643.15,
          286244.504,
          286845.858,
          287447.212,
          288048.566,
          288649.92,
          289251.274,
          289852.628,
          290453.982,
          291055.336,
          291656.69,
          292258.044,
          292859.398,
          293460.752,
          294062.106,
          294663.46,
          295264.814,
          295866.168,
          296467.522,
          297068.876,
          297670.23,
          298271.584,
          298872.938,
          299474.292,
          300075.646
         ],
         "xaxis": "x",
         "y": [
          2.648209934503999e-08,
          2.6350559072955752e-08,
          2.5959842691628055e-08,
          2.5321480896216524e-08,
          2.4454062058125325e-08,
          2.3382333830409414e-08,
          2.213603196707015e-08,
          2.0748513886070234e-08,
          1.925528477050531e-08,
          1.7692507117806874e-08,
          1.6095580707938774e-08,
          1.4497869736712176e-08,
          1.2929638674594489e-08,
          1.141723997381086e-08,
          9.982576947053658e-09,
          8.642845843620346e-09,
          7.410544005830025e-09,
          6.293717297764716e-09,
          5.296410613277554e-09,
          4.419280569684405e-09,
          3.6603294058952804e-09,
          3.0157231749238123e-09,
          2.4806648120003123e-09,
          2.0503026578940475e-09,
          1.720666542898454e-09,
          1.489635636124949e-09,
          1.3579540768356944e-09,
          1.3303212032713953e-09,
          1.416592401647088e-09,
          1.6331337756120252e-09,
          2.0043786638271623e-09,
          2.5646362782352717e-09,
          3.3602022274238054e-09,
          4.451817300592241e-09,
          5.917514527807681e-09,
          7.855885157079152e-09,
          1.0389781820505988e-08,
          1.3670461917521541e-08,
          1.7882156364271768e-08,
          2.3247028731286234e-08,
          3.003046795537904e-08,
          3.854663494034836e-08,
          4.9164160222942044e-08,
          6.231186727261986e-08,
          7.848437465842352e-08,
          9.824741085419227e-08,
          1.2224265824825315e-07,
          1.511919281018816e-07,
          1.8590045564449003e-07,
          2.2725909392444552e-07,
          2.7624517617496373e-07,
          3.33921809258549e-07,
          4.0143535568465055e-07,
          4.800108600101796e-07,
          5.709451794130054e-07,
          6.755975912944367e-07,
          7.953776774054771e-07,
          9.317303294461833e-07,
          1.0861177907762424e-06,
          1.2599987475515394e-06,
          1.454804613310977e-06,
          1.6719133139777451e-06,
          1.91262107167934e-06,
          2.178112897234533e-06,
          2.4694327189482296e-06,
          2.7874542808969793e-06,
          3.1328541146021645e-06,
          3.5060879990567592e-06,
          3.9073723508975686e-06,
          4.336671907713931e-06,
          4.793694868107011e-06,
          5.27789632673209e-06,
          5.788490397744935e-06,
          6.324470875892173e-06,
          6.884639674578872e-06,
          7.467641650331639e-06,
          8.072003827775468e-06,
          8.696176537431127e-06,
          9.338573627634538e-06,
          9.997608761125272e-06,
          1.0671724891723646e-05,
          1.1359414353040142e-05,
          1.2059227572394825e-05,
          1.2769769217709849e-05,
          1.3489681538484391e-05,
          1.4217615700012162e-05,
          1.4952192945479648e-05,
          1.5691958360970246e-05,
          1.6435330775051786e-05,
          1.718055282186893e-05,
          1.7925645379927453e-05,
          1.8668370440839575e-05,
          1.9406205966852826e-05,
          2.0136335497974266e-05,
          2.0855654232343345e-05,
          2.1560792113266042e-05,
          2.224815321356033e-05,
          2.2913969517987234e-05,
          2.3554366167742996e-05,
          2.4165434432831146e-05,
          2.4743308181793585e-05,
          2.5284239459174095e-05,
          2.5784668964461617e-05,
          2.624128772774766e-05,
          2.6651087046428655e-05,
          2.7011394713050686e-05,
          2.7319896642843128e-05,
          2.7574644111579236e-05,
          2.777404785398481e-05,
          2.7916861173631817e-05,
          2.8002154915983e-05,
          2.8029287614635777e-05,
          2.7997874314776228e-05,
          2.790775750537308e-05,
          2.7758983268887912e-05,
          2.7551785215846558e-05,
          2.7286578055053944e-05,
          2.6963961810460095e-05,
          2.6584736789558524e-05,
          2.6149928494324865e-05,
          2.5660820801687226e-05,
          2.5118994980367227e-05,
          2.4526371502702816e-05,
          2.388525119355584e-05,
          2.3198352062888225e-05,
          2.2468838210704475e-05,
          2.170033747509065e-05,
          2.089694500286614e-05,
          2.0063210629172094e-05,
          1.9204108813993787e-05,
          1.8324990845014675e-05,
          1.7431520014023642e-05,
          1.6529591441749438e-05,
          1.562523909894719e-05,
          1.4724533292936309e-05,
          1.383347241404876e-05,
          1.2957873037085426e-05,
          1.210326253829586e-05,
          1.1274778225949724e-05,
          1.0477076615764216e-05,
          9.71425594759686e-06,
          8.98979438160163e-06,
          8.306505578754678e-06,
          7.666512609508615e-06,
          7.071240387691331e-06,
          6.521426129398893e-06,
          6.017146714439031e-06,
          5.55786129778409e-06,
          5.142467089512338e-06,
          4.769365896657946e-06,
          4.436538797860723e-06,
          4.141626197979195e-06,
          3.882010480249621e-06,
          3.6548985333853475e-06,
          3.457401575441713e-06,
          3.2866099201279126e-06,
          3.1396606280760395e-06,
          3.0137963467623673e-06,
          2.9064140567666842e-06,
          2.8151028939789094e-06,
          2.7376706891400725e-06,
          2.6721593371458525e-06,
          2.616849556920665e-06,
          2.5702560067012184e-06,
          2.5311140595259453e-06,
          2.4983598035321536e-06,
          2.471105000290704e-06,
          2.448608806839709e-06,
          2.430248044679738e-06,
          2.415487689262975e-06,
          2.4038530692427883e-06,
          2.3949050227083596e-06,
          2.3882189768910834e-06,
          2.383368618017476e-06,
          2.3799145175877904e-06,
          2.37739779633639e-06,
          2.375338649933846e-06,
          2.3732393396213724e-06,
          2.3705910710442385e-06,
          2.3668840468354456e-06,
          2.3616198817703633e-06,
          2.3543255108729022e-06,
          2.3445676975347857e-06,
          2.331967257662248e-06,
          2.3162121550251714e-06,
          2.297068691147438e-06,
          2.2743901095882955e-06,
          2.2481220586021137e-06,
          2.218304506369773e-06,
          2.185069876099826e-06,
          2.1486373589427026e-06,
          2.1093035630368084e-06,
          2.0674298570092107e-06,
          2.0234269540963844e-06,
          1.977737446225143e-06,
          1.9308171239150126e-06,
          1.8831159975852474e-06,
          1.8350599616745156e-06,
          1.7870340117904035e-06,
          1.7393678382560968e-06,
          1.6923244827469227e-06,
          1.6460925680138623e-06,
          1.6007824068001106e-06,
          1.556426079564348e-06,
          1.512981356486478e-06,
          1.4703391414015854e-06,
          1.4283339455620982e-06,
          1.3867567662198964e-06,
          1.3453696542276514e-06,
          1.3039212079440255e-06,
          1.26216222626273e-06,
          1.2198607875552838e-06,
          1.1768160878886093e-06,
          1.1328704642031352e-06,
          1.0879191390915694e-06,
          1.0419173465800886e-06,
          9.948846267407417e-07,
          9.469062057637046e-07,
          8.981315028335784e-07,
          8.487699220296376e-07,
          7.990841932549472e-07,
          7.493816179718741e-07,
          7.0000365057715e-07,
          6.513143021005812e-07,
          6.036878873981138e-07,
          5.574966485099883e-07,
          5.130987745478508e-07,
          4.708273026082677e-07,
          4.3098032630551576e-07,
          3.938128614640368e-07,
          3.595306265170687e-07,
          3.282858935281522e-07,
          3.0017546052684245e-07,
          2.752406933240245e-07,
          2.53469491160532e-07,
          2.3479995065665582e-07,
          2.191254405330851e-07,
          2.0630075787809847e-07,
          1.9614901607514693e-07,
          1.8846891400108327e-07,
          1.8304205351010858e-07,
          1.7964000429431965e-07,
          1.7803085818693888e-07,
          1.7798506500639903e-07,
          1.7928039561553152e-07,
          1.8170593208971862e-07,
          1.8506503759430155e-07,
          1.8917730832488098e-07,
          1.9387955577860082e-07,
          1.9902590911543885e-07,
          2.0448716387188053e-07,
          2.101495340196363e-07,
          2.1591298816804196e-07,
          2.2168936606764791e-07,
          2.274004767357301e-07,
          2.3297637280028605e-07,
          2.3835397578661767e-07,
          2.4347619362100196e-07,
          2.482916253543165e-07,
          2.5275489118320607e-07,
          2.568275618970555e-07,
          2.6047959583043457e-07,
          2.6369112909164565e-07,
          2.66454412459284e-07,
          2.687756517530096e-07,
          2.7067649251450244e-07,
          2.721948976132088e-07,
          2.733851988687935e-07,
          2.7431715945883833e-07,
          2.7507395881743613e-07,
          2.757490998454557e-07,
          2.764423318767826e-07,
          2.772547734764839e-07,
          2.7828349832624105e-07,
          2.796159076411738e-07,
          2.813242479342895e-07,
          2.834606399921083e-07,
          2.8605296280855377e-07,
          2.891018868331223e-07,
          2.92579278604978e-07,
          2.9642811004339e-07,
          3.005639080231549e-07,
          3.0487768155057705e-07,
          3.0924017271023434e-07,
          3.135072003391526e-07,
          3.1752580720629884e-07,
          3.211408854047466e-07,
          3.242019416200176e-07,
          3.2656967280141484e-07,
          3.2812205070031914e-07,
          3.2875965667847314e-07,
          3.284100613749881e-07,
          3.270311023733661e-07,
          3.246129724191727e-07,
          3.2117908724014834e-07,
          3.167857528198797e-07,
          3.115206953203938e-07,
          3.0550055195558754e-07,
          2.9886744799923707e-07,
          2.917848043446637e-07,
          2.8443253251389117e-07,
          2.7700178074671614e-07,
          2.6968939674492075e-07,
          2.626922706392227e-07,
          2.562017164800356e-07,
          2.503980426086907e-07,
          2.4544545115875915e-07,
          2.4148739515520137e-07,
          2.3864250869010216e-07,
          2.3700121187516343e-07,
          2.3662307800564553e-07,
          2.3753503572730954e-07,
          2.3973046382543337e-07,
          2.431692201136347e-07,
          2.477786280988796e-07,
          2.534554248048428e-07,
          2.600686495525377e-07,
          2.6746342608919784e-07,
          2.7546555918168185e-07,
          2.8388683229814764e-07,
          2.925308567490933e-07,
          3.011992869154122e-07,
          3.096981839067057e-07,
          3.1784428453570966e-07,
          3.254709172812624e-07,
          3.324333049766833e-07,
          3.386130075172817e-07,
          3.439212879450077e-07,
          3.4830123139128235e-07,
          3.5172850652153356e-07,
          3.5421072981313224e-07,
          3.5578546946056444e-07,
          3.5651700236185856e-07,
          3.564920086224783e-07,
          3.5581444771632337e-07,
          3.5459990410208683e-07,
          3.52969714255239e-07,
          3.5104518994910415e-07,
          3.489422342437138e-07,
          3.4676660887689785e-07,
          3.4461005807515894e-07,
          3.4254742894906484e-07,
          3.4063485813077135e-07,
          3.3890902391761394e-07,
          3.3738739837509643e-07,
          3.3606937930333403e-07,
          3.349381411762845e-07,
          3.339630191731922e-07,
          3.3310223174149103e-07,
          3.323057537760579e-07,
          3.3151817219895605e-07,
          3.306813852329495e-07,
          3.297370421587034e-07,
          3.2862865785269155e-07,
          3.2730337219736665e-07,
          3.257133554196776e-07,
          3.238168842977161e-07,
          3.2157912974367514e-07,
          3.189727033361936e-07,
          3.159780097110977e-07,
          3.1258344488407974e-07,
          3.087854696632588e-07,
          3.045885746522113e-07,
          3.000051412392689e-07,
          2.950551934030137e-07,
          2.8976602960353096e-07,
          2.841717232802812e-07,
          2.78312484626073e-07,
          2.722338847398278e-07,
          2.659859547656618e-07,
          2.596221855499551e-07,
          2.531984658058814e-07,
          2.467720068765561e-07,
          2.404003082687389e-07,
          2.341402189542644e-07,
          2.280471443614012e-07,
          2.2217443804405777e-07,
          2.1657300096978794e-07,
          2.1129109159933073e-07,
          2.0637432834054548e-07,
          2.0186584475621628e-07,
          1.9780653936499575e-07,
          1.942353480905519e-07,
          1.9118946006031217e-07,
          1.8870439760172604e-07,
          1.8681388927918763e-07,
          1.8554948025410325e-07,
          1.849398460297553e-07,
          1.850098020857717e-07,
          1.8577903094785437e-07,
          1.8726057762641692e-07,
          1.8945919185928698e-07,
          1.9236961916238563e-07,
          1.959749605913552e-07,
          2.002452319866786e-07,
          2.0513625635178442e-07,
          2.105890173191578e-07,
          2.1652958717652374e-07,
          2.228697197878728e-07,
          2.295081674547426e-07,
          2.363327422425787e-07,
          2.432230979588745e-07,
          2.500541607987636e-07,
          2.5670008727474537e-07,
          2.630385806317466e-07,
          2.689553552271532e-07,
          2.743485063161854e-07,
          2.7913252425842164e-07,
          2.832416908017576e-07,
          2.8663261330002153e-07,
          2.892856915572504e-07,
          2.9120537074865193e-07,
          2.924191098113976e-07,
          2.9297508306339965e-07,
          2.9293872703300645e-07,
          2.923883366869194e-07,
          2.914099969252904e-07,
          2.900921980944866e-07,
          2.885205212039444e-07,
          2.867727843701493e-07,
          2.8491501429033114e-07,
          2.8299854596130494e-07,
          2.8105846437431386e-07,
          2.7911349055860565e-07,
          2.7716729062275345e-07,
          2.75211061479416e-07,
          2.732271324060874e-07,
          2.711932285365403e-07,
          2.690869800795333e-07,
          2.66890236067728e-07,
          2.6459275684213806e-07,
          2.621949145437531e-07,
          2.5970912107405e-07,
          2.571598203508079e-07,
          2.5458201561014197e-07,
          2.5201844071846707e-07,
          2.4951561420408285e-07,
          2.471191239763254e-07,
          2.4486856932676365e-07,
          2.4279262749030875e-07,
          2.409047109836216e-07,
          2.391996391815705e-07,
          2.3765166700442072e-07,
          2.3621410245745375e-07,
          2.348206130893344e-07,
          2.3338818096244263e-07,
          2.3182152883732844e-07,
          2.3001871881885581e-07,
          2.2787752893361576e-07,
          2.2530215071911687e-07,
          2.2220972643904493e-07,
          2.1853625902421586e-07,
          2.1424147882273163e-07,
          2.0931233315470809e-07,
          2.037648694770059e-07,
          1.976444010578257e-07,
          1.910239652341529e-07,
          1.8400119877695813e-07,
          1.766938541208794e-07,
          1.6923425772708567e-07,
          1.617630635752084e-07,
          1.5442267923254335e-07,
          1.4735074006210958e-07,
          1.406739818716877e-07,
          1.3450281809846416e-07,
          1.2892686969525738e-07,
          1.2401162961581864e-07,
          1.1979637417159527e-07,
          1.1629336474283738e-07,
          1.1348831857424079e-07,
          1.1134206887384755e-07,
          1.0979328352634723e-07,
          1.0876206920903238e-07,
          1.0815425405197194e-07,
          1.0786611767009173e-07,
          1.0778932299210962e-07,
          1.0781580054324514e-07,
          1.078423434586625e-07,
          1.0777469106628863e-07,
          1.0753091044177631e-07,
          1.070439281834135e-07,
          1.0626311706078716e-07,
          1.0515490135709914e-07,
          1.0370240685816455e-07,
          1.0190424202408988e-07,
          9.977255109379179e-08,
          9.733052312126622e-08,
          9.460956940131637e-08,
          9.164639285259346e-08,
          8.848016575495663e-08,
          8.515000764899174e-08,
          8.169291580206516e-08,
          7.814225049974428e-08,
          7.452682161663864e-08,
          7.087056697042595e-08,
          6.719276218780546e-08,
          6.350866075466439e-08,
          5.983043487985051e-08,
          5.616827451842242e-08,
          5.253150347182473e-08
         ],
         "yaxis": "y"
        }
       ],
       "layout": {
        "barmode": "overlay",
        "hovermode": "closest",
        "legend": {
         "traceorder": "reversed"
        },
        "plot_bgcolor": "#F5F5F8",
        "template": {
         "data": {
          "bar": [
           {
            "error_x": {
             "color": "#2a3f5f"
            },
            "error_y": {
             "color": "#2a3f5f"
            },
            "marker": {
             "line": {
              "color": "#E5ECF6",
              "width": 0.5
             },
             "pattern": {
              "fillmode": "overlay",
              "size": 10,
              "solidity": 0.2
             }
            },
            "type": "bar"
           }
          ],
          "barpolar": [
           {
            "marker": {
             "line": {
              "color": "#E5ECF6",
              "width": 0.5
             },
             "pattern": {
              "fillmode": "overlay",
              "size": 10,
              "solidity": 0.2
             }
            },
            "type": "barpolar"
           }
          ],
          "carpet": [
           {
            "aaxis": {
             "endlinecolor": "#2a3f5f",
             "gridcolor": "white",
             "linecolor": "white",
             "minorgridcolor": "white",
             "startlinecolor": "#2a3f5f"
            },
            "baxis": {
             "endlinecolor": "#2a3f5f",
             "gridcolor": "white",
             "linecolor": "white",
             "minorgridcolor": "white",
             "startlinecolor": "#2a3f5f"
            },
            "type": "carpet"
           }
          ],
          "choropleth": [
           {
            "colorbar": {
             "outlinewidth": 0,
             "ticks": ""
            },
            "type": "choropleth"
           }
          ],
          "contour": [
           {
            "colorbar": {
             "outlinewidth": 0,
             "ticks": ""
            },
            "colorscale": [
             [
              0,
              "#0d0887"
             ],
             [
              0.1111111111111111,
              "#46039f"
             ],
             [
              0.2222222222222222,
              "#7201a8"
             ],
             [
              0.3333333333333333,
              "#9c179e"
             ],
             [
              0.4444444444444444,
              "#bd3786"
             ],
             [
              0.5555555555555556,
              "#d8576b"
             ],
             [
              0.6666666666666666,
              "#ed7953"
             ],
             [
              0.7777777777777778,
              "#fb9f3a"
             ],
             [
              0.8888888888888888,
              "#fdca26"
             ],
             [
              1,
              "#f0f921"
             ]
            ],
            "type": "contour"
           }
          ],
          "contourcarpet": [
           {
            "colorbar": {
             "outlinewidth": 0,
             "ticks": ""
            },
            "type": "contourcarpet"
           }
          ],
          "heatmap": [
           {
            "colorbar": {
             "outlinewidth": 0,
             "ticks": ""
            },
            "colorscale": [
             [
              0,
              "#0d0887"
             ],
             [
              0.1111111111111111,
              "#46039f"
             ],
             [
              0.2222222222222222,
              "#7201a8"
             ],
             [
              0.3333333333333333,
              "#9c179e"
             ],
             [
              0.4444444444444444,
              "#bd3786"
             ],
             [
              0.5555555555555556,
              "#d8576b"
             ],
             [
              0.6666666666666666,
              "#ed7953"
             ],
             [
              0.7777777777777778,
              "#fb9f3a"
             ],
             [
              0.8888888888888888,
              "#fdca26"
             ],
             [
              1,
              "#f0f921"
             ]
            ],
            "type": "heatmap"
           }
          ],
          "heatmapgl": [
           {
            "colorbar": {
             "outlinewidth": 0,
             "ticks": ""
            },
            "colorscale": [
             [
              0,
              "#0d0887"
             ],
             [
              0.1111111111111111,
              "#46039f"
             ],
             [
              0.2222222222222222,
              "#7201a8"
             ],
             [
              0.3333333333333333,
              "#9c179e"
             ],
             [
              0.4444444444444444,
              "#bd3786"
             ],
             [
              0.5555555555555556,
              "#d8576b"
             ],
             [
              0.6666666666666666,
              "#ed7953"
             ],
             [
              0.7777777777777778,
              "#fb9f3a"
             ],
             [
              0.8888888888888888,
              "#fdca26"
             ],
             [
              1,
              "#f0f921"
             ]
            ],
            "type": "heatmapgl"
           }
          ],
          "histogram": [
           {
            "marker": {
             "pattern": {
              "fillmode": "overlay",
              "size": 10,
              "solidity": 0.2
             }
            },
            "type": "histogram"
           }
          ],
          "histogram2d": [
           {
            "colorbar": {
             "outlinewidth": 0,
             "ticks": ""
            },
            "colorscale": [
             [
              0,
              "#0d0887"
             ],
             [
              0.1111111111111111,
              "#46039f"
             ],
             [
              0.2222222222222222,
              "#7201a8"
             ],
             [
              0.3333333333333333,
              "#9c179e"
             ],
             [
              0.4444444444444444,
              "#bd3786"
             ],
             [
              0.5555555555555556,
              "#d8576b"
             ],
             [
              0.6666666666666666,
              "#ed7953"
             ],
             [
              0.7777777777777778,
              "#fb9f3a"
             ],
             [
              0.8888888888888888,
              "#fdca26"
             ],
             [
              1,
              "#f0f921"
             ]
            ],
            "type": "histogram2d"
           }
          ],
          "histogram2dcontour": [
           {
            "colorbar": {
             "outlinewidth": 0,
             "ticks": ""
            },
            "colorscale": [
             [
              0,
              "#0d0887"
             ],
             [
              0.1111111111111111,
              "#46039f"
             ],
             [
              0.2222222222222222,
              "#7201a8"
             ],
             [
              0.3333333333333333,
              "#9c179e"
             ],
             [
              0.4444444444444444,
              "#bd3786"
             ],
             [
              0.5555555555555556,
              "#d8576b"
             ],
             [
              0.6666666666666666,
              "#ed7953"
             ],
             [
              0.7777777777777778,
              "#fb9f3a"
             ],
             [
              0.8888888888888888,
              "#fdca26"
             ],
             [
              1,
              "#f0f921"
             ]
            ],
            "type": "histogram2dcontour"
           }
          ],
          "mesh3d": [
           {
            "colorbar": {
             "outlinewidth": 0,
             "ticks": ""
            },
            "type": "mesh3d"
           }
          ],
          "parcoords": [
           {
            "line": {
             "colorbar": {
              "outlinewidth": 0,
              "ticks": ""
             }
            },
            "type": "parcoords"
           }
          ],
          "pie": [
           {
            "automargin": true,
            "type": "pie"
           }
          ],
          "scatter": [
           {
            "fillpattern": {
             "fillmode": "overlay",
             "size": 10,
             "solidity": 0.2
            },
            "type": "scatter"
           }
          ],
          "scatter3d": [
           {
            "line": {
             "colorbar": {
              "outlinewidth": 0,
              "ticks": ""
             }
            },
            "marker": {
             "colorbar": {
              "outlinewidth": 0,
              "ticks": ""
             }
            },
            "type": "scatter3d"
           }
          ],
          "scattercarpet": [
           {
            "marker": {
             "colorbar": {
              "outlinewidth": 0,
              "ticks": ""
             }
            },
            "type": "scattercarpet"
           }
          ],
          "scattergeo": [
           {
            "marker": {
             "colorbar": {
              "outlinewidth": 0,
              "ticks": ""
             }
            },
            "type": "scattergeo"
           }
          ],
          "scattergl": [
           {
            "marker": {
             "colorbar": {
              "outlinewidth": 0,
              "ticks": ""
             }
            },
            "type": "scattergl"
           }
          ],
          "scattermapbox": [
           {
            "marker": {
             "colorbar": {
              "outlinewidth": 0,
              "ticks": ""
             }
            },
            "type": "scattermapbox"
           }
          ],
          "scatterpolar": [
           {
            "marker": {
             "colorbar": {
              "outlinewidth": 0,
              "ticks": ""
             }
            },
            "type": "scatterpolar"
           }
          ],
          "scatterpolargl": [
           {
            "marker": {
             "colorbar": {
              "outlinewidth": 0,
              "ticks": ""
             }
            },
            "type": "scatterpolargl"
           }
          ],
          "scatterternary": [
           {
            "marker": {
             "colorbar": {
              "outlinewidth": 0,
              "ticks": ""
             }
            },
            "type": "scatterternary"
           }
          ],
          "surface": [
           {
            "colorbar": {
             "outlinewidth": 0,
             "ticks": ""
            },
            "colorscale": [
             [
              0,
              "#0d0887"
             ],
             [
              0.1111111111111111,
              "#46039f"
             ],
             [
              0.2222222222222222,
              "#7201a8"
             ],
             [
              0.3333333333333333,
              "#9c179e"
             ],
             [
              0.4444444444444444,
              "#bd3786"
             ],
             [
              0.5555555555555556,
              "#d8576b"
             ],
             [
              0.6666666666666666,
              "#ed7953"
             ],
             [
              0.7777777777777778,
              "#fb9f3a"
             ],
             [
              0.8888888888888888,
              "#fdca26"
             ],
             [
              1,
              "#f0f921"
             ]
            ],
            "type": "surface"
           }
          ],
          "table": [
           {
            "cells": {
             "fill": {
              "color": "#EBF0F8"
             },
             "line": {
              "color": "white"
             }
            },
            "header": {
             "fill": {
              "color": "#C8D4E3"
             },
             "line": {
              "color": "white"
             }
            },
            "type": "table"
           }
          ]
         },
         "layout": {
          "annotationdefaults": {
           "arrowcolor": "#2a3f5f",
           "arrowhead": 0,
           "arrowwidth": 1
          },
          "autotypenumbers": "strict",
          "coloraxis": {
           "colorbar": {
            "outlinewidth": 0,
            "ticks": ""
           }
          },
          "colorscale": {
           "diverging": [
            [
             0,
             "#8e0152"
            ],
            [
             0.1,
             "#c51b7d"
            ],
            [
             0.2,
             "#de77ae"
            ],
            [
             0.3,
             "#f1b6da"
            ],
            [
             0.4,
             "#fde0ef"
            ],
            [
             0.5,
             "#f7f7f7"
            ],
            [
             0.6,
             "#e6f5d0"
            ],
            [
             0.7,
             "#b8e186"
            ],
            [
             0.8,
             "#7fbc41"
            ],
            [
             0.9,
             "#4d9221"
            ],
            [
             1,
             "#276419"
            ]
           ],
           "sequential": [
            [
             0,
             "#0d0887"
            ],
            [
             0.1111111111111111,
             "#46039f"
            ],
            [
             0.2222222222222222,
             "#7201a8"
            ],
            [
             0.3333333333333333,
             "#9c179e"
            ],
            [
             0.4444444444444444,
             "#bd3786"
            ],
            [
             0.5555555555555556,
             "#d8576b"
            ],
            [
             0.6666666666666666,
             "#ed7953"
            ],
            [
             0.7777777777777778,
             "#fb9f3a"
            ],
            [
             0.8888888888888888,
             "#fdca26"
            ],
            [
             1,
             "#f0f921"
            ]
           ],
           "sequentialminus": [
            [
             0,
             "#0d0887"
            ],
            [
             0.1111111111111111,
             "#46039f"
            ],
            [
             0.2222222222222222,
             "#7201a8"
            ],
            [
             0.3333333333333333,
             "#9c179e"
            ],
            [
             0.4444444444444444,
             "#bd3786"
            ],
            [
             0.5555555555555556,
             "#d8576b"
            ],
            [
             0.6666666666666666,
             "#ed7953"
            ],
            [
             0.7777777777777778,
             "#fb9f3a"
            ],
            [
             0.8888888888888888,
             "#fdca26"
            ],
            [
             1,
             "#f0f921"
            ]
           ]
          },
          "colorway": [
           "#636efa",
           "#EF553B",
           "#00cc96",
           "#ab63fa",
           "#FFA15A",
           "#19d3f3",
           "#FF6692",
           "#B6E880",
           "#FF97FF",
           "#FECB52"
          ],
          "font": {
           "color": "#2a3f5f"
          },
          "geo": {
           "bgcolor": "white",
           "lakecolor": "white",
           "landcolor": "#E5ECF6",
           "showlakes": true,
           "showland": true,
           "subunitcolor": "white"
          },
          "hoverlabel": {
           "align": "left"
          },
          "hovermode": "closest",
          "mapbox": {
           "style": "light"
          },
          "paper_bgcolor": "white",
          "plot_bgcolor": "#E5ECF6",
          "polar": {
           "angularaxis": {
            "gridcolor": "white",
            "linecolor": "white",
            "ticks": ""
           },
           "bgcolor": "#E5ECF6",
           "radialaxis": {
            "gridcolor": "white",
            "linecolor": "white",
            "ticks": ""
           }
          },
          "scene": {
           "xaxis": {
            "backgroundcolor": "#E5ECF6",
            "gridcolor": "white",
            "gridwidth": 2,
            "linecolor": "white",
            "showbackground": true,
            "ticks": "",
            "zerolinecolor": "white"
           },
           "yaxis": {
            "backgroundcolor": "#E5ECF6",
            "gridcolor": "white",
            "gridwidth": 2,
            "linecolor": "white",
            "showbackground": true,
            "ticks": "",
            "zerolinecolor": "white"
           },
           "zaxis": {
            "backgroundcolor": "#E5ECF6",
            "gridcolor": "white",
            "gridwidth": 2,
            "linecolor": "white",
            "showbackground": true,
            "ticks": "",
            "zerolinecolor": "white"
           }
          },
          "shapedefaults": {
           "line": {
            "color": "#2a3f5f"
           }
          },
          "ternary": {
           "aaxis": {
            "gridcolor": "white",
            "linecolor": "white",
            "ticks": ""
           },
           "baxis": {
            "gridcolor": "white",
            "linecolor": "white",
            "ticks": ""
           },
           "bgcolor": "#E5ECF6",
           "caxis": {
            "gridcolor": "white",
            "linecolor": "white",
            "ticks": ""
           }
          },
          "title": {
           "x": 0.05
          },
          "xaxis": {
           "automargin": true,
           "gridcolor": "white",
           "linecolor": "white",
           "ticks": "",
           "title": {
            "standoff": 15
           },
           "zerolinecolor": "white",
           "zerolinewidth": 2
          },
          "yaxis": {
           "automargin": true,
           "gridcolor": "white",
           "linecolor": "white",
           "ticks": "",
           "title": {
            "standoff": 15
           },
           "zerolinecolor": "white",
           "zerolinewidth": 2
          }
         }
        },
        "title": {
         "text": "Real vs. Synthetic dataset for Salary (CTGAN 1000 epochs)"
        },
        "xaxis": {
         "anchor": "y2",
         "domain": [
          0,
          1
         ],
         "title": {
          "text": "Value"
         },
         "zeroline": false
        },
        "yaxis": {
         "anchor": "free",
         "domain": [
          0,
          1
         ],
         "position": 0,
         "title": {
          "text": "Frequency"
         }
        }
       }
      },
      "text/html": [
       "<div>                            <div id=\"0577be3d-c75c-4083-8e9c-0163305d639a\" class=\"plotly-graph-div\" style=\"height:525px; width:100%;\"></div>            <script type=\"text/javascript\">                require([\"plotly\"], function(Plotly) {                    window.PLOTLYENV=window.PLOTLYENV || {};                                    if (document.getElementById(\"0577be3d-c75c-4083-8e9c-0163305d639a\")) {                    Plotly.newPlot(                        \"0577be3d-c75c-4083-8e9c-0163305d639a\",                        [{\"legendgroup\":\"Real\",\"marker\":{\"color\":\"#000036\"},\"mode\":\"lines\",\"name\":\"Real\",\"showlegend\":true,\"x\":[45046.0,45455.908,45865.816,46275.724,46685.632,47095.54,47505.448,47915.356,48325.264,48735.172,49145.08,49554.988,49964.896,50374.804000000004,50784.712,51194.62,51604.528,52014.436,52424.344,52834.252,53244.16,53654.068,54063.976,54473.884,54883.792,55293.7,55703.608,56113.516,56523.424,56933.332,57343.24,57753.148,58163.056,58572.964,58982.872,59392.78,59802.688,60212.596,60622.504,61032.412,61442.32,61852.228,62262.136,62672.044,63081.952000000005,63491.86,63901.768,64311.676,64721.584,65131.492,65541.4,65951.308,66361.216,66771.124,67181.032,67590.94,68000.848,68410.756,68820.664,69230.572,69640.48,70050.388,70460.296,70870.204,71280.112,71690.02,72099.928,72509.836,72919.744,73329.652,73739.56,74149.468,74559.376,74969.284,75379.192,75789.1,76199.008,76608.916,77018.824,77428.732,77838.64,78248.54800000001,78658.456,79068.364,79478.272,79888.18,80298.088,80707.996,81117.90400000001,81527.812,81937.72,82347.628,82757.536,83167.444,83577.352,83987.26000000001,84397.168,84807.076,85216.984,85626.89199999999,86036.8,86446.708,86856.61600000001,87266.524,87676.432,88086.34,88496.24799999999,88906.156,89316.064,89725.97200000001,90135.88,90545.788,90955.696,91365.60399999999,91775.512,92185.42,92595.32800000001,93005.236,93415.144,93825.052,94234.95999999999,94644.868,95054.776,95464.68400000001,95874.592,96284.5,96694.408,97104.31599999999,97514.224,97924.132,98334.04000000001,98743.948,99153.856,99563.764,99973.67199999999,100383.58,100793.488,101203.39600000001,101613.304,102023.212,102433.12,102843.02799999999,103252.936,103662.844,104072.75200000001,104482.66,104892.568,105302.476,105712.38399999999,106122.292,106532.2,106942.10800000001,107352.016,107761.924,108171.832,108581.73999999999,108991.648,109401.556,109811.464,110221.372,110631.28,111041.188,111451.096,111861.004,112270.912,112680.82,113090.728,113500.636,113910.544,114320.452,114730.36,115140.268,115550.176,115960.084,116369.992,116779.9,117189.808,117599.716,118009.624,118419.532,118829.44,119239.348,119649.256,120059.164,120469.072,120878.98,121288.888,121698.796,122108.704,122518.612,122928.52,123338.428,123748.336,124158.244,124568.152,124978.06,125387.968,125797.876,126207.784,126617.692,127027.6,127437.508,127847.416,128257.324,128667.232,129077.14,129487.048,129896.956,130306.864,130716.772,131126.68,131536.588,131946.49599999998,132356.40399999998,132766.312,133176.22,133586.128,133996.036,134405.94400000002,134815.852,135225.76,135635.668,136045.576,136455.484,136865.392,137275.3,137685.20799999998,138095.11599999998,138505.024,138914.932,139324.84,139734.74800000002,140144.65600000002,140554.564,140964.472,141374.38,141784.288,142194.196,142604.104,143014.012,143423.91999999998,143833.82799999998,144243.736,144653.644,145063.552,145473.46000000002,145883.36800000002,146293.276,146703.184,147113.092,147523.0,147932.908,148342.816,148752.724,149162.63199999998,149572.53999999998,149982.448,150392.356,150802.264,151212.17200000002,151622.08000000002,152031.988,152441.896,152851.804,153261.712,153671.62,154081.528,154491.436,154901.34399999998,155311.25199999998,155721.16,156131.068,156540.976,156950.88400000002,157360.79200000002,157770.7,158180.608,158590.516,159000.424,159410.332,159820.24,160230.148,160640.05599999998,161049.964,161459.872,161869.78,162279.688,162689.59600000002,163099.50400000002,163509.412,163919.32,164329.228,164739.136,165149.044,165558.952,165968.86,166378.76799999998,166788.676,167198.584,167608.492,168018.4,168428.30800000002,168838.21600000001,169248.124,169658.032,170067.94,170477.848,170887.756,171297.664,171707.572,172117.47999999998,172527.388,172937.296,173347.204,173757.112,174167.02000000002,174576.928,174986.836,175396.744,175806.652,176216.56,176626.468,177036.376,177446.284,177856.192,178266.1,178676.008,179085.916,179495.824,179905.732,180315.64,180725.548,181135.456,181545.364,181955.272,182365.18,182775.088,183184.996,183594.904,184004.812,184414.72,184824.628,185234.536,185644.444,186054.352,186464.26,186874.168,187284.076,187693.984,188103.892,188513.8,188923.708,189333.616,189743.524,190153.432,190563.34,190973.248,191383.156,191793.064,192202.972,192612.88,193022.788,193432.696,193842.604,194252.512,194662.42,195072.328,195482.236,195892.144,196302.052,196711.96,197121.868,197531.776,197941.684,198351.592,198761.5,199171.408,199581.316,199991.224,200401.132,200811.04,201220.948,201630.856,202040.764,202450.672,202860.58,203270.488,203680.396,204090.304,204500.212,204910.12,205320.028,205729.936,206139.844,206549.752,206959.66,207369.568,207779.476,208189.384,208599.292,209009.2,209419.108,209829.016,210238.924,210648.832,211058.74,211468.648,211878.556,212288.464,212698.372,213108.28,213518.188,213928.096,214338.004,214747.912,215157.82,215567.728,215977.636,216387.544,216797.452,217207.36,217617.268,218027.176,218437.084,218846.992,219256.9,219666.808,220076.716,220486.624,220896.532,221306.44,221716.348,222126.256,222536.164,222946.072,223355.98,223765.888,224175.796,224585.704,224995.612,225405.52,225815.428,226225.336,226635.244,227045.152,227455.06,227864.968,228274.876,228684.784,229094.692,229504.6,229914.508,230324.416,230734.324,231144.232,231554.14,231964.048,232373.956,232783.864,233193.772,233603.68,234013.588,234423.496,234833.404,235243.312,235653.22,236063.128,236473.036,236882.944,237292.852,237702.76,238112.668,238522.576,238932.484,239342.392,239752.3,240162.208,240572.116,240982.024,241391.932,241801.84,242211.748,242621.656,243031.564,243441.472,243851.38,244261.288,244671.196,245081.104,245491.012,245900.92,246310.828,246720.736,247130.644,247540.552,247950.46,248360.368,248770.276,249180.184,249590.092],\"xaxis\":\"x\",\"y\":[1.2687863989691874e-05,1.3273182543245664e-05,1.386453867899308e-05,1.4460734687554927e-05,1.5060538207491491e-05,1.5662686621192615e-05,1.6265891263456556e-05,1.6868841404495392e-05,1.7470207980888866e-05,1.8068647060641484e-05,1.8662803041601524e-05,1.9251311595675998e-05,1.9832802384103597e-05,2.0405901581110135e-05,2.0969234254161894e-05,2.1521426658366534e-05,2.2061108510000045e-05,2.258691530937029e-05,2.3097490786013625e-05,2.3591489539403113e-05,2.4067579945821162e-05,2.4524447396811213e-05,2.4960797926739563e-05,2.5375362276627097e-05,2.5766900428789612e-05,2.613420663226472e-05,2.64761149228883e-05,2.679150512464845e-05,2.707930930107941e-05,2.7338518607473102e-05,2.7568190477115984e-05,2.7767456058133763e-05,2.7935527802361793e-05,2.8071707094432952e-05,2.8175391798423156e-05,2.8246083591283726e-05,2.8283394947219064e-05,2.8287055635340822e-05,2.825691859447204e-05,2.8192965053901647e-05,2.8095308777128945e-05,2.796419931701722e-05,2.7800024185033592e-05,2.7603309854042448e-05,2.7374721533030778e-05,2.7115061672694255e-05,2.682526718249014e-05,2.6506405362016008e-05,2.615966857184896e-05,2.578636769072212e-05,2.5387924426602818e-05,2.4965862568374043e-05,2.452179828197645e-05,2.4057429569667167e-05,2.3574525023200257e-05,2.3074912011011714e-05,2.256046444577631e-05,2.2033090281941137e-05,2.149471889308236e-05,2.094728847629249e-05,2.0392733625480434e-05,1.983297320771647e-05,1.9269898666887303e-05,1.8705362867291554e-05,1.81411695767894e-05,1.757906367509997e-05,1.702072215822547e-05,1.6467745995136517e-05,1.5921652878149796e-05,1.5383870894181706e-05,1.4855733130559498e-05,1.433847321655153e-05,1.383322179042107e-05,1.3341003871756173e-05,1.2862737110152333e-05,1.2399230874065996e-05,1.1951186137790177e-05,1.1519196119980778e-05,1.1103747623884938e-05,1.0705223027277166e-05,1.0323902868953457e-05,9.959968978316863e-06,9.613508094955516e-06,9.284515926008509e-06,8.972901590393055e-06,8.678492400492004e-06,8.401038933559603e-06,8.140220346799472e-06,7.895649891726046e-06,7.666880584991582e-06,7.453410994310301e-06,7.254691099434907e-06,7.07012818934421e-06,6.899092757909445e-06,6.740924361357522e-06,6.594937401885369e-06,6.4604268028524205e-06,6.33667354213566e-06,6.222950011526597e-06,6.118525171522315e-06,6.022669472553124e-06,5.934659515623138e-06,5.85378242753664e-06,5.779339928346954e-06,5.710652071391871e-06,5.647060639254409e-06,5.5879321821827875e-06,5.5326606888850665e-06,5.480669883137505e-06,5.431415143263556e-06,5.384385045198706e-06,5.339102533499204e-06,5.2951257282240865e-06,5.2520483790638215e-06,5.209499981352234e-06,5.16714557163179e-06,5.124685223201305e-06,5.081853264520561e-06,5.038417245446175e-06,4.994176678001307e-06,4.948961579720771e-06,4.9026308485504795e-06,4.855070498812888e-06,4.806191787879833e-06,4.755929262930554e-06,4.704238756530767e-06,4.65109535876876e-06,4.5964913923525386e-06,4.540434415437711e-06,4.482945275052768e-06,4.424056231853622e-06,4.363809174611582e-06,4.302253940359874e-06,4.2394467535353054e-06,4.175448794796558e-06,4.110324907521906e-06,4.044142447328964e-06,3.976970277357354e-06,3.908877909552435e-06,3.839934789818993e-06,3.7702097227127357e-06,3.6997704293336585e-06,3.6286832303047e-06,3.5570128441829676e-06,3.4848222903753028e-06,3.412172884626719e-06,3.3391243144252853e-06,3.2657347812209996e-06,3.1920611961846207e-06,3.1181594163257797e-06,3.0440845081330718e-06,2.9698910264733593e-06,2.895633297269822e-06,2.8213656934418384e-06,2.74714289470469e-06,2.673020123062144e-06,2.5990533471462806e-06,2.5252994499338426e-06,2.451816355762118e-06,2.3786631139487757e-06,2.3058999376569527e-06,2.2335881979120795e-06,2.1617903738444003e-06,2.0905699612790933e-06,2.0199913427070953e-06,1.950119622430018e-06,1.8810204312734095e-06,1.812759705699001e-06,1.745403446419256e-06,1.6790174617296984e-06,1.61366710073526e-06,1.549416981467566e-06,1.486330718585694e-06,1.4244706549411895e-06,1.3638976007880095e-06,1.3046705838513927e-06,1.2468466128568308e-06,1.1904804564843145e-06,1.1356244390741935e-06,1.0823282537901918e-06,1.0306387933608152e-06,9.80599997989163e-07,9.322527195580007e-07,8.856346008727122e-07,8.40779968389178e-07,7.977197366718956e-07,7.564813227231275e-07,7.170885683159151e-07,6.795616685495235e-07,6.439171050194533e-07,6.101675822468449e-07,5.783219663336457e-07,5.483852251872562e-07,5.203583700778151e-07,4.942383987370259e-07,4.7001824066367074e-07,4.476867057512139e-07,4.272284377806442e-07,4.086238747114802e-07,3.918492180404601e-07,3.768764137677707e-07,3.6367314770267996e-07,3.522028579447815e-07,3.4242476738639086e-07,3.342939389913997e-07,3.2776135641449855e-07,3.227740322332999e-07,3.1927514567899723e-07,3.172042112760062e-07,3.1649727924798323e-07,3.170871679295871e-07,3.189037277558547e-07,3.218741357016156e-07,3.2592321833111473e-07,3.3097380091326465e-07,3.3694707938149205e-07,3.4376301128978497e-07,3.513407213582792e-07,3.5959891673127436e-07,3.684563067045365e-07,3.7783202143130586e-07,3.876460239983754e-07,3.978195102823825e-07,4.08275291155372e-07,4.189381519069374e-07,4.297351841827567e-07,4.4059608629668875e-07,4.5145342844246913e-07,4.622428800942357e-07,4.729033977222288e-07,4.833773718380992e-07,4.93610733298182e-07,5.035530197068467e-07,5.131574036489987e-07,5.223806853151276e-07,5.311832528394398e-07,5.395290143291928e-07,5.47385306102168e-07,5.547227820534568e-07,5.615152893309741e-07,5.677397356042644e-07,5.733759531611225e-07,5.784065648638155e-07,5.828168566486634e-07,5.865946607711378e-07,5.897302533992333e-07,5.922162694599024e-07,5.94047636868748e-07,5.952215314460066e-07,5.957373529673046e-07,5.955967219413158e-07,5.948034958734557e-07,5.933638029890062e-07,5.912860906725491e-07,5.885811852526845e-07,5.85262359238011e-07,5.81345401705086e-07,5.768486872606123e-07,5.717932388536162e-07,5.662027797002278e-07,5.601037697014149e-07,5.535254219767554e-07,5.464996954959896e-07,5.390612602528e-07,5.312474319779648e-07,5.230980740158203e-07,5.146554646716923e-07,5.059641290608268e-07,4.970706352333162e-07,4.880233550967636e-07,4.78872191391939e-07,4.6966827268047215e-07,4.6046361896311604e-07,4.513107811494703e-07,4.422624581342383e-07,4.333710956921536e-07,4.2468847177687563e-07,4.162652730935883e-07,4.0815066800830966e-07,4.0039188095850544e-07,3.9303377354095764e-07,3.861184373773877e-07,3.796848037010186e-07,3.7376827437467865e-07,3.684003787509165e-07,3.636084604257724e-07,3.59415397529988e-07,3.558393597545642e-07,3.5289360483218804e-07,3.505863167023729e-07,3.4892048708632054e-07,3.478938416968683e-07,3.4749881181812957e-07,3.4772255151611373e-07,3.4854700029205236e-07,3.4994899056932904e-07,3.519003990162806e-07,3.543683403526376e-07,3.5731540196747147e-07,3.606999173902023e-07,3.6447627640125214e-07,3.6859526934194757e-07,3.7300446298011067e-07,3.776486051037286e-07,3.8247005484522834e-07,3.87409235578476e-07,3.9240510707535384e-07,3.9739565345520366e-07,4.023183833062139e-07,4.07110838202007e-07,4.117111056798373e-07,4.1605833259116274e-07,4.2009323458487903e-07,4.237585973437352e-07,4.269997650723864e-07,4.297651116394551e-07,4.3200648971490273e-07,4.33679653227617e-07,4.347446485059027e-07,4.351661695647722e-07,4.3491387317663627e-07,4.339626496129799e-07,4.3229284527865924e-07,4.298904338800608e-07,4.267471332734422e-07,4.2286046572731136e-07,4.18233759996816e-07,4.1287609433989314e-07,4.068021803926672e-07,4.000321886510276e-07,3.925915171599032e-07,3.845105058732855e-07,3.758240999970014e-07,3.6657146644264455e-07,3.5679556828480565e-07,3.465427028056244e-07,3.358620093127809e-07,3.248049534133632e-07,3.1342479480330454e-07,3.0177604587975435e-07,2.899139285949512e-07,2.778938369412782e-07,2.657708122886439e-07,2.5359903849108477e-07,2.414313632470344e-07,2.29318851648051e-07,2.1731037719761183e-07,2.0545225484137305e-07,1.9378791974108677e-07,1.8235765466598523e-07,1.7119836798816592e-07,1.6034342337280357e-07,1.4982252136996712e-07,1.396616322612668e-07,1.2988297870903008e-07,1.2050506601336804e-07,1.1154275711654559e-07,1.0300738891472575e-07,9.490692595209535e-08,8.724614718624051e-08,8.002686122834976e-08,7.324814527662346e-08,6.69066028727386e-08,6.099663561397812e-08,5.551072404016588e-08,5.0439713076003265e-08,4.57730976356658e-08,4.149930427686162e-08,3.760596511490917e-08,3.408018056267436e-08,3.0908767838903586e-08,2.807849257565537e-08,2.557628124632873e-08,2.338941252147338e-08,2.1505686033800198e-08,1.9913567391642726e-08,1.8602308618004197e-08,1.756204350818993e-08,1.6783857692040626e-08,1.6259833457350934e-08,1.5983069640547623e-08,1.594767712130467e-08,1.6148750672231788e-08,1.658231811615369e-08,1.724526793495571e-08,1.813525665848438e-08,1.9250597542152853e-08,2.0590132219711453e-08,2.2153087194333407e-08,2.3938917207062055e-08,2.594713769610283e-08,2.8177148731708084e-08,3.062805297674211e-08,3.329847037867267e-08,3.618635244008939e-08,3.928879903650271e-08,4.2601880846192976e-08,4.6120470520988105e-08,4.983808575270663e-08,5.3746747371469244e-08,5.78368555434929e-08,6.209708701249525e-08,6.651431614662658e-08,7.107356230943778e-08,7.575796576785961e-08,8.054879398332447e-08,8.542547970668432e-08,9.036569181809395e-08,9.534543932615695e-08,1.0033920837483906e-07,1.053201315122109e-07,1.1026018786382535e-07,1.1513043223859287e-07,1.1990125059047693e-07,1.245426386799072e-07,1.2902450023931989e-07,1.3331696046231258e-07,1.373906902193269e-07,1.4121723606722008e-07,1.4476935087654963e-07,1.4802131975782015e-07,1.50949275932921e-07,1.5353150127439385e-07,1.5574870642405664e-07,1.5758428570186213e-07,1.5902454242070622e-07,1.600588807252554e-07,1.6067996066199756e-07,1.608838138503805e-07,1.6066991784566262e-07,1.6004122804579164e-07,1.590041667788176e-07,1.5756856999488848e-07,1.5574759275845236e-07,1.5355757547299304e-07,1.5101787345451097e-07,1.481506530846099e-07,1.449806583049869e-07,1.4153495165034593e-07,1.378426343469533e-07,1.3393455022300294e-07,1.2984297828155236e-07,1.2560131877720996e-07,1.2124377751737152e-07,1.1680505288404614e-07,1.1232002975245348e-07,1.0782348407940388e-07,1.0334980146192106e-07,9.893271244020076e-08,9.460504675563231e-08,9.03985081916774e-08,8.634347104048232e-08,8.24687986683772e-08,7.880168411517497e-08,7.53675121703371e-08,7.218974193671318e-08,6.928980853067003e-08,6.668704228450233e-08,6.439860361891334e-08,6.243943164312914e-08,6.082220451808189e-08,5.9557309681482334e-08,5.865282217719653e-08,5.811448954738463e-08,5.7945722024302387e-08,5.814758708758189e-08,5.871880781868876e-08,5.965576487250178e-08,6.095250228126716e-08,6.26007376930433e-08,6.458987800991102e-08,6.690704171615914e-08,6.953708945997478e-08,7.246266466211364e-08,7.566424606173364e-08,7.912021416548077e-08,8.280693353597793e-08,8.669885273772314e-08,9.076862355255132e-08,9.498724078651674e-08,9.932420362146947e-08,1.0374769902641458e-07,1.0822480724713308e-07,1.1272172885081962e-07,1.1720403223065772e-07,1.2163691988973475e-07,1.2598551124167052e-07,1.3021513910445513e-07,1.342916565416065e-07,1.3818175023757605e-07,1.418532561978365e-07,1.4527547325196899e-07,1.484194696219441e-07,1.5125837770662449e-07,1.537676722335264e-07,1.5592542704307208e-07,1.5771254599884997e-07,1.591129638563534e-07,1.6011381336576038e-07,1.6070555542196387e-07],\"yaxis\":\"y\",\"type\":\"scatter\",\"fill\":\"tozeroy\",\"hovertemplate\":\"<b>Real</b><br>Value: %{x}<br>Frequency: %{y}<extra></extra>\"},{\"legendgroup\":\"Synthetic\",\"marker\":{\"color\":\"#01E0C9\"},\"mode\":\"lines\",\"name\":\"Synthetic\",\"showlegend\":true,\"x\":[0.0,601.354,1202.708,1804.062,2405.416,3006.77,3608.124,4209.478,4810.832,5412.186,6013.54,6614.894,7216.248,7817.602,8418.956,9020.31,9621.664,10223.018,10824.372,11425.726,12027.08,12628.434,13229.788,13831.142,14432.496,15033.85,15635.204,16236.558,16837.912,17439.266,18040.62,18641.974,19243.328,19844.682,20446.036,21047.39,21648.744,22250.098,22851.452,23452.806,24054.16,24655.514,25256.868,25858.222,26459.576,27060.93,27662.284,28263.638,28864.992,29466.346,30067.7,30669.054,31270.408,31871.762,32473.116,33074.47,33675.824,34277.178,34878.532,35479.886,36081.24,36682.594,37283.948,37885.302,38486.656,39088.01,39689.364,40290.718,40892.072,41493.426,42094.78,42696.134,43297.488,43898.842,44500.196,45101.55,45702.904,46304.258,46905.612,47506.966,48108.32,48709.674,49311.028,49912.382,50513.736,51115.09,51716.444,52317.798,52919.152,53520.506,54121.86,54723.214,55324.568,55925.922,56527.276,57128.63,57729.984,58331.338,58932.692,59534.046,60135.4,60736.754,61338.108,61939.462,62540.816,63142.17,63743.524,64344.878,64946.232,65547.586,66148.94,66750.294,67351.648,67953.002,68554.356,69155.71,69757.064,70358.418,70959.772,71561.126,72162.48,72763.834,73365.188,73966.542,74567.896,75169.25,75770.604,76371.958,76973.312,77574.666,78176.02,78777.374,79378.728,79980.082,80581.436,81182.79,81784.144,82385.498,82986.852,83588.206,84189.56,84790.914,85392.268,85993.622,86594.976,87196.33,87797.684,88399.038,89000.392,89601.746,90203.1,90804.454,91405.808,92007.162,92608.516,93209.87,93811.224,94412.578,95013.932,95615.286,96216.64,96817.994,97419.348,98020.702,98622.056,99223.41,99824.764,100426.118,101027.472,101628.826,102230.18,102831.534,103432.888,104034.242,104635.596,105236.95,105838.304,106439.658,107041.012,107642.366,108243.72,108845.074,109446.428,110047.782,110649.136,111250.49,111851.844,112453.198,113054.552,113655.906,114257.26,114858.614,115459.968,116061.322,116662.676,117264.03,117865.384,118466.738,119068.092,119669.446,120270.8,120872.154,121473.508,122074.862,122676.216,123277.57,123878.924,124480.278,125081.632,125682.986,126284.34,126885.694,127487.048,128088.402,128689.756,129291.11,129892.464,130493.818,131095.172,131696.526,132297.88,132899.234,133500.588,134101.942,134703.296,135304.65,135906.004,136507.358,137108.712,137710.066,138311.42,138912.774,139514.128,140115.482,140716.836,141318.19,141919.544,142520.898,143122.252,143723.606,144324.96,144926.314,145527.668,146129.022,146730.376,147331.73,147933.084,148534.438,149135.792,149737.146,150338.5,150939.854,151541.208,152142.562,152743.916,153345.27,153946.624,154547.978,155149.332,155750.686,156352.04,156953.394,157554.748,158156.102,158757.456,159358.81,159960.164,160561.518,161162.872,161764.226,162365.58,162966.934,163568.288,164169.642,164770.996,165372.35,165973.704,166575.058,167176.412,167777.766,168379.12,168980.474,169581.828,170183.182,170784.536,171385.89,171987.244,172588.598,173189.952,173791.306,174392.66,174994.014,175595.368,176196.722,176798.076,177399.43,178000.784,178602.138,179203.492,179804.846,180406.2,181007.554,181608.908,182210.262,182811.616,183412.97,184014.324,184615.678,185217.032,185818.386,186419.74,187021.094,187622.448,188223.802,188825.156,189426.51,190027.864,190629.218,191230.572,191831.926,192433.28,193034.634,193635.988,194237.342,194838.696,195440.05,196041.404,196642.758,197244.112,197845.466,198446.82,199048.174,199649.528,200250.882,200852.236,201453.59,202054.944,202656.298,203257.652,203859.006,204460.36,205061.714,205663.068,206264.422,206865.776,207467.13,208068.484,208669.838,209271.192,209872.546,210473.9,211075.254,211676.608,212277.962,212879.316,213480.67,214082.024,214683.378,215284.732,215886.086,216487.44,217088.794,217690.148,218291.502,218892.856,219494.21,220095.564,220696.918,221298.272,221899.626,222500.98,223102.334,223703.688,224305.042,224906.396,225507.75,226109.104,226710.458,227311.812,227913.166,228514.52,229115.874,229717.228,230318.582,230919.936,231521.29,232122.644,232723.998,233325.352,233926.706,234528.06,235129.414,235730.768,236332.122,236933.476,237534.83,238136.184,238737.538,239338.892,239940.246,240541.6,241142.954,241744.308,242345.662,242947.016,243548.37,244149.724,244751.078,245352.432,245953.786,246555.14,247156.494,247757.848,248359.202,248960.556,249561.91,250163.264,250764.618,251365.972,251967.326,252568.68,253170.034,253771.388,254372.742,254974.096,255575.45,256176.804,256778.158,257379.512,257980.866,258582.22,259183.574,259784.928,260386.282,260987.636,261588.99,262190.344,262791.698,263393.052,263994.406,264595.76,265197.114,265798.468,266399.822,267001.176,267602.53,268203.884,268805.238,269406.592,270007.946,270609.3,271210.654,271812.008,272413.362,273014.716,273616.07,274217.424,274818.778,275420.132,276021.486,276622.84,277224.194,277825.548,278426.902,279028.256,279629.61,280230.964,280832.318,281433.672,282035.026,282636.38,283237.734,283839.088,284440.442,285041.796,285643.15,286244.504,286845.858,287447.212,288048.566,288649.92,289251.274,289852.628,290453.982,291055.336,291656.69,292258.044,292859.398,293460.752,294062.106,294663.46,295264.814,295866.168,296467.522,297068.876,297670.23,298271.584,298872.938,299474.292,300075.646],\"xaxis\":\"x\",\"y\":[2.648209934503999e-08,2.6350559072955752e-08,2.5959842691628055e-08,2.5321480896216524e-08,2.4454062058125325e-08,2.3382333830409414e-08,2.213603196707015e-08,2.0748513886070234e-08,1.925528477050531e-08,1.7692507117806874e-08,1.6095580707938774e-08,1.4497869736712176e-08,1.2929638674594489e-08,1.141723997381086e-08,9.982576947053658e-09,8.642845843620346e-09,7.410544005830025e-09,6.293717297764716e-09,5.296410613277554e-09,4.419280569684405e-09,3.6603294058952804e-09,3.0157231749238123e-09,2.4806648120003123e-09,2.0503026578940475e-09,1.720666542898454e-09,1.489635636124949e-09,1.3579540768356944e-09,1.3303212032713953e-09,1.416592401647088e-09,1.6331337756120252e-09,2.0043786638271623e-09,2.5646362782352717e-09,3.3602022274238054e-09,4.451817300592241e-09,5.917514527807681e-09,7.855885157079152e-09,1.0389781820505988e-08,1.3670461917521541e-08,1.7882156364271768e-08,2.3247028731286234e-08,3.003046795537904e-08,3.854663494034836e-08,4.9164160222942044e-08,6.231186727261986e-08,7.848437465842352e-08,9.824741085419227e-08,1.2224265824825315e-07,1.511919281018816e-07,1.8590045564449003e-07,2.2725909392444552e-07,2.7624517617496373e-07,3.33921809258549e-07,4.0143535568465055e-07,4.800108600101796e-07,5.709451794130054e-07,6.755975912944367e-07,7.953776774054771e-07,9.317303294461833e-07,1.0861177907762424e-06,1.2599987475515394e-06,1.454804613310977e-06,1.6719133139777451e-06,1.91262107167934e-06,2.178112897234533e-06,2.4694327189482296e-06,2.7874542808969793e-06,3.1328541146021645e-06,3.5060879990567592e-06,3.9073723508975686e-06,4.336671907713931e-06,4.793694868107011e-06,5.27789632673209e-06,5.788490397744935e-06,6.324470875892173e-06,6.884639674578872e-06,7.467641650331639e-06,8.072003827775468e-06,8.696176537431127e-06,9.338573627634538e-06,9.997608761125272e-06,1.0671724891723646e-05,1.1359414353040142e-05,1.2059227572394825e-05,1.2769769217709849e-05,1.3489681538484391e-05,1.4217615700012162e-05,1.4952192945479648e-05,1.5691958360970246e-05,1.6435330775051786e-05,1.718055282186893e-05,1.7925645379927453e-05,1.8668370440839575e-05,1.9406205966852826e-05,2.0136335497974266e-05,2.0855654232343345e-05,2.1560792113266042e-05,2.224815321356033e-05,2.2913969517987234e-05,2.3554366167742996e-05,2.4165434432831146e-05,2.4743308181793585e-05,2.5284239459174095e-05,2.5784668964461617e-05,2.624128772774766e-05,2.6651087046428655e-05,2.7011394713050686e-05,2.7319896642843128e-05,2.7574644111579236e-05,2.777404785398481e-05,2.7916861173631817e-05,2.8002154915983e-05,2.8029287614635777e-05,2.7997874314776228e-05,2.790775750537308e-05,2.7758983268887912e-05,2.7551785215846558e-05,2.7286578055053944e-05,2.6963961810460095e-05,2.6584736789558524e-05,2.6149928494324865e-05,2.5660820801687226e-05,2.5118994980367227e-05,2.4526371502702816e-05,2.388525119355584e-05,2.3198352062888225e-05,2.2468838210704475e-05,2.170033747509065e-05,2.089694500286614e-05,2.0063210629172094e-05,1.9204108813993787e-05,1.8324990845014675e-05,1.7431520014023642e-05,1.6529591441749438e-05,1.562523909894719e-05,1.4724533292936309e-05,1.383347241404876e-05,1.2957873037085426e-05,1.210326253829586e-05,1.1274778225949724e-05,1.0477076615764216e-05,9.71425594759686e-06,8.98979438160163e-06,8.306505578754678e-06,7.666512609508615e-06,7.071240387691331e-06,6.521426129398893e-06,6.017146714439031e-06,5.55786129778409e-06,5.142467089512338e-06,4.769365896657946e-06,4.436538797860723e-06,4.141626197979195e-06,3.882010480249621e-06,3.6548985333853475e-06,3.457401575441713e-06,3.2866099201279126e-06,3.1396606280760395e-06,3.0137963467623673e-06,2.9064140567666842e-06,2.8151028939789094e-06,2.7376706891400725e-06,2.6721593371458525e-06,2.616849556920665e-06,2.5702560067012184e-06,2.5311140595259453e-06,2.4983598035321536e-06,2.471105000290704e-06,2.448608806839709e-06,2.430248044679738e-06,2.415487689262975e-06,2.4038530692427883e-06,2.3949050227083596e-06,2.3882189768910834e-06,2.383368618017476e-06,2.3799145175877904e-06,2.37739779633639e-06,2.375338649933846e-06,2.3732393396213724e-06,2.3705910710442385e-06,2.3668840468354456e-06,2.3616198817703633e-06,2.3543255108729022e-06,2.3445676975347857e-06,2.331967257662248e-06,2.3162121550251714e-06,2.297068691147438e-06,2.2743901095882955e-06,2.2481220586021137e-06,2.218304506369773e-06,2.185069876099826e-06,2.1486373589427026e-06,2.1093035630368084e-06,2.0674298570092107e-06,2.0234269540963844e-06,1.977737446225143e-06,1.9308171239150126e-06,1.8831159975852474e-06,1.8350599616745156e-06,1.7870340117904035e-06,1.7393678382560968e-06,1.6923244827469227e-06,1.6460925680138623e-06,1.6007824068001106e-06,1.556426079564348e-06,1.512981356486478e-06,1.4703391414015854e-06,1.4283339455620982e-06,1.3867567662198964e-06,1.3453696542276514e-06,1.3039212079440255e-06,1.26216222626273e-06,1.2198607875552838e-06,1.1768160878886093e-06,1.1328704642031352e-06,1.0879191390915694e-06,1.0419173465800886e-06,9.948846267407417e-07,9.469062057637046e-07,8.981315028335784e-07,8.487699220296376e-07,7.990841932549472e-07,7.493816179718741e-07,7.0000365057715e-07,6.513143021005812e-07,6.036878873981138e-07,5.574966485099883e-07,5.130987745478508e-07,4.708273026082677e-07,4.3098032630551576e-07,3.938128614640368e-07,3.595306265170687e-07,3.282858935281522e-07,3.0017546052684245e-07,2.752406933240245e-07,2.53469491160532e-07,2.3479995065665582e-07,2.191254405330851e-07,2.0630075787809847e-07,1.9614901607514693e-07,1.8846891400108327e-07,1.8304205351010858e-07,1.7964000429431965e-07,1.7803085818693888e-07,1.7798506500639903e-07,1.7928039561553152e-07,1.8170593208971862e-07,1.8506503759430155e-07,1.8917730832488098e-07,1.9387955577860082e-07,1.9902590911543885e-07,2.0448716387188053e-07,2.101495340196363e-07,2.1591298816804196e-07,2.2168936606764791e-07,2.274004767357301e-07,2.3297637280028605e-07,2.3835397578661767e-07,2.4347619362100196e-07,2.482916253543165e-07,2.5275489118320607e-07,2.568275618970555e-07,2.6047959583043457e-07,2.6369112909164565e-07,2.66454412459284e-07,2.687756517530096e-07,2.7067649251450244e-07,2.721948976132088e-07,2.733851988687935e-07,2.7431715945883833e-07,2.7507395881743613e-07,2.757490998454557e-07,2.764423318767826e-07,2.772547734764839e-07,2.7828349832624105e-07,2.796159076411738e-07,2.813242479342895e-07,2.834606399921083e-07,2.8605296280855377e-07,2.891018868331223e-07,2.92579278604978e-07,2.9642811004339e-07,3.005639080231549e-07,3.0487768155057705e-07,3.0924017271023434e-07,3.135072003391526e-07,3.1752580720629884e-07,3.211408854047466e-07,3.242019416200176e-07,3.2656967280141484e-07,3.2812205070031914e-07,3.2875965667847314e-07,3.284100613749881e-07,3.270311023733661e-07,3.246129724191727e-07,3.2117908724014834e-07,3.167857528198797e-07,3.115206953203938e-07,3.0550055195558754e-07,2.9886744799923707e-07,2.917848043446637e-07,2.8443253251389117e-07,2.7700178074671614e-07,2.6968939674492075e-07,2.626922706392227e-07,2.562017164800356e-07,2.503980426086907e-07,2.4544545115875915e-07,2.4148739515520137e-07,2.3864250869010216e-07,2.3700121187516343e-07,2.3662307800564553e-07,2.3753503572730954e-07,2.3973046382543337e-07,2.431692201136347e-07,2.477786280988796e-07,2.534554248048428e-07,2.600686495525377e-07,2.6746342608919784e-07,2.7546555918168185e-07,2.8388683229814764e-07,2.925308567490933e-07,3.011992869154122e-07,3.096981839067057e-07,3.1784428453570966e-07,3.254709172812624e-07,3.324333049766833e-07,3.386130075172817e-07,3.439212879450077e-07,3.4830123139128235e-07,3.5172850652153356e-07,3.5421072981313224e-07,3.5578546946056444e-07,3.5651700236185856e-07,3.564920086224783e-07,3.5581444771632337e-07,3.5459990410208683e-07,3.52969714255239e-07,3.5104518994910415e-07,3.489422342437138e-07,3.4676660887689785e-07,3.4461005807515894e-07,3.4254742894906484e-07,3.4063485813077135e-07,3.3890902391761394e-07,3.3738739837509643e-07,3.3606937930333403e-07,3.349381411762845e-07,3.339630191731922e-07,3.3310223174149103e-07,3.323057537760579e-07,3.3151817219895605e-07,3.306813852329495e-07,3.297370421587034e-07,3.2862865785269155e-07,3.2730337219736665e-07,3.257133554196776e-07,3.238168842977161e-07,3.2157912974367514e-07,3.189727033361936e-07,3.159780097110977e-07,3.1258344488407974e-07,3.087854696632588e-07,3.045885746522113e-07,3.000051412392689e-07,2.950551934030137e-07,2.8976602960353096e-07,2.841717232802812e-07,2.78312484626073e-07,2.722338847398278e-07,2.659859547656618e-07,2.596221855499551e-07,2.531984658058814e-07,2.467720068765561e-07,2.404003082687389e-07,2.341402189542644e-07,2.280471443614012e-07,2.2217443804405777e-07,2.1657300096978794e-07,2.1129109159933073e-07,2.0637432834054548e-07,2.0186584475621628e-07,1.9780653936499575e-07,1.942353480905519e-07,1.9118946006031217e-07,1.8870439760172604e-07,1.8681388927918763e-07,1.8554948025410325e-07,1.849398460297553e-07,1.850098020857717e-07,1.8577903094785437e-07,1.8726057762641692e-07,1.8945919185928698e-07,1.9236961916238563e-07,1.959749605913552e-07,2.002452319866786e-07,2.0513625635178442e-07,2.105890173191578e-07,2.1652958717652374e-07,2.228697197878728e-07,2.295081674547426e-07,2.363327422425787e-07,2.432230979588745e-07,2.500541607987636e-07,2.5670008727474537e-07,2.630385806317466e-07,2.689553552271532e-07,2.743485063161854e-07,2.7913252425842164e-07,2.832416908017576e-07,2.8663261330002153e-07,2.892856915572504e-07,2.9120537074865193e-07,2.924191098113976e-07,2.9297508306339965e-07,2.9293872703300645e-07,2.923883366869194e-07,2.914099969252904e-07,2.900921980944866e-07,2.885205212039444e-07,2.867727843701493e-07,2.8491501429033114e-07,2.8299854596130494e-07,2.8105846437431386e-07,2.7911349055860565e-07,2.7716729062275345e-07,2.75211061479416e-07,2.732271324060874e-07,2.711932285365403e-07,2.690869800795333e-07,2.66890236067728e-07,2.6459275684213806e-07,2.621949145437531e-07,2.5970912107405e-07,2.571598203508079e-07,2.5458201561014197e-07,2.5201844071846707e-07,2.4951561420408285e-07,2.471191239763254e-07,2.4486856932676365e-07,2.4279262749030875e-07,2.409047109836216e-07,2.391996391815705e-07,2.3765166700442072e-07,2.3621410245745375e-07,2.348206130893344e-07,2.3338818096244263e-07,2.3182152883732844e-07,2.3001871881885581e-07,2.2787752893361576e-07,2.2530215071911687e-07,2.2220972643904493e-07,2.1853625902421586e-07,2.1424147882273163e-07,2.0931233315470809e-07,2.037648694770059e-07,1.976444010578257e-07,1.910239652341529e-07,1.8400119877695813e-07,1.766938541208794e-07,1.6923425772708567e-07,1.617630635752084e-07,1.5442267923254335e-07,1.4735074006210958e-07,1.406739818716877e-07,1.3450281809846416e-07,1.2892686969525738e-07,1.2401162961581864e-07,1.1979637417159527e-07,1.1629336474283738e-07,1.1348831857424079e-07,1.1134206887384755e-07,1.0979328352634723e-07,1.0876206920903238e-07,1.0815425405197194e-07,1.0786611767009173e-07,1.0778932299210962e-07,1.0781580054324514e-07,1.078423434586625e-07,1.0777469106628863e-07,1.0753091044177631e-07,1.070439281834135e-07,1.0626311706078716e-07,1.0515490135709914e-07,1.0370240685816455e-07,1.0190424202408988e-07,9.977255109379179e-08,9.733052312126622e-08,9.460956940131637e-08,9.164639285259346e-08,8.848016575495663e-08,8.515000764899174e-08,8.169291580206516e-08,7.814225049974428e-08,7.452682161663864e-08,7.087056697042595e-08,6.719276218780546e-08,6.350866075466439e-08,5.983043487985051e-08,5.616827451842242e-08,5.253150347182473e-08],\"yaxis\":\"y\",\"type\":\"scatter\",\"fill\":\"tozeroy\",\"hovertemplate\":\"<b>Synthetic</b><br>Value: %{x}<br>Frequency: %{y}<extra></extra>\"}],                        {\"barmode\":\"overlay\",\"hovermode\":\"closest\",\"legend\":{\"traceorder\":\"reversed\"},\"xaxis\":{\"anchor\":\"y2\",\"domain\":[0.0,1.0],\"zeroline\":false,\"title\":{\"text\":\"Value\"}},\"yaxis\":{\"anchor\":\"free\",\"domain\":[0.0,1],\"position\":0.0,\"title\":{\"text\":\"Frequency\"}},\"template\":{\"data\":{\"histogram2dcontour\":[{\"type\":\"histogram2dcontour\",\"colorbar\":{\"outlinewidth\":0,\"ticks\":\"\"},\"colorscale\":[[0.0,\"#0d0887\"],[0.1111111111111111,\"#46039f\"],[0.2222222222222222,\"#7201a8\"],[0.3333333333333333,\"#9c179e\"],[0.4444444444444444,\"#bd3786\"],[0.5555555555555556,\"#d8576b\"],[0.6666666666666666,\"#ed7953\"],[0.7777777777777778,\"#fb9f3a\"],[0.8888888888888888,\"#fdca26\"],[1.0,\"#f0f921\"]]}],\"choropleth\":[{\"type\":\"choropleth\",\"colorbar\":{\"outlinewidth\":0,\"ticks\":\"\"}}],\"histogram2d\":[{\"type\":\"histogram2d\",\"colorbar\":{\"outlinewidth\":0,\"ticks\":\"\"},\"colorscale\":[[0.0,\"#0d0887\"],[0.1111111111111111,\"#46039f\"],[0.2222222222222222,\"#7201a8\"],[0.3333333333333333,\"#9c179e\"],[0.4444444444444444,\"#bd3786\"],[0.5555555555555556,\"#d8576b\"],[0.6666666666666666,\"#ed7953\"],[0.7777777777777778,\"#fb9f3a\"],[0.8888888888888888,\"#fdca26\"],[1.0,\"#f0f921\"]]}],\"heatmap\":[{\"type\":\"heatmap\",\"colorbar\":{\"outlinewidth\":0,\"ticks\":\"\"},\"colorscale\":[[0.0,\"#0d0887\"],[0.1111111111111111,\"#46039f\"],[0.2222222222222222,\"#7201a8\"],[0.3333333333333333,\"#9c179e\"],[0.4444444444444444,\"#bd3786\"],[0.5555555555555556,\"#d8576b\"],[0.6666666666666666,\"#ed7953\"],[0.7777777777777778,\"#fb9f3a\"],[0.8888888888888888,\"#fdca26\"],[1.0,\"#f0f921\"]]}],\"heatmapgl\":[{\"type\":\"heatmapgl\",\"colorbar\":{\"outlinewidth\":0,\"ticks\":\"\"},\"colorscale\":[[0.0,\"#0d0887\"],[0.1111111111111111,\"#46039f\"],[0.2222222222222222,\"#7201a8\"],[0.3333333333333333,\"#9c179e\"],[0.4444444444444444,\"#bd3786\"],[0.5555555555555556,\"#d8576b\"],[0.6666666666666666,\"#ed7953\"],[0.7777777777777778,\"#fb9f3a\"],[0.8888888888888888,\"#fdca26\"],[1.0,\"#f0f921\"]]}],\"contourcarpet\":[{\"type\":\"contourcarpet\",\"colorbar\":{\"outlinewidth\":0,\"ticks\":\"\"}}],\"contour\":[{\"type\":\"contour\",\"colorbar\":{\"outlinewidth\":0,\"ticks\":\"\"},\"colorscale\":[[0.0,\"#0d0887\"],[0.1111111111111111,\"#46039f\"],[0.2222222222222222,\"#7201a8\"],[0.3333333333333333,\"#9c179e\"],[0.4444444444444444,\"#bd3786\"],[0.5555555555555556,\"#d8576b\"],[0.6666666666666666,\"#ed7953\"],[0.7777777777777778,\"#fb9f3a\"],[0.8888888888888888,\"#fdca26\"],[1.0,\"#f0f921\"]]}],\"surface\":[{\"type\":\"surface\",\"colorbar\":{\"outlinewidth\":0,\"ticks\":\"\"},\"colorscale\":[[0.0,\"#0d0887\"],[0.1111111111111111,\"#46039f\"],[0.2222222222222222,\"#7201a8\"],[0.3333333333333333,\"#9c179e\"],[0.4444444444444444,\"#bd3786\"],[0.5555555555555556,\"#d8576b\"],[0.6666666666666666,\"#ed7953\"],[0.7777777777777778,\"#fb9f3a\"],[0.8888888888888888,\"#fdca26\"],[1.0,\"#f0f921\"]]}],\"mesh3d\":[{\"type\":\"mesh3d\",\"colorbar\":{\"outlinewidth\":0,\"ticks\":\"\"}}],\"scatter\":[{\"fillpattern\":{\"fillmode\":\"overlay\",\"size\":10,\"solidity\":0.2},\"type\":\"scatter\"}],\"parcoords\":[{\"type\":\"parcoords\",\"line\":{\"colorbar\":{\"outlinewidth\":0,\"ticks\":\"\"}}}],\"scatterpolargl\":[{\"type\":\"scatterpolargl\",\"marker\":{\"colorbar\":{\"outlinewidth\":0,\"ticks\":\"\"}}}],\"bar\":[{\"error_x\":{\"color\":\"#2a3f5f\"},\"error_y\":{\"color\":\"#2a3f5f\"},\"marker\":{\"line\":{\"color\":\"#E5ECF6\",\"width\":0.5},\"pattern\":{\"fillmode\":\"overlay\",\"size\":10,\"solidity\":0.2}},\"type\":\"bar\"}],\"scattergeo\":[{\"type\":\"scattergeo\",\"marker\":{\"colorbar\":{\"outlinewidth\":0,\"ticks\":\"\"}}}],\"scatterpolar\":[{\"type\":\"scatterpolar\",\"marker\":{\"colorbar\":{\"outlinewidth\":0,\"ticks\":\"\"}}}],\"histogram\":[{\"marker\":{\"pattern\":{\"fillmode\":\"overlay\",\"size\":10,\"solidity\":0.2}},\"type\":\"histogram\"}],\"scattergl\":[{\"type\":\"scattergl\",\"marker\":{\"colorbar\":{\"outlinewidth\":0,\"ticks\":\"\"}}}],\"scatter3d\":[{\"type\":\"scatter3d\",\"line\":{\"colorbar\":{\"outlinewidth\":0,\"ticks\":\"\"}},\"marker\":{\"colorbar\":{\"outlinewidth\":0,\"ticks\":\"\"}}}],\"scattermapbox\":[{\"type\":\"scattermapbox\",\"marker\":{\"colorbar\":{\"outlinewidth\":0,\"ticks\":\"\"}}}],\"scatterternary\":[{\"type\":\"scatterternary\",\"marker\":{\"colorbar\":{\"outlinewidth\":0,\"ticks\":\"\"}}}],\"scattercarpet\":[{\"type\":\"scattercarpet\",\"marker\":{\"colorbar\":{\"outlinewidth\":0,\"ticks\":\"\"}}}],\"carpet\":[{\"aaxis\":{\"endlinecolor\":\"#2a3f5f\",\"gridcolor\":\"white\",\"linecolor\":\"white\",\"minorgridcolor\":\"white\",\"startlinecolor\":\"#2a3f5f\"},\"baxis\":{\"endlinecolor\":\"#2a3f5f\",\"gridcolor\":\"white\",\"linecolor\":\"white\",\"minorgridcolor\":\"white\",\"startlinecolor\":\"#2a3f5f\"},\"type\":\"carpet\"}],\"table\":[{\"cells\":{\"fill\":{\"color\":\"#EBF0F8\"},\"line\":{\"color\":\"white\"}},\"header\":{\"fill\":{\"color\":\"#C8D4E3\"},\"line\":{\"color\":\"white\"}},\"type\":\"table\"}],\"barpolar\":[{\"marker\":{\"line\":{\"color\":\"#E5ECF6\",\"width\":0.5},\"pattern\":{\"fillmode\":\"overlay\",\"size\":10,\"solidity\":0.2}},\"type\":\"barpolar\"}],\"pie\":[{\"automargin\":true,\"type\":\"pie\"}]},\"layout\":{\"autotypenumbers\":\"strict\",\"colorway\":[\"#636efa\",\"#EF553B\",\"#00cc96\",\"#ab63fa\",\"#FFA15A\",\"#19d3f3\",\"#FF6692\",\"#B6E880\",\"#FF97FF\",\"#FECB52\"],\"font\":{\"color\":\"#2a3f5f\"},\"hovermode\":\"closest\",\"hoverlabel\":{\"align\":\"left\"},\"paper_bgcolor\":\"white\",\"plot_bgcolor\":\"#E5ECF6\",\"polar\":{\"bgcolor\":\"#E5ECF6\",\"angularaxis\":{\"gridcolor\":\"white\",\"linecolor\":\"white\",\"ticks\":\"\"},\"radialaxis\":{\"gridcolor\":\"white\",\"linecolor\":\"white\",\"ticks\":\"\"}},\"ternary\":{\"bgcolor\":\"#E5ECF6\",\"aaxis\":{\"gridcolor\":\"white\",\"linecolor\":\"white\",\"ticks\":\"\"},\"baxis\":{\"gridcolor\":\"white\",\"linecolor\":\"white\",\"ticks\":\"\"},\"caxis\":{\"gridcolor\":\"white\",\"linecolor\":\"white\",\"ticks\":\"\"}},\"coloraxis\":{\"colorbar\":{\"outlinewidth\":0,\"ticks\":\"\"}},\"colorscale\":{\"sequential\":[[0.0,\"#0d0887\"],[0.1111111111111111,\"#46039f\"],[0.2222222222222222,\"#7201a8\"],[0.3333333333333333,\"#9c179e\"],[0.4444444444444444,\"#bd3786\"],[0.5555555555555556,\"#d8576b\"],[0.6666666666666666,\"#ed7953\"],[0.7777777777777778,\"#fb9f3a\"],[0.8888888888888888,\"#fdca26\"],[1.0,\"#f0f921\"]],\"sequentialminus\":[[0.0,\"#0d0887\"],[0.1111111111111111,\"#46039f\"],[0.2222222222222222,\"#7201a8\"],[0.3333333333333333,\"#9c179e\"],[0.4444444444444444,\"#bd3786\"],[0.5555555555555556,\"#d8576b\"],[0.6666666666666666,\"#ed7953\"],[0.7777777777777778,\"#fb9f3a\"],[0.8888888888888888,\"#fdca26\"],[1.0,\"#f0f921\"]],\"diverging\":[[0,\"#8e0152\"],[0.1,\"#c51b7d\"],[0.2,\"#de77ae\"],[0.3,\"#f1b6da\"],[0.4,\"#fde0ef\"],[0.5,\"#f7f7f7\"],[0.6,\"#e6f5d0\"],[0.7,\"#b8e186\"],[0.8,\"#7fbc41\"],[0.9,\"#4d9221\"],[1,\"#276419\"]]},\"xaxis\":{\"gridcolor\":\"white\",\"linecolor\":\"white\",\"ticks\":\"\",\"title\":{\"standoff\":15},\"zerolinecolor\":\"white\",\"automargin\":true,\"zerolinewidth\":2},\"yaxis\":{\"gridcolor\":\"white\",\"linecolor\":\"white\",\"ticks\":\"\",\"title\":{\"standoff\":15},\"zerolinecolor\":\"white\",\"automargin\":true,\"zerolinewidth\":2},\"scene\":{\"xaxis\":{\"backgroundcolor\":\"#E5ECF6\",\"gridcolor\":\"white\",\"linecolor\":\"white\",\"showbackground\":true,\"ticks\":\"\",\"zerolinecolor\":\"white\",\"gridwidth\":2},\"yaxis\":{\"backgroundcolor\":\"#E5ECF6\",\"gridcolor\":\"white\",\"linecolor\":\"white\",\"showbackground\":true,\"ticks\":\"\",\"zerolinecolor\":\"white\",\"gridwidth\":2},\"zaxis\":{\"backgroundcolor\":\"#E5ECF6\",\"gridcolor\":\"white\",\"linecolor\":\"white\",\"showbackground\":true,\"ticks\":\"\",\"zerolinecolor\":\"white\",\"gridwidth\":2}},\"shapedefaults\":{\"line\":{\"color\":\"#2a3f5f\"}},\"annotationdefaults\":{\"arrowcolor\":\"#2a3f5f\",\"arrowhead\":0,\"arrowwidth\":1},\"geo\":{\"bgcolor\":\"white\",\"landcolor\":\"#E5ECF6\",\"subunitcolor\":\"white\",\"showland\":true,\"showlakes\":true,\"lakecolor\":\"white\"},\"title\":{\"x\":0.05},\"mapbox\":{\"style\":\"light\"}}},\"title\":{\"text\":\"Real vs. Synthetic dataset for Salary (CTGAN 1000 epochs)\"},\"plot_bgcolor\":\"#F5F5F8\"},                        {\"responsive\": true}                    ).then(function(){\n",
       "                            \n",
       "var gd = document.getElementById('0577be3d-c75c-4083-8e9c-0163305d639a');\n",
       "var x = new MutationObserver(function (mutations, observer) {{\n",
       "        var display = window.getComputedStyle(gd).display;\n",
       "        if (!display || display === 'none') {{\n",
       "            console.log([gd, 'removed!']);\n",
       "            Plotly.purge(gd);\n",
       "            observer.disconnect();\n",
       "        }}\n",
       "}});\n",
       "\n",
       "// Listen for the removal of the full notebook cells\n",
       "var notebookContainer = gd.closest('#notebook-container');\n",
       "if (notebookContainer) {{\n",
       "    x.observe(notebookContainer, {childList: true});\n",
       "}}\n",
       "\n",
       "// Listen for the clearing of the current output cell\n",
       "var outputEl = gd.closest('.output');\n",
       "if (outputEl) {{\n",
       "    x.observe(outputEl, {childList: true});\n",
       "}}\n",
       "\n",
       "                        })                };                });            </script>        </div>"
      ]
     },
     "metadata": {},
     "output_type": "display_data"
    }
   ],
   "source": [
    "fig = utils.get_column_plot(\n",
    "    real_data=pd.read_csv(\"20230308_Updated_HR_dataset.csv\"),\n",
    "    synthetic_data=pd.read_csv(\"synthetic_dataset_CTGAN_1000epochs.csv\"),\n",
    "    column_name=\"Salary\",\n",
    "    metadata=json.load(open(\"metadata.json\", \"r\"))\n",
    "    \n",
    ")\n",
    "fig.update_layout(title=\"Real vs. Synthetic dataset for Salary (CTGAN 1000 epochs)\")\n",
    "fig.show()"
   ]
  },
  {
   "cell_type": "markdown",
   "id": "355c27e3",
   "metadata": {},
   "source": [
    "### Correlations Similarity between Years in Company and Termination Status"
   ]
  },
  {
   "cell_type": "markdown",
   "id": "a245cac3",
   "metadata": {},
   "source": [
    "### CTGAN"
   ]
  },
  {
   "cell_type": "code",
   "execution_count": 11,
   "id": "2376e5e6",
   "metadata": {},
   "outputs": [
    {
     "data": {
      "text/plain": [
       "0.599584730645397"
      ]
     },
     "execution_count": 11,
     "metadata": {},
     "output_type": "execute_result"
    }
   ],
   "source": [
    "real_data = pd.read_csv(\"20230308_Updated_HR_dataset.csv\")\n",
    "synthetic_data=pd.read_csv(\"synthetic_dataset_CTGAN_epochs2000.csv\")\n",
    "\n",
    "CorrelationSimilarity.compute(\n",
    "    real_data=real_data[[\"YearsinCompany\", \"Termd\"]],\n",
    "    synthetic_data=synthetic_data[[\"YearsinCompany\", \"Termd\"]],\n",
    "    coefficient=\"Pearson\"\n",
    ")"
   ]
  },
  {
   "cell_type": "markdown",
   "id": "33c907b5",
   "metadata": {},
   "source": [
    "### CopulaGAN"
   ]
  },
  {
   "cell_type": "code",
   "execution_count": 14,
   "id": "cbcbc7a2",
   "metadata": {
    "scrolled": true
   },
   "outputs": [
    {
     "data": {
      "text/plain": [
       "0.5948542430117618"
      ]
     },
     "execution_count": 14,
     "metadata": {},
     "output_type": "execute_result"
    }
   ],
   "source": [
    "real_data = pd.read_csv(\"20230308_Updated_HR_dataset.csv\")\n",
    "synthetic_data=pd.read_csv(\"synthetic_dataset_CopulaGANepochs2000.csv\")\n",
    "\n",
    "CorrelationSimilarity.compute(\n",
    "    real_data=real_data[[\"YearsinCompany\", \"Termd\"]],\n",
    "    synthetic_data=synthetic_data[[\"YearsinCompany\", \"Termd\"]],\n",
    "    coefficient=\"Pearson\"\n",
    ")"
   ]
  },
  {
   "cell_type": "markdown",
   "id": "602b474d",
   "metadata": {},
   "source": [
    "# Documentation Sources for Reference"
   ]
  },
  {
   "cell_type": "markdown",
   "id": "656ccabe",
   "metadata": {},
   "source": [
    "CTGAN: https://sdv.dev/SDV/user_guides/single_table/ctgan.html\n",
    "https://docs.sdv.dev/sdv/\n",
    "CopulaGAN: https://sdv.dev/SDV/user_guides/single_table/copulagan.html\n",
    "ADASYN: http://glemaitre.github.io/imbalanced-learn/generated/imblearn.over_sampling.ADASYN.html"
   ]
  }
 ],
 "metadata": {
  "kernelspec": {
   "display_name": "Python 3 (ipykernel)",
   "language": "python",
   "name": "python3"
  },
  "language_info": {
   "codemirror_mode": {
    "name": "ipython",
    "version": 3
   },
   "file_extension": ".py",
   "mimetype": "text/x-python",
   "name": "python",
   "nbconvert_exporter": "python",
   "pygments_lexer": "ipython3",
   "version": "3.9.16"
  }
 },
 "nbformat": 4,
 "nbformat_minor": 5
}
